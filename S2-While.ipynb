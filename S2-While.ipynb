{
 "cells": [
  {
   "cell_type": "markdown",
   "id": "891aabdf-5ee3-4d04-9c9d-eb940722b436",
   "metadata": {},
   "source": [
    "Test While"
   ]
  },
  {
   "cell_type": "code",
   "execution_count": 1,
   "id": "bd164051-7497-4c3d-9df6-2a395c14bc81",
   "metadata": {},
   "outputs": [
    {
     "name": "stdout",
     "output_type": "stream",
     "text": [
      "4\n",
      "3\n",
      "Loop ended.\n"
     ]
    }
   ],
   "source": [
    "n = 5\n",
    "while n>0:\n",
    "    n -= 1\n",
    "    if n == 2:\n",
    "        break\n",
    "    print(n)\n",
    "print('Loop ended.')"
   ]
  },
  {
   "cell_type": "code",
   "execution_count": 2,
   "id": "7860f88e-bcd7-4e23-a173-b21b49af0af6",
   "metadata": {},
   "outputs": [
    {
     "name": "stdout",
     "output_type": "stream",
     "text": [
      "4\n",
      "3\n",
      "1\n",
      "0\n",
      "Loop ended\n"
     ]
    }
   ],
   "source": [
    "n = 5\n",
    "while n>0:\n",
    "    n -= 1\n",
    "    if n == 2:\n",
    "        continue\n",
    "    print(n)\n",
    "print('Loop ended')"
   ]
  },
  {
   "cell_type": "code",
   "execution_count": 4,
   "id": "479d052d-c6e3-4940-8a61-2c621f260fa0",
   "metadata": {},
   "outputs": [
    {
     "name": "stdout",
     "output_type": "stream",
     "text": [
      "('foo', 1)\n",
      "('bar', 2)\n",
      "('baz', 3)\n"
     ]
    }
   ],
   "source": [
    "d={'foo':1, 'bar': 2, 'baz':3}\n",
    "for k in d.items():\n",
    "    print(k)"
   ]
  },
  {
   "cell_type": "code",
   "execution_count": 5,
   "id": "6263222d-c271-48b8-8ad1-dd28543cbe79",
   "metadata": {},
   "outputs": [
    {
     "data": {
      "text/plain": [
       "('baz', 3)"
      ]
     },
     "execution_count": 5,
     "metadata": {},
     "output_type": "execute_result"
    }
   ],
   "source": [
    "k"
   ]
  },
  {
   "cell_type": "code",
   "execution_count": 6,
   "id": "86b6fcfc-fc3b-40ec-874f-336a5647f0ee",
   "metadata": {},
   "outputs": [
    {
     "name": "stdout",
     "output_type": "stream",
     "text": [
      "1\n",
      "2\n",
      "3\n"
     ]
    }
   ],
   "source": [
    "for k in d:\n",
    "    print(d[k])"
   ]
  },
  {
   "cell_type": "code",
   "execution_count": 8,
   "id": "249417a3-53cf-4ef4-b874-f0d70f72ad5f",
   "metadata": {},
   "outputs": [
    {
     "name": "stdout",
     "output_type": "stream",
     "text": [
      "1\n",
      "2\n",
      "3\n"
     ]
    }
   ],
   "source": [
    "for v in d.values():\n",
    "    print(v)"
   ]
  },
  {
   "cell_type": "code",
   "execution_count": 12,
   "id": "f830c0d6-508e-4e6c-990d-c12c5122ecdb",
   "metadata": {},
   "outputs": [
    {
     "name": "stdout",
     "output_type": "stream",
     "text": [
      "foo is equal to 1\n",
      "bar is equal to 2\n",
      "baz is equal to 3\n"
     ]
    }
   ],
   "source": [
    "for k, v in d.items():\n",
    "    print(k, \"is equal to\", v)"
   ]
  },
  {
   "cell_type": "code",
   "execution_count": null,
   "id": "2bf34d02-599c-40f6-b737-773b9ca8f28a",
   "metadata": {},
   "outputs": [],
   "source": []
  }
 ],
 "metadata": {
  "kernelspec": {
   "display_name": "Python 3 (ipykernel)",
   "language": "python",
   "name": "python3"
  },
  "language_info": {
   "codemirror_mode": {
    "name": "ipython",
    "version": 3
   },
   "file_extension": ".py",
   "mimetype": "text/x-python",
   "name": "python",
   "nbconvert_exporter": "python",
   "pygments_lexer": "ipython3",
   "version": "3.9.7"
  }
 },
 "nbformat": 4,
 "nbformat_minor": 5
}
