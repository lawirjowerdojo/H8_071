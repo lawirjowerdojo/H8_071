{
 "cells": [
  {
   "cell_type": "markdown",
   "id": "c23e0d80-4114-4e29-b472-1165ab776106",
   "metadata": {},
   "source": [
    "## Session 3 - 1 Mar 2022\n",
    "LWirjowerdojo - PYTN071ONL010"
   ]
  },
  {
   "cell_type": "code",
   "execution_count": 1,
   "id": "19533f2b-7120-4c76-ab04-eb3f06ba8b86",
   "metadata": {},
   "outputs": [],
   "source": [
    "def cekTiketPesawat():\n",
    "    umur= 20\n",
    "    saldo = 200000\n",
    "    harga = 200000\n",
    "    \n",
    "    if (umur>=17):\n",
    "        print(\"You can buy as you are\", umur, \"years old\")\n",
    "        if (saldo >= harga):\n",
    "            print(\"You can buy as you have\", saldo, \"and the price is\")\n",
    "        else:\n",
    "            print(\"You have insuafficient funds\")\n",
    "    else:\n",
    "        print(\"You are not old enough\")"
   ]
  },
  {
   "cell_type": "code",
   "execution_count": 3,
   "id": "68945007-3c2d-4689-8028-dab169f17437",
   "metadata": {},
   "outputs": [
    {
     "name": "stdout",
     "output_type": "stream",
     "text": [
      "You can buy as you are  20 years old\n",
      "You can buy as you have 200000 and the price is\n"
     ]
    }
   ],
   "source": [
    "cekTiketPesawat()"
   ]
  },
  {
   "cell_type": "code",
   "execution_count": 6,
   "id": "80f31c2b-1c92-4079-91e8-4c5e93a8b10f",
   "metadata": {},
   "outputs": [],
   "source": [
    "def cekTiketPesawat(umur, saldo, harga):\n",
    "    if (umur>=17):\n",
    "        print(\"You can buy as you are\", umur, \"years old\")\n",
    "        if (saldo >= harga):\n",
    "            print(\"You can buy as you have\", saldo, \"and the price is\")\n",
    "        else:\n",
    "            print(\"You have insufficient funds\")\n",
    "    else:\n",
    "        print(\"You are not old enough\")"
   ]
  },
  {
   "cell_type": "code",
   "execution_count": 8,
   "id": "e66b0a61-1b0f-4069-a1fb-5ade4c1d1007",
   "metadata": {},
   "outputs": [
    {
     "name": "stdout",
     "output_type": "stream",
     "text": [
      "You can buy as you are 30 years old\n",
      "You can buy as you have 200000 and the price is\n"
     ]
    }
   ],
   "source": [
    "cekTiketPesawat(30, 200000, 200000)"
   ]
  },
  {
   "cell_type": "markdown",
   "id": "0cc50abd-8940-4f7c-b96e-1ad05212ce2e",
   "metadata": {},
   "source": [
    "### Must include arguments"
   ]
  },
  {
   "cell_type": "code",
   "execution_count": 26,
   "id": "1ab983c8-3bc1-476e-b08c-91ba608e6f4b",
   "metadata": {},
   "outputs": [
    {
     "ename": "SyntaxError",
     "evalue": "'return' outside function (3245464812.py, line 11)",
     "output_type": "error",
     "traceback": [
      "\u001b[0;36m  File \u001b[0;32m\"/tmp/ipykernel_944/3245464812.py\"\u001b[0;36m, line \u001b[0;32m11\u001b[0m\n\u001b[0;31m    return org\u001b[0m\n\u001b[0m    ^\u001b[0m\n\u001b[0;31mSyntaxError\u001b[0m\u001b[0;31m:\u001b[0m 'return' outside function\n"
     ]
    }
   ],
   "source": [
    "buyerslist=[\n",
    "    {\"umur\": 20,\"saldo\": 125000,\"harga\":250000},\n",
    "    {\"umur\": 21,\"saldo\": 115000,\"harga\":500000},\n",
    "    {\"umur\": 22,\"saldo\": 175000,\"harga\":75000},\n",
    "    {\"umur\": 23,\"saldo\": 200000,\"harga\":250000},\n",
    "    {\"umur\": 24,\"saldo\": 225000,\"harga\":250000},\n",
    "]\n",
    "\n",
    "for org in buyerslist:\n",
    "    cekTiketPesawat(org['umur'], org['saldo'], org['harga'])\n",
    "    return org"
   ]
  },
  {
   "cell_type": "markdown",
   "id": "60e36557-615d-41d3-9da7-5dd18ea4ff8f",
   "metadata": {},
   "source": [
    "### Pass by reference vs Pass by value\n",
    "Pass by reference: giving nickname; additional name to the same object\n",
    "Pass by value: create a new data/new object using the same value"
   ]
  },
  {
   "cell_type": "code",
   "execution_count": 11,
   "id": "251cc83b-ec5d-4f94-b9d4-d9d219ae0901",
   "metadata": {},
   "outputs": [
    {
     "name": "stdout",
     "output_type": "stream",
     "text": [
      "apple\n"
     ]
    }
   ],
   "source": [
    "# pass by value\n",
    "# for: string, int, float,bool\n",
    "buah = \"apple\"\n",
    "\n",
    "buah_copy=buah # creating a new object using the same value \n",
    "\n",
    "buah_copy=\"mangga\"\n",
    "\n",
    "print(buah)"
   ]
  },
  {
   "cell_type": "code",
   "execution_count": 13,
   "id": "d0f68f55-767a-470d-b9e5-b5b6c83283a2",
   "metadata": {},
   "outputs": [
    {
     "name": "stdout",
     "output_type": "stream",
     "text": [
      "['mangga']\n"
     ]
    }
   ],
   "source": [
    "# pass by reference\n",
    "# for structured data: dictionary, list, tuple\n",
    "list_buah=[\"apple\"]\n",
    "list_buah_copy=list_buah\n",
    "\n",
    "list_buah_copy[0]=\"mangga\"\n",
    "print(list_buah)"
   ]
  },
  {
   "cell_type": "code",
   "execution_count": 15,
   "id": "f29904f8-1bbc-4bbe-a7f1-39199ed344b1",
   "metadata": {},
   "outputs": [
    {
     "name": "stdout",
     "output_type": "stream",
     "text": [
      "['mangga', 'pisang']\n"
     ]
    }
   ],
   "source": [
    "list_buah.append(\"pisang\")\n",
    "print(list_buah_copy)\n",
    "\n",
    "list_buah_copy_copy=list_buah.copy()\n",
    "list_buah_copy_copy[0]=\"duku\""
   ]
  },
  {
   "cell_type": "code",
   "execution_count": 17,
   "id": "563a22d1-a2d7-46f9-97f1-1f6eadd9d1e9",
   "metadata": {},
   "outputs": [
    {
     "name": "stdout",
     "output_type": "stream",
     "text": [
      "['mangga', 'pisang']\n",
      "['mangga', 'pisang']\n",
      "['duku', 'pisang']\n"
     ]
    }
   ],
   "source": [
    "print(list_buah)\n",
    "print(list_buah_copy)\n",
    "print(list_buah_copy_copy)"
   ]
  },
  {
   "cell_type": "code",
   "execution_count": 19,
   "id": "e1524b11-68e6-465b-ad97-a80d9dfba4c7",
   "metadata": {},
   "outputs": [],
   "source": [
    "# Pass by reference using function\n",
    "def ubahJadiTitleCase(list_string):\n",
    "    index=0\n",
    "    for s in list_string:\n",
    "        list_string[index]=s.title()\n",
    "        index+=1"
   ]
  },
  {
   "cell_type": "code",
   "execution_count": 20,
   "id": "a9ccd938-4d51-4eb1-92da-70f667df651c",
   "metadata": {},
   "outputs": [
    {
     "name": "stdout",
     "output_type": "stream",
     "text": [
      "['Harry Potter', 'Oregon', \"Time Traveller'S Wife\"]\n"
     ]
    }
   ],
   "source": [
    "judul_buku=[\"harry potter\", \"oregon\",\"time traveller's wife\"]\n",
    "\n",
    "ubahJadiTitleCase(judul_buku)\n",
    "\n",
    "print(judul_buku)"
   ]
  },
  {
   "cell_type": "markdown",
   "id": "92eeaac9-5b4f-47c5-aae3-104541138e03",
   "metadata": {},
   "source": [
    "### Pass by reference example"
   ]
  },
  {
   "cell_type": "code",
   "execution_count": 21,
   "id": "1e1c896b-bd49-4ec2-ad63-4d994bc6e930",
   "metadata": {},
   "outputs": [],
   "source": [
    "def nambahBuah(lb, tambahan):\n",
    "    lb_copy=lb.copy()\n",
    "    lb_copy.append(tambahan)\n",
    "    print(lb_copy)"
   ]
  },
  {
   "cell_type": "code",
   "execution_count": 22,
   "id": "891584d0-9ed6-4b5e-84d2-ce6bd24b4d9b",
   "metadata": {},
   "outputs": [
    {
     "name": "stdout",
     "output_type": "stream",
     "text": [
      "['mangga', 'pisang']\n"
     ]
    }
   ],
   "source": [
    "print(list_buah)"
   ]
  },
  {
   "cell_type": "code",
   "execution_count": 23,
   "id": "44e00679-2aeb-4773-bb1e-106918f0cf66",
   "metadata": {},
   "outputs": [
    {
     "name": "stdout",
     "output_type": "stream",
     "text": [
      "['mangga', 'pisang', 'semangka']\n"
     ]
    }
   ],
   "source": [
    "nambahBuah(list_buah, \"semangka\")"
   ]
  },
  {
   "cell_type": "code",
   "execution_count": 29,
   "id": "23fd82c9-05bf-4726-9a6c-03be393242b3",
   "metadata": {},
   "outputs": [
    {
     "data": {
      "text/plain": [
       "['mangga', 'pisang', ['semangga', 'duku', 'duren']]"
      ]
     },
     "execution_count": 29,
     "metadata": {},
     "output_type": "execute_result"
    }
   ],
   "source": [
    "nambahBuah(list_buah,[\"semangga\",\"duku\",\"duren\"])"
   ]
  },
  {
   "cell_type": "code",
   "execution_count": 17,
   "id": "a0a7a1af-daa0-4b05-ad14-6305ad3096cb",
   "metadata": {},
   "outputs": [],
   "source": [
    "judul_buku=[\"harry potter\", \"eragon\", \"time traveler's wife\"]\n",
    "\n",
    "# change the list to Title Case\n",
    "def ubahJadiTitleCase(list_string):\n",
    "    # for every string item within the list, we change it to Title Case and replace the original list\n",
    "    index=0\n",
    "    for s in list_string:\n",
    "        list_string[index]=s.title()\n",
    "        index += 1"
   ]
  },
  {
   "cell_type": "code",
   "execution_count": 19,
   "id": "13556127-a80d-486c-9004-b8390e7c3f0b",
   "metadata": {},
   "outputs": [
    {
     "name": "stdout",
     "output_type": "stream",
     "text": [
      "['Harry Potter', 'Eragon', \"Time Traveler'S Wife\"]\n"
     ]
    }
   ],
   "source": [
    "ubahJadiTitleCase(judul_buku)\n",
    "print(judul_buku)"
   ]
  },
  {
   "cell_type": "code",
   "execution_count": 21,
   "id": "a7333989-dd75-4f7d-ba71-e085d326f1b8",
   "metadata": {},
   "outputs": [
    {
     "name": "stdout",
     "output_type": "stream",
     "text": [
      "['mangga', 'apel']\n"
     ]
    }
   ],
   "source": [
    "# good practice: not to change the original list\n",
    "list_buah=[\"mangga\", \"apel\"]\n",
    "print(list_buah)"
   ]
  },
  {
   "cell_type": "code",
   "execution_count": 22,
   "id": "d9b7f6a8-98d7-4a1a-bfa6-8898d74ef6d8",
   "metadata": {},
   "outputs": [],
   "source": [
    "def nambahBuah(lb, add):\n",
    "    lb.append(add)"
   ]
  },
  {
   "cell_type": "code",
   "execution_count": 23,
   "id": "8c111528-c815-4bf1-95da-383042003286",
   "metadata": {},
   "outputs": [],
   "source": [
    "nambahBuah(list_buah,\"duren\")"
   ]
  },
  {
   "cell_type": "code",
   "execution_count": 24,
   "id": "ebcf6551-9638-414b-9e5f-2abeee9e1a41",
   "metadata": {},
   "outputs": [
    {
     "name": "stdout",
     "output_type": "stream",
     "text": [
      "['mangga', 'apel', 'duren']\n"
     ]
    }
   ],
   "source": [
    "print(list_buah)"
   ]
  },
  {
   "cell_type": "code",
   "execution_count": 33,
   "id": "2567eaa0-894c-4400-9b75-3114efd9aba2",
   "metadata": {},
   "outputs": [],
   "source": [
    "# good practice: not changing the original data\n",
    "\n",
    "lb_copy=[]\n",
    "def nambahBuah(lb, add):\n",
    "    lb_copy=lb.copy()\n",
    "    lb_copy.append(add)\n",
    "    print(lb_copy)\n",
    "print(lb_copy)"
   ]
  },
  {
   "cell_type": "code",
   "execution_count": 27,
   "id": "39a78825-3e9e-4826-aa8a-c4503a82a3ae",
   "metadata": {},
   "outputs": [
    {
     "name": "stdout",
     "output_type": "stream",
     "text": [
      "['mangga', 'apel', 'duren', ('jeruk', 'pisang')]\n"
     ]
    }
   ],
   "source": [
    "nambahBuah(list_buah,(\"jeruk\",\"pisang\"))"
   ]
  },
  {
   "cell_type": "code",
   "execution_count": 34,
   "id": "71d073a7-d9cc-4dac-9807-e668f23b9d8e",
   "metadata": {},
   "outputs": [
    {
     "name": "stdout",
     "output_type": "stream",
     "text": [
      "['mangga', 'apel', 'duren']\n",
      "[]\n"
     ]
    }
   ],
   "source": [
    "print(list_buah)\n",
    "print(lb_copy)"
   ]
  },
  {
   "cell_type": "markdown",
   "id": "38a5e056-e1bf-4726-835c-e6d55a4d3bc9",
   "metadata": {},
   "source": [
    "### Return\n",
    "- Without changing the original data\n",
    "- Return will return the data back to its original"
   ]
  },
  {
   "cell_type": "code",
   "execution_count": 25,
   "id": "137049f3-b24a-43e9-bfc5-8541889c7d35",
   "metadata": {},
   "outputs": [],
   "source": [
    "def nambahBuah(lb, tambahan):\n",
    "    lb_copy=lb.copy()\n",
    "    lb_copy.append(tambahan)\n",
    "    return lb_copy"
   ]
  },
  {
   "cell_type": "code",
   "execution_count": 26,
   "id": "614f4a87-f196-4314-89a4-f9e83de5b442",
   "metadata": {},
   "outputs": [
    {
     "name": "stdout",
     "output_type": "stream",
     "text": [
      "['mangga', 'pisang']\n"
     ]
    }
   ],
   "source": [
    "print(list_buah)"
   ]
  },
  {
   "cell_type": "code",
   "execution_count": 27,
   "id": "6dc9e034-ea5e-4642-a570-5c6e86b0cb5c",
   "metadata": {},
   "outputs": [],
   "source": [
    "list_baru=nambahBuah(list_buah, \"jeruk\")  # creating a new list"
   ]
  },
  {
   "cell_type": "code",
   "execution_count": 28,
   "id": "22872328-3bc2-4694-8443-2e1d5f4e0557",
   "metadata": {},
   "outputs": [
    {
     "name": "stdout",
     "output_type": "stream",
     "text": [
      "['mangga', 'pisang', 'jeruk']\n"
     ]
    }
   ],
   "source": [
    "print(list_baru)"
   ]
  },
  {
   "cell_type": "code",
   "execution_count": 30,
   "id": "794bffae-56b1-4947-9989-df41964bee94",
   "metadata": {},
   "outputs": [],
   "source": [
    "def greetings():\n",
    "    print(\"Hello\")"
   ]
  },
  {
   "cell_type": "code",
   "execution_count": 31,
   "id": "e72aac71-802f-4715-aad3-09c687fcdb94",
   "metadata": {},
   "outputs": [
    {
     "name": "stdout",
     "output_type": "stream",
     "text": [
      "Hello\n"
     ]
    }
   ],
   "source": [
    "hasil=greetings()"
   ]
  },
  {
   "cell_type": "code",
   "execution_count": 33,
   "id": "19e33250-8352-4125-bc71-d8fd0727fdb2",
   "metadata": {},
   "outputs": [
    {
     "name": "stdout",
     "output_type": "stream",
     "text": [
      "None\n"
     ]
    }
   ],
   "source": [
    "print(hasil)"
   ]
  },
  {
   "cell_type": "code",
   "execution_count": 36,
   "id": "b49ae13f-ad0d-4796-aed1-9e5de1ba2b07",
   "metadata": {},
   "outputs": [],
   "source": [
    "def greetingsReturn():\n",
    "    print(\"Hello\") # by calling the function, it will print this out\n",
    "    return \"Hai\" # by calling the variable equal to the function, it will print this out"
   ]
  },
  {
   "cell_type": "code",
   "execution_count": 37,
   "id": "b6be8c19-700e-4619-97db-34c103ba6c8a",
   "metadata": {},
   "outputs": [
    {
     "name": "stdout",
     "output_type": "stream",
     "text": [
      "Hello\n"
     ]
    }
   ],
   "source": [
    "hasil=greetingsReturn()"
   ]
  },
  {
   "cell_type": "code",
   "execution_count": 38,
   "id": "5927dcd4-b26f-4dbd-aff7-f72d9527f9c8",
   "metadata": {},
   "outputs": [
    {
     "name": "stdout",
     "output_type": "stream",
     "text": [
      "Hai\n"
     ]
    }
   ],
   "source": [
    "print(hasil)"
   ]
  },
  {
   "cell_type": "markdown",
   "id": "2bfc4891-8046-47eb-891a-8e200c72e87b",
   "metadata": {},
   "source": [
    "#### Practice\n",
    "Create a function that takes 2 arguments; name and greetings (Pak/Bu). This function will print out: Selamat pagi, Pak/Bu, name"
   ]
  },
  {
   "cell_type": "code",
   "execution_count": 9,
   "id": "04f5cdb0-ff07-40ec-8295-7e9cb6b04202",
   "metadata": {},
   "outputs": [],
   "source": [
    "def greet(name, honorifics):\n",
    "    print(\"Good morning\", honorifics, name)"
   ]
  },
  {
   "cell_type": "code",
   "execution_count": 11,
   "id": "f05c0e3e-df70-413e-a6ec-6ef7600ca2a8",
   "metadata": {},
   "outputs": [
    {
     "name": "stdout",
     "output_type": "stream",
     "text": [
      "Good morning Ms Karen\n"
     ]
    }
   ],
   "source": [
    "greet(\"Karen\", \"Ms\")"
   ]
  },
  {
   "cell_type": "code",
   "execution_count": 12,
   "id": "4f7f41b5-2c36-45a6-a7c6-009d4151e4db",
   "metadata": {},
   "outputs": [],
   "source": [
    "names=[\n",
    "    {\"name\": \"Sarah\",\"honorifics\":\"Ms\"},\n",
    "    {\"name\": \"Tania\",\"honorifics\":\"Ms\"},\n",
    "    {\"name\": \"Jack\",\"honorifics\":\"Mr\"},\n",
    "]"
   ]
  },
  {
   "cell_type": "code",
   "execution_count": 14,
   "id": "eee16086-a411-4af8-884a-1f55c88944f9",
   "metadata": {},
   "outputs": [
    {
     "name": "stdout",
     "output_type": "stream",
     "text": [
      "Good morning Ms Sarah\n",
      "Good morning Ms Tania\n",
      "Good morning Mr Jack\n"
     ]
    }
   ],
   "source": [
    "for n in names:\n",
    "    greet(n['name'], n['honorifics'])"
   ]
  },
  {
   "cell_type": "markdown",
   "id": "6ae84fde-e4d6-4364-8635-1f0f75ec91ec",
   "metadata": {},
   "source": [
    "### Scope of variable (Video: 1.28)\n",
    "Importance level of variable"
   ]
  },
  {
   "cell_type": "code",
   "execution_count": 40,
   "id": "9893d818-6dfa-4c54-a6f8-37c2bc76e68b",
   "metadata": {},
   "outputs": [],
   "source": [
    "a = 17 # global\n",
    "b = 15\n",
    "\n",
    "def tambah (a,b):\n",
    "    print(\"a in this function\", a)\n",
    "    print(\"b in this function\", b)\n",
    "    \n",
    "    c=9 \n",
    "    print(\"c in this function\", c)\n",
    "    \n",
    "    return a+b"
   ]
  },
  {
   "cell_type": "code",
   "execution_count": 41,
   "id": "a36a6cdc-e618-465a-8d0b-f09a5507b04c",
   "metadata": {},
   "outputs": [
    {
     "name": "stdout",
     "output_type": "stream",
     "text": [
      "17\n"
     ]
    }
   ],
   "source": [
    "print(a)"
   ]
  },
  {
   "cell_type": "markdown",
   "id": "5ed1221a-ce59-46df-987c-9ebabf4ab6ed",
   "metadata": {},
   "source": [
    "### Function arguments (Video: 1.04):\n",
    "- Required arguments\n",
    "- Keyword arguments\n",
    "- Default arguments\n",
    "- Variable length arguments"
   ]
  },
  {
   "cell_type": "code",
   "execution_count": 35,
   "id": "64823c09-3200-4393-8d5a-831006930b8b",
   "metadata": {},
   "outputs": [],
   "source": [
    "# Two required arguments\n",
    "def sapa(nama, panggilan):\n",
    "    print(\"selamat pagi\", panggilan, nama)"
   ]
  },
  {
   "cell_type": "code",
   "execution_count": 38,
   "id": "309a7784-3a84-4d2a-ad55-249c3eb164eb",
   "metadata": {},
   "outputs": [],
   "source": [
    "# Two default arguments\n",
    "# Example: keyword must be followed by =\"\" (should it be a string)\n",
    "def sapa(nama=\"\", panggilan=\"Pak/Bu\"):\n",
    "    print(\"Selamat pagi\", panggilan, nama)"
   ]
  },
  {
   "cell_type": "code",
   "execution_count": 37,
   "id": "c406c017-ac61-483c-b90f-db92b146b091",
   "metadata": {},
   "outputs": [
    {
     "name": "stdout",
     "output_type": "stream",
     "text": [
      "Selamat pagi Pak/Bu \n"
     ]
    }
   ],
   "source": [
    "sapa()"
   ]
  },
  {
   "cell_type": "code",
   "execution_count": 1,
   "id": "27f7e572-dd2d-4770-b4e6-c974d1ce46a1",
   "metadata": {},
   "outputs": [],
   "source": [
    "# Combine required and default arguments\n",
    "def sapa(nama, panggilan=\"pak/bu\", waktu=\"pagi\"):\n",
    "    print(\"selamat\", waktu, panggilan, nama)"
   ]
  },
  {
   "cell_type": "code",
   "execution_count": 3,
   "id": "920fdef4-a6f1-4e29-abdb-093d2d89992f",
   "metadata": {},
   "outputs": [
    {
     "name": "stdout",
     "output_type": "stream",
     "text": [
      "selamat pagi pak/bu Andi\n"
     ]
    }
   ],
   "source": [
    "sapa(\"Andi\") # only 1 required argument for the function sapa"
   ]
  },
  {
   "cell_type": "code",
   "execution_count": 4,
   "id": "ca10a8c1-e7b6-45ac-bd82-cec69d685044",
   "metadata": {},
   "outputs": [
    {
     "name": "stdout",
     "output_type": "stream",
     "text": [
      "selamat malam Bapak Budi\n"
     ]
    }
   ],
   "source": [
    "sapa(waktu=\"malam\", nama=\"Budi\", panggilan=\"Bapak\")"
   ]
  },
  {
   "cell_type": "code",
   "execution_count": 17,
   "id": "f0442541-f9c1-41b8-8819-e43614fcdded",
   "metadata": {},
   "outputs": [],
   "source": [
    "# variable length argument\n",
    "def sapa(*nama, panggilan=\"pak/bu\", waktu=\"pagi\"): # the asterisk here is to define that the variable is a tuple\n",
    "    print(\"selamat\", waktu, panggilan, nama)"
   ]
  },
  {
   "cell_type": "code",
   "execution_count": 7,
   "id": "acd859c3-9936-4ed9-9b49-43d80892badd",
   "metadata": {},
   "outputs": [
    {
     "name": "stdout",
     "output_type": "stream",
     "text": [
      "selamat pagi pak/bu ()\n"
     ]
    }
   ],
   "source": [
    "sapa() # with this kind of command, it will print whatever is commanded on the function, but will be replaced with () if it's empty"
   ]
  },
  {
   "cell_type": "code",
   "execution_count": 22,
   "id": "dadc44b4-f254-405e-bb8e-2a9de82e062e",
   "metadata": {},
   "outputs": [],
   "source": [
    "namaorang=(\"Andi\", \"Budi\", \"Cakra\")"
   ]
  },
  {
   "cell_type": "code",
   "execution_count": null,
   "id": "f4d5875d-2ad3-451a-b3d0-b0ca7b9f2f38",
   "metadata": {},
   "outputs": [],
   "source": [
    "sapa(namaorang, \"Didi\", panggilan=\"Bapak\") # unless defined, every string will be taken as the tuple variable"
   ]
  },
  {
   "cell_type": "code",
   "execution_count": 20,
   "id": "5b0cbfd5-d981-4e81-8461-f1d24f04b355",
   "metadata": {},
   "outputs": [],
   "source": [
    "# positional\n",
    "def sapa(waktu,*nama):\n",
    "    for n in nama:\n",
    "        print(\"selamat\", waktu, n)"
   ]
  },
  {
   "cell_type": "code",
   "execution_count": 24,
   "id": "7c991dac-9638-4fc9-ba7c-24b5c9e4e9b8",
   "metadata": {},
   "outputs": [
    {
     "name": "stdout",
     "output_type": "stream",
     "text": [
      "selamat malam Andi\n",
      "selamat malam Budi\n",
      "selamat malam Cakra\n"
     ]
    }
   ],
   "source": [
    "sapa(\"malam\", \"Andi\", \"Budi\", \"Cakra\")"
   ]
  },
  {
   "cell_type": "code",
   "execution_count": 23,
   "id": "205d502b-3d01-47bf-8825-dd9c542bd5a0",
   "metadata": {},
   "outputs": [
    {
     "name": "stdout",
     "output_type": "stream",
     "text": [
      "selamat pagi ('Andi', 'Budi', 'Cakra')\n"
     ]
    }
   ],
   "source": [
    "sapa(\"pagi\",namaorang)"
   ]
  },
  {
   "cell_type": "markdown",
   "id": "28750701-b9a8-4782-880d-9f3aa0d3f950",
   "metadata": {},
   "source": [
    "Notes:\n",
    "- variable argument CANNOT be combined with keyword argument\n",
    "- positional argument FOLLOWS keyword argument"
   ]
  },
  {
   "cell_type": "markdown",
   "id": "f5332a8d-4603-40ba-8ee9-843afafa2b3a",
   "metadata": {},
   "source": [
    "### The anonymous function (recording: 1:22) \n",
    "- one line function\n",
    "- use LAMBDA instead of def"
   ]
  },
  {
   "cell_type": "code",
   "execution_count": 32,
   "id": "b6a3f6a5-e70b-4ba1-bd2e-7dd9d54bdf0d",
   "metadata": {},
   "outputs": [],
   "source": [
    "# example\n",
    "def sapa(waktu, nama):\n",
    "    return \"selamat \" + waktu + \" \" + nama"
   ]
  },
  {
   "cell_type": "code",
   "execution_count": 33,
   "id": "83f9427a-fc84-411b-97cf-36a169dd877c",
   "metadata": {},
   "outputs": [
    {
     "name": "stdout",
     "output_type": "stream",
     "text": [
      "selamat pagi andi\n"
     ]
    }
   ],
   "source": [
    "test= sapa(\"pagi\", \"andi\")\n",
    "print(test)"
   ]
  },
  {
   "cell_type": "code",
   "execution_count": 34,
   "id": "04891d73-563b-42dd-a95f-6ac9b337bf32",
   "metadata": {},
   "outputs": [],
   "source": [
    "# in anonymous function form\n",
    "sapa = lambda waktu, nama: \"selamat \" + waktu + \" \" + nama"
   ]
  },
  {
   "cell_type": "code",
   "execution_count": 36,
   "id": "ee04e270-8cda-4e17-be91-fecc1a385e21",
   "metadata": {},
   "outputs": [
    {
     "name": "stdout",
     "output_type": "stream",
     "text": [
      "selamat pagi andi\n"
     ]
    }
   ],
   "source": [
    "hasil=sapa(\"pagi\", \"andi\")\n",
    "print(hasil)"
   ]
  },
  {
   "cell_type": "code",
   "execution_count": 37,
   "id": "17f02651-1175-4da0-bc6c-5c82986eb9e8",
   "metadata": {},
   "outputs": [],
   "source": [
    "sum = lambda a,b: a+b"
   ]
  },
  {
   "cell_type": "code",
   "execution_count": 40,
   "id": "833b4777-df35-4202-83da-f488607f10c3",
   "metadata": {},
   "outputs": [
    {
     "name": "stdout",
     "output_type": "stream",
     "text": [
      "10\n"
     ]
    }
   ],
   "source": [
    "jumlah=sum(3,7)\n",
    "print(jumlah)"
   ]
  },
  {
   "cell_type": "code",
   "execution_count": 41,
   "id": "a5cfcc3d-9de0-41e7-8347-bc46461b7c58",
   "metadata": {},
   "outputs": [
    {
     "data": {
      "text/plain": [
       "10"
      ]
     },
     "execution_count": 41,
     "metadata": {},
     "output_type": "execute_result"
    }
   ],
   "source": [
    "jumlah"
   ]
  },
  {
   "cell_type": "code",
   "execution_count": 53,
   "id": "95f3da4f-7350-49c0-8fad-e2b7b1764b69",
   "metadata": {},
   "outputs": [],
   "source": [
    "tuple_name=(\"andi\", \"budi\", \"cakra\")\n",
    "n=0\n",
    "pjg=len(tuple_name)\n",
    "\n",
    "def greet(time, *name):\n",
    "    # global n\n",
    "    while n <= pjg:\n",
    "        print(\"good\", time, name)\n"
   ]
  },
  {
   "cell_type": "code",
   "execution_count": 57,
   "id": "a64b9c86-7128-4373-bc45-2b7843330468",
   "metadata": {},
   "outputs": [
    {
     "data": {
      "text/plain": [
       "'cakra'"
      ]
     },
     "execution_count": 57,
     "metadata": {},
     "output_type": "execute_result"
    }
   ],
   "source": [
    "tuple_name[2]"
   ]
  },
  {
   "cell_type": "code",
   "execution_count": 70,
   "id": "2ceae233-7059-44d5-a195-e5e833f34307",
   "metadata": {
    "tags": []
   },
   "outputs": [],
   "source": [
    "tuple_name=(\"andi\", \"budi\", \"cakra\")\n",
    "pjg=len(tuple_name)\n",
    "\n",
    "# in function, tuple only consists of 1 index (variable length argument)\n",
    "def greet(time, name):\n",
    "    #global n\n",
    "    n=0\n",
    "    while (n < pjg):\n",
    "        print(\"good\", time, name[n])\n",
    "        n += 1\n",
    "\n",
    "#greet(\"morning\", tuple_name[2])"
   ]
  },
  {
   "cell_type": "code",
   "execution_count": 71,
   "id": "796951cd-66e3-4f4d-a117-84074d027572",
   "metadata": {},
   "outputs": [
    {
     "name": "stdout",
     "output_type": "stream",
     "text": [
      "good morning andi\n",
      "good morning budi\n",
      "good morning cakra\n"
     ]
    }
   ],
   "source": [
    "greet(\"morning\", tuple_name)"
   ]
  },
  {
   "cell_type": "code",
   "execution_count": 43,
   "id": "5dc0614e-77f5-485f-a6d6-7d0967ec281b",
   "metadata": {},
   "outputs": [
    {
     "name": "stdout",
     "output_type": "stream",
     "text": [
      "('andi', 'budi', 'cakra')\n"
     ]
    }
   ],
   "source": [
    "print(tuple_name)"
   ]
  },
  {
   "cell_type": "code",
   "execution_count": 55,
   "id": "42d9248e-1839-4b68-bdd2-f7915a88f698",
   "metadata": {},
   "outputs": [
    {
     "name": "stdout",
     "output_type": "stream",
     "text": [
      "3\n"
     ]
    }
   ],
   "source": [
    "print(pjg)\n",
    "#greet(\"morning\",tuple_name)"
   ]
  },
  {
   "cell_type": "code",
   "execution_count": 72,
   "id": "89ac37fd-c987-429b-842b-0cdc3597b38d",
   "metadata": {},
   "outputs": [
    {
     "data": {
      "text/plain": [
       "tuple"
      ]
     },
     "execution_count": 72,
     "metadata": {},
     "output_type": "execute_result"
    }
   ],
   "source": [
    "type(tuple_name)"
   ]
  },
  {
   "cell_type": "markdown",
   "id": "2774be59-41ec-4f73-8e0f-9ee60ba0804d",
   "metadata": {},
   "source": [
    "### Module\n",
    "- File '.py' that contains codes, variable, functions, and classs python\n",
    "- Must be imported first to use"
   ]
  },
  {
   "cell_type": "markdown",
   "id": "1f5b3ec7-f167-440f-9e10-1288bf1a9feb",
   "metadata": {},
   "source": [
    "To import:\n",
    "import [module name]"
   ]
  },
  {
   "cell_type": "markdown",
   "id": "310b5343-fc4e-4137-8968-7a752274b84c",
   "metadata": {},
   "source": [
    "Mentoring 1-1: https://calendly.com/stefkwan/pytn-mentoring-1-on-1"
   ]
  },
  {
   "cell_type": "code",
   "execution_count": 73,
   "id": "a7282e63-6a00-49f2-9ce7-19a023b16fd6",
   "metadata": {},
   "outputs": [
    {
     "name": "stdout",
     "output_type": "stream",
     "text": [
      "halo\n"
     ]
    }
   ],
   "source": [
    "import andi"
   ]
  },
  {
   "cell_type": "code",
   "execution_count": 74,
   "id": "1ff2c9e6-ee25-4032-b683-6a705549eb00",
   "metadata": {},
   "outputs": [
    {
     "data": {
      "text/plain": [
       "<module 'andi' from '/mnt/data/andi.py'>"
      ]
     },
     "execution_count": 74,
     "metadata": {},
     "output_type": "execute_result"
    }
   ],
   "source": [
    "andi"
   ]
  },
  {
   "cell_type": "code",
   "execution_count": 75,
   "id": "dec0d704-8708-4f2e-91f8-7b7cbc6d822a",
   "metadata": {},
   "outputs": [
    {
     "data": {
      "text/plain": [
       "'Andi'"
      ]
     },
     "execution_count": 75,
     "metadata": {},
     "output_type": "execute_result"
    }
   ],
   "source": [
    "andi.nama"
   ]
  },
  {
   "cell_type": "code",
   "execution_count": 76,
   "id": "d3376059-b39d-43e3-8f71-393d8cc49d96",
   "metadata": {},
   "outputs": [
    {
     "data": {
      "text/plain": [
       "['makan', 'sepeda', 'coding']"
      ]
     },
     "execution_count": 76,
     "metadata": {},
     "output_type": "execute_result"
    }
   ],
   "source": [
    "andi.hobi"
   ]
  },
  {
   "cell_type": "code",
   "execution_count": 79,
   "id": "6f3182f0-f495-4ff1-af86-44ff9f57cb26",
   "metadata": {},
   "outputs": [
    {
     "name": "stdout",
     "output_type": "stream",
     "text": [
      "Andi pergi bersepeda\n"
     ]
    }
   ],
   "source": [
    "andi.sepeda()"
   ]
  },
  {
   "cell_type": "code",
   "execution_count": 78,
   "id": "55f239a2-b584-4dd7-ac8e-89797e44c54c",
   "metadata": {},
   "outputs": [
    {
     "name": "stdout",
     "output_type": "stream",
     "text": [
      "Andi suka makan\n",
      "Andi suka sepeda\n",
      "Andi suka coding\n"
     ]
    }
   ],
   "source": [
    "for h in andi.hobi:\n",
    "    print(andi.nama, \"suka\", h)"
   ]
  },
  {
   "cell_type": "code",
   "execution_count": 80,
   "id": "59c9f6fa-a2e8-4381-85f5-5486a38d1ba3",
   "metadata": {},
   "outputs": [
    {
     "data": {
      "text/plain": [
       "<function andi.cekTiketPesawat(umur, saldo, harga)>"
      ]
     },
     "execution_count": 80,
     "metadata": {},
     "output_type": "execute_result"
    }
   ],
   "source": [
    "andi.cekTiketPesawat"
   ]
  },
  {
   "cell_type": "code",
   "execution_count": 81,
   "id": "0db08929-ba24-42a5-8494-6f405ceeaace",
   "metadata": {},
   "outputs": [
    {
     "name": "stdout",
     "output_type": "stream",
     "text": [
      "You can buy as you are 25 years old\n",
      "You can buy as you have 150000 and the price is\n"
     ]
    }
   ],
   "source": [
    "andi.cekTiketPesawat(25,150000,30000)"
   ]
  },
  {
   "cell_type": "code",
   "execution_count": 82,
   "id": "9adead79-b5f2-4754-9bda-81196cb677a7",
   "metadata": {},
   "outputs": [],
   "source": [
    "# giving alias to the package\n",
    "import andi as an"
   ]
  },
  {
   "cell_type": "code",
   "execution_count": 83,
   "id": "3f683250-8f7f-43a0-ab17-945e44bff74d",
   "metadata": {},
   "outputs": [
    {
     "name": "stdout",
     "output_type": "stream",
     "text": [
      "Andi pergi bersepeda\n"
     ]
    }
   ],
   "source": [
    "an.sepeda()"
   ]
  },
  {
   "cell_type": "code",
   "execution_count": 84,
   "id": "0ebc03ab-e15a-4b26-80c1-7e80980be0df",
   "metadata": {},
   "outputs": [
    {
     "name": "stdout",
     "output_type": "stream",
     "text": [
      "Andi pergi bersepeda\n"
     ]
    }
   ],
   "source": [
    "an.sepeda()"
   ]
  },
  {
   "cell_type": "code",
   "execution_count": 85,
   "id": "16b45a19-53f5-493d-b2de-53bbd2fcc089",
   "metadata": {},
   "outputs": [
    {
     "data": {
      "text/plain": [
       "'Andi'"
      ]
     },
     "execution_count": 85,
     "metadata": {},
     "output_type": "execute_result"
    }
   ],
   "source": [
    "an.nama"
   ]
  },
  {
   "cell_type": "code",
   "execution_count": 86,
   "id": "6e1a3f35-be2a-4051-820f-0875bf18b8d1",
   "metadata": {},
   "outputs": [],
   "source": [
    "# may import only certain variable/function/class\n",
    "from andi import sepeda as sp"
   ]
  },
  {
   "cell_type": "code",
   "execution_count": 87,
   "id": "134d03ed-89f0-4d21-a99e-18991ebe1c4c",
   "metadata": {},
   "outputs": [
    {
     "data": {
      "text/plain": [
       "<function andi.sepeda()>"
      ]
     },
     "execution_count": 87,
     "metadata": {},
     "output_type": "execute_result"
    }
   ],
   "source": [
    "sp"
   ]
  },
  {
   "cell_type": "code",
   "execution_count": 88,
   "id": "ac8b5ae2-644e-4d97-9903-cb4cb9d3f23a",
   "metadata": {},
   "outputs": [
    {
     "name": "stdout",
     "output_type": "stream",
     "text": [
      "Andi pergi bersepeda\n"
     ]
    }
   ],
   "source": [
    "sp()"
   ]
  },
  {
   "cell_type": "code",
   "execution_count": 89,
   "id": "c3350007-89bf-4923-a04c-aeab4afe61d8",
   "metadata": {},
   "outputs": [],
   "source": [
    "from andi import nama,hobi"
   ]
  },
  {
   "cell_type": "code",
   "execution_count": 90,
   "id": "77490500-e538-462f-abed-be13a5bd9c91",
   "metadata": {},
   "outputs": [
    {
     "name": "stdout",
     "output_type": "stream",
     "text": [
      "Andi\n",
      "['makan', 'sepeda', 'coding']\n"
     ]
    }
   ],
   "source": [
    "print(nama)\n",
    "print(hobi)"
   ]
  },
  {
   "cell_type": "markdown",
   "id": "bc8f09c6-0f76-4c8d-90e4-4bfc253c1be0",
   "metadata": {},
   "source": [
    "#### List of folders python notebook will search\n",
    "1. current folder (where our ipnyb is located)\n",
    "2. other folder(s) - sys.path\n",
    "3. can edit sys.path to add more folder(s)"
   ]
  },
  {
   "cell_type": "code",
   "execution_count": 91,
   "id": "864d7256-c481-483a-915d-3d3bbb35eec6",
   "metadata": {},
   "outputs": [
    {
     "data": {
      "text/plain": [
       "['/mnt/data',\n",
       " '/home/law/anaconda3/lib/python39.zip',\n",
       " '/home/law/anaconda3/lib/python3.9',\n",
       " '/home/law/anaconda3/lib/python3.9/lib-dynload',\n",
       " '',\n",
       " '/home/law/anaconda3/lib/python3.9/site-packages',\n",
       " '/home/law/anaconda3/lib/python3.9/site-packages/locket-0.2.1-py3.9.egg',\n",
       " '/home/law/anaconda3/lib/python3.9/site-packages/IPython/extensions',\n",
       " '/home/law/.ipython']"
      ]
     },
     "execution_count": 91,
     "metadata": {},
     "output_type": "execute_result"
    }
   ],
   "source": [
    "import sys\n",
    "sys.path"
   ]
  },
  {
   "cell_type": "code",
   "execution_count": 98,
   "id": "56996a2d-db27-4619-8c7d-7151ced591fb",
   "metadata": {},
   "outputs": [],
   "source": [
    "sys.path.append('/bootcamp/Testing') # add a new folder for the folders that it can read"
   ]
  },
  {
   "cell_type": "code",
   "execution_count": 93,
   "id": "be156aa2-6859-44f5-978b-544164550d0d",
   "metadata": {},
   "outputs": [
    {
     "data": {
      "text/plain": [
       "['/mnt/data',\n",
       " '/home/law/anaconda3/lib/python39.zip',\n",
       " '/home/law/anaconda3/lib/python3.9',\n",
       " '/home/law/anaconda3/lib/python3.9/lib-dynload',\n",
       " '',\n",
       " '/home/law/anaconda3/lib/python3.9/site-packages',\n",
       " '/home/law/anaconda3/lib/python3.9/site-packages/locket-0.2.1-py3.9.egg',\n",
       " '/home/law/anaconda3/lib/python3.9/site-packages/IPython/extensions',\n",
       " '/home/law/.ipython',\n",
       " '/bootcamp/Testing']"
      ]
     },
     "execution_count": 93,
     "metadata": {},
     "output_type": "execute_result"
    }
   ],
   "source": [
    "sys.path"
   ]
  },
  {
   "cell_type": "code",
   "execution_count": 94,
   "id": "5d60dccb-cf73-46c6-a31f-dae2c023aab5",
   "metadata": {},
   "outputs": [],
   "source": [
    "import budi"
   ]
  },
  {
   "cell_type": "code",
   "execution_count": 95,
   "id": "9c4d7a35-33c6-4617-ba3d-3d2463d414d9",
   "metadata": {},
   "outputs": [
    {
     "data": {
      "text/plain": [
       "'budi'"
      ]
     },
     "execution_count": 95,
     "metadata": {},
     "output_type": "execute_result"
    }
   ],
   "source": [
    "budi.nama"
   ]
  },
  {
   "cell_type": "code",
   "execution_count": 96,
   "id": "ee3c5062-7645-4e12-b78f-eb2cf0d6a306",
   "metadata": {},
   "outputs": [
    {
     "data": {
      "text/plain": [
       "'Budi'"
      ]
     },
     "execution_count": 96,
     "metadata": {},
     "output_type": "execute_result"
    }
   ],
   "source": [
    "budi.nama.title()"
   ]
  },
  {
   "cell_type": "code",
   "execution_count": 97,
   "id": "375bd348-8b5b-46ee-a347-37fb8dfdaff9",
   "metadata": {},
   "outputs": [
    {
     "data": {
      "text/plain": [
       "'budi'"
      ]
     },
     "execution_count": 97,
     "metadata": {},
     "output_type": "execute_result"
    }
   ],
   "source": [
    "budi.nama"
   ]
  },
  {
   "cell_type": "markdown",
   "id": "5c084817-c5d6-4487-934f-1a7737c70f0c",
   "metadata": {},
   "source": [
    "#### Practice\n",
    "Create a module that contains variable and functions (2 each), import and run the function, also print the variable module"
   ]
  },
  {
   "cell_type": "markdown",
   "id": "b136b878-508f-401c-87c6-153ee7cca061",
   "metadata": {},
   "source": [
    "#### Module\n",
    "- Module will NOT reimport the module\n",
    "- To re-import: importlib.reload\n",
    "- Example: import importlib.reload\n",
    "- importlib.reload(module name)"
   ]
  },
  {
   "cell_type": "code",
   "execution_count": 141,
   "id": "c1f2873b-2894-4f38-a496-90ac5d344b20",
   "metadata": {},
   "outputs": [],
   "source": [
    "sys.path.append('/bootcamp')\n",
    "import tests3 as s3"
   ]
  },
  {
   "cell_type": "code",
   "execution_count": 142,
   "id": "dab8cad6-f63c-419c-bf12-40936d21f840",
   "metadata": {},
   "outputs": [
    {
     "data": {
      "text/plain": [
       "'Christine'"
      ]
     },
     "execution_count": 142,
     "metadata": {},
     "output_type": "execute_result"
    }
   ],
   "source": [
    "s3.name"
   ]
  },
  {
   "cell_type": "code",
   "execution_count": 143,
   "id": "37d93468-f007-4089-a99a-7487c87fa382",
   "metadata": {},
   "outputs": [
    {
     "data": {
      "text/plain": [
       "20"
      ]
     },
     "execution_count": 143,
     "metadata": {},
     "output_type": "execute_result"
    }
   ],
   "source": [
    "s3.age"
   ]
  },
  {
   "cell_type": "code",
   "execution_count": 150,
   "id": "542656e5-3a53-49c4-80f0-47ba5b45d474",
   "metadata": {},
   "outputs": [
    {
     "data": {
      "text/plain": [
       "['swimming', 'cooking', 'watching movies']"
      ]
     },
     "execution_count": 150,
     "metadata": {},
     "output_type": "execute_result"
    }
   ],
   "source": [
    "s3.hobbies"
   ]
  },
  {
   "cell_type": "code",
   "execution_count": 145,
   "id": "54d110a4-d5a5-4138-a7ec-74bf897153ff",
   "metadata": {},
   "outputs": [
    {
     "data": {
      "text/plain": [
       "<function tests3.hob(hobby)>"
      ]
     },
     "execution_count": 145,
     "metadata": {},
     "output_type": "execute_result"
    }
   ],
   "source": [
    "s3.hob"
   ]
  },
  {
   "cell_type": "code",
   "execution_count": 149,
   "id": "e950bbea-f691-4f1c-b13f-28e8894f8be6",
   "metadata": {},
   "outputs": [
    {
     "name": "stdout",
     "output_type": "stream",
     "text": [
      "Christine 's hobby is swimming\n",
      "Christine 's hobby is cooking\n",
      "Christine 's hobby is watching movies\n"
     ]
    }
   ],
   "source": [
    "s3.hob(s3.hobbies)"
   ]
  },
  {
   "cell_type": "markdown",
   "id": "6c1c2f11-c49e-4f9d-8847-b30ce4840484",
   "metadata": {},
   "source": [
    "#### Reload module"
   ]
  },
  {
   "cell_type": "code",
   "execution_count": 154,
   "id": "d0908f72-d94b-4633-81d7-ebac9d41219b",
   "metadata": {},
   "outputs": [
    {
     "name": "stdout",
     "output_type": "stream",
     "text": [
      "Hello this is a testing module\n",
      "Created as a practice for S3\n"
     ]
    },
    {
     "data": {
      "text/plain": [
       "<module 'tests3' from '/mnt/data/tests3.py'>"
      ]
     },
     "execution_count": 154,
     "metadata": {},
     "output_type": "execute_result"
    }
   ],
   "source": [
    "import importlib\n",
    "importlib.reload(tests3)"
   ]
  },
  {
   "cell_type": "code",
   "execution_count": 155,
   "id": "2e27eddb-7bc4-4455-b494-0edfc0aa6a4f",
   "metadata": {},
   "outputs": [
    {
     "data": {
      "text/plain": [
       "'Christy'"
      ]
     },
     "execution_count": 155,
     "metadata": {},
     "output_type": "execute_result"
    }
   ],
   "source": [
    "tests3.name"
   ]
  },
  {
   "cell_type": "code",
   "execution_count": 156,
   "id": "4d70b2f0-e6cc-4b16-aede-08b4c32d48f9",
   "metadata": {},
   "outputs": [
    {
     "data": {
      "text/plain": [
       "['swimming', 'cooking', 'watching movies', 'reading']"
      ]
     },
     "execution_count": 156,
     "metadata": {},
     "output_type": "execute_result"
    }
   ],
   "source": [
    "tests3.hobbies"
   ]
  },
  {
   "cell_type": "code",
   "execution_count": 157,
   "id": "4764f29a-41fd-45af-8047-86d22459b0d8",
   "metadata": {},
   "outputs": [
    {
     "name": "stdout",
     "output_type": "stream",
     "text": [
      "Christy 's hobby is swimming\n",
      "Christy 's hobby is cooking\n",
      "Christy 's hobby is watching movies\n",
      "Christy 's hobby is reading\n"
     ]
    }
   ],
   "source": [
    "tests3.hob(tests3.hobbies)"
   ]
  },
  {
   "cell_type": "markdown",
   "id": "18a1d346-9a44-4443-823d-483cf8c2f65f",
   "metadata": {},
   "source": [
    "### dir() function\n",
    "- list all names on the namespace"
   ]
  },
  {
   "cell_type": "code",
   "execution_count": 147,
   "id": "d8158fc5-ba36-4d76-87a2-56c9ae39cbd5",
   "metadata": {},
   "outputs": [
    {
     "data": {
      "text/plain": [
       "['In',\n",
       " 'Out',\n",
       " '_',\n",
       " '_108',\n",
       " '_109',\n",
       " '_110',\n",
       " '_111',\n",
       " '_116',\n",
       " '_117',\n",
       " '_119',\n",
       " '_120',\n",
       " '_123',\n",
       " '_125',\n",
       " '_126',\n",
       " '_127',\n",
       " '_128',\n",
       " '_131',\n",
       " '_132',\n",
       " '_133',\n",
       " '_137',\n",
       " '_138',\n",
       " '_140',\n",
       " '_142',\n",
       " '_143',\n",
       " '_144',\n",
       " '_145',\n",
       " '_41',\n",
       " '_57',\n",
       " '_72',\n",
       " '_74',\n",
       " '_75',\n",
       " '_76',\n",
       " '_80',\n",
       " '_85',\n",
       " '_87',\n",
       " '_91',\n",
       " '_93',\n",
       " '_95',\n",
       " '_96',\n",
       " '_97',\n",
       " '__',\n",
       " '___',\n",
       " '__builtin__',\n",
       " '__builtins__',\n",
       " '__doc__',\n",
       " '__loader__',\n",
       " '__name__',\n",
       " '__package__',\n",
       " '__spec__',\n",
       " '_dh',\n",
       " '_i',\n",
       " '_i1',\n",
       " '_i10',\n",
       " '_i100',\n",
       " '_i101',\n",
       " '_i102',\n",
       " '_i103',\n",
       " '_i104',\n",
       " '_i105',\n",
       " '_i106',\n",
       " '_i107',\n",
       " '_i108',\n",
       " '_i109',\n",
       " '_i11',\n",
       " '_i110',\n",
       " '_i111',\n",
       " '_i112',\n",
       " '_i113',\n",
       " '_i114',\n",
       " '_i115',\n",
       " '_i116',\n",
       " '_i117',\n",
       " '_i118',\n",
       " '_i119',\n",
       " '_i12',\n",
       " '_i120',\n",
       " '_i121',\n",
       " '_i122',\n",
       " '_i123',\n",
       " '_i124',\n",
       " '_i125',\n",
       " '_i126',\n",
       " '_i127',\n",
       " '_i128',\n",
       " '_i129',\n",
       " '_i13',\n",
       " '_i130',\n",
       " '_i131',\n",
       " '_i132',\n",
       " '_i133',\n",
       " '_i134',\n",
       " '_i135',\n",
       " '_i136',\n",
       " '_i137',\n",
       " '_i138',\n",
       " '_i139',\n",
       " '_i14',\n",
       " '_i140',\n",
       " '_i141',\n",
       " '_i142',\n",
       " '_i143',\n",
       " '_i144',\n",
       " '_i145',\n",
       " '_i146',\n",
       " '_i147',\n",
       " '_i15',\n",
       " '_i16',\n",
       " '_i17',\n",
       " '_i18',\n",
       " '_i19',\n",
       " '_i2',\n",
       " '_i20',\n",
       " '_i21',\n",
       " '_i22',\n",
       " '_i23',\n",
       " '_i24',\n",
       " '_i25',\n",
       " '_i26',\n",
       " '_i27',\n",
       " '_i28',\n",
       " '_i29',\n",
       " '_i3',\n",
       " '_i30',\n",
       " '_i31',\n",
       " '_i32',\n",
       " '_i33',\n",
       " '_i34',\n",
       " '_i35',\n",
       " '_i36',\n",
       " '_i37',\n",
       " '_i38',\n",
       " '_i39',\n",
       " '_i4',\n",
       " '_i40',\n",
       " '_i41',\n",
       " '_i42',\n",
       " '_i43',\n",
       " '_i44',\n",
       " '_i45',\n",
       " '_i46',\n",
       " '_i47',\n",
       " '_i48',\n",
       " '_i49',\n",
       " '_i5',\n",
       " '_i50',\n",
       " '_i51',\n",
       " '_i52',\n",
       " '_i53',\n",
       " '_i54',\n",
       " '_i55',\n",
       " '_i56',\n",
       " '_i57',\n",
       " '_i58',\n",
       " '_i59',\n",
       " '_i6',\n",
       " '_i60',\n",
       " '_i61',\n",
       " '_i62',\n",
       " '_i63',\n",
       " '_i64',\n",
       " '_i65',\n",
       " '_i66',\n",
       " '_i67',\n",
       " '_i68',\n",
       " '_i69',\n",
       " '_i7',\n",
       " '_i70',\n",
       " '_i71',\n",
       " '_i72',\n",
       " '_i73',\n",
       " '_i74',\n",
       " '_i75',\n",
       " '_i76',\n",
       " '_i77',\n",
       " '_i78',\n",
       " '_i79',\n",
       " '_i8',\n",
       " '_i80',\n",
       " '_i81',\n",
       " '_i82',\n",
       " '_i83',\n",
       " '_i84',\n",
       " '_i85',\n",
       " '_i86',\n",
       " '_i87',\n",
       " '_i88',\n",
       " '_i89',\n",
       " '_i9',\n",
       " '_i90',\n",
       " '_i91',\n",
       " '_i92',\n",
       " '_i93',\n",
       " '_i94',\n",
       " '_i95',\n",
       " '_i96',\n",
       " '_i97',\n",
       " '_i98',\n",
       " '_i99',\n",
       " '_ih',\n",
       " '_ii',\n",
       " '_iii',\n",
       " '_oh',\n",
       " 'an',\n",
       " 'andi',\n",
       " 'budi',\n",
       " 'buyerslist',\n",
       " 'exit',\n",
       " 'fruits',\n",
       " 'get_ipython',\n",
       " 'greet',\n",
       " 'h',\n",
       " 'hasil',\n",
       " 'hobi',\n",
       " 'jumlah',\n",
       " 'n',\n",
       " 'nama',\n",
       " 'namaorang',\n",
       " 'pjg',\n",
       " 'purchase',\n",
       " 'quit',\n",
       " 's3',\n",
       " 'sapa',\n",
       " 'sp',\n",
       " 'sum',\n",
       " 'sys',\n",
       " 'test',\n",
       " 'tests3',\n",
       " 'tuple_name']"
      ]
     },
     "execution_count": 147,
     "metadata": {},
     "output_type": "execute_result"
    }
   ],
   "source": [
    "dir()"
   ]
  },
  {
   "cell_type": "code",
   "execution_count": 148,
   "id": "1e458475-9a74-4ddb-98fa-395061919878",
   "metadata": {},
   "outputs": [
    {
     "data": {
      "text/plain": [
       "['',\n",
       " '# Combine required and default arguments\\ndef sapa(nama, panggilan=\"pak/bu\", waktu=\"pagi\"):\\n    print(\"selamat\", waktu, panggilan, nama)',\n",
       " 'sapa(\"Andi\")',\n",
       " 'sapa(\"Andi\") # only 1 required argument for the function sapa',\n",
       " 'sapa(waktu=\"malam\", nama=\"Budi\", panggilan=\"Bapak\")',\n",
       " '# variable length argument\\ndef sapa(*nama, panggilan=\"pak/bu\", waktu=\"pagi\"): # the asterisk here is to define that the variable is a tuple\\n    print(\"selamat\", waktu, panggilan, nama)',\n",
       " 'sapa()',\n",
       " \"sapa() # with this kind of command, it will print whatever is commanded on the function, but will be replaced with () if it's empty\",\n",
       " 'namaorang=(\"Andi\", \"Budi\", \"Cakra\")\\nsapa(namaorang)',\n",
       " 'namaorang=(\"Andi\", \"Budi\", \"Cakra\")\\nsapa(namaorang, panggilan=\"Bapak\")',\n",
       " 'namaorang=(\"Andi\", \"Budi\", \"Cakra\")\\nsapa(namaorang)',\n",
       " 'namaorang=(\"Andi\", \"Budi\", \"Cakra\")\\nsapa(namaorang, \"Didi\")',\n",
       " 'namaorang=(\"Andi\", \"Budi\", \"Cakra\")\\nsapa(namaorang, \"Didi\", panggilan=\"Bapak\")',\n",
       " '# positional\\ndef sapa(waktu,*nama):\\n    print(\"selamat\", waktu, nama)',\n",
       " '# positional\\ndef sapa(waktu,*nama):\\n    for n in nama:\\n        print(\"selamat\", waktu, n)',\n",
       " 'sapa(namaorang)',\n",
       " 'namaorang=(\"Andi\", \"Budi\", \"Cakra\")\\nsapa(namaorang, \"Didi\", panggilan=\"Bapak\") # unless defined, every string will be taken as the tuple variable',\n",
       " '# variable length argument\\ndef sapa(*nama, panggilan=\"pak/bu\", waktu=\"pagi\"): # the asterisk here is to define that the variable is a tuple\\n    print(\"selamat\", waktu, panggilan, nama)',\n",
       " 'namaorang=(\"Andi\", \"Budi\", \"Cakra\")\\nsapa(namaorang, \"Didi\", panggilan=\"Bapak\") # unless defined, every string will be taken as the tuple variable',\n",
       " 'sapa(\"pagi\",namaorang)',\n",
       " '# positional\\ndef sapa(waktu,*nama):\\n    for n in nama:\\n        print(\"selamat\", waktu, n)',\n",
       " 'sapa(\"pagi\",namaorang)',\n",
       " 'namaorang=(\"Andi\", \"Budi\", \"Cakra\")',\n",
       " 'sapa(\"pagi\",namaorang)',\n",
       " 'sapa(\"malam\", \"Andi\", \"Budi\", \"Cakra\")',\n",
       " 'buyerslist=[\\n    {\"umur\": 20,\"saldo\": 125000,\"harga\":250000},\\n    {\"umur\": 21,\"saldo\": 115000,\"harga\":500000},\\n    {\"umur\": 22,\"saldo\": 175000,\"harga\":75000},\\n    {\"umur\": 23,\"saldo\": 200000,\"harga\":250000},\\n    {\"umur\": 24,\"saldo\": 225000,\"harga\":250000},\\n]\\n\\nfor org in buyerslist:\\n    cekTiketPesawat(org[\\'umur\\'], org[\\'saldo\\'], org[\\'harga\\'])\\n    return buyerslist',\n",
       " 'buyerslist=[\\n    {\"umur\": 20,\"saldo\": 125000,\"harga\":250000},\\n    {\"umur\": 21,\"saldo\": 115000,\"harga\":500000},\\n    {\"umur\": 22,\"saldo\": 175000,\"harga\":75000},\\n    {\"umur\": 23,\"saldo\": 200000,\"harga\":250000},\\n    {\"umur\": 24,\"saldo\": 225000,\"harga\":250000},\\n]\\n\\nfor org in buyerslist:\\n    cekTiketPesawat(org[\\'umur\\'], org[\\'saldo\\'], org[\\'harga\\'])\\n    return org',\n",
       " '# example\\ndef sapa(waktu, nama):\\n    return \"selamat\" + waktu + nama\\ntest=lambda sapa(\"pagi\", \"andi\")',\n",
       " '# example\\ndef sapa(waktu, nama):\\n    return \"selamat\" + waktu + nama',\n",
       " 'test=lambda sapa(\"pagi\", \"andi\")',\n",
       " 'test= sapa(\"pagi\", \"andi\")',\n",
       " 'test= sapa(\"pagi\", \"andi\")\\nprint(test)',\n",
       " '# example\\ndef sapa(waktu, nama):\\n    return \"selamat \" + waktu + \" \" + nama',\n",
       " 'test= sapa(\"pagi\", \"andi\")\\nprint(test)',\n",
       " '# in anonymous function form\\nsapa = lambda waktu, nama: \"selamat \" + waktu + \" \" + nama',\n",
       " 'hasil=sapa(\"pagi\", \"andi\")',\n",
       " 'hasil=sapa(\"pagi\", \"andi\")\\nprint(hasil)',\n",
       " 'sum = lambda a,b: a+b',\n",
       " 'jumlah=sum(3,7)',\n",
       " 'jumlah=sum(3,7)\\nprint(jum)',\n",
       " 'jumlah=sum(3,7)\\nprint(jumlah)',\n",
       " 'jumlah',\n",
       " 'tuple_name=(\"andi\", \"budi\", \"cakra\")\\nn=0\\n\\ndef greet(time, *name):\\n    while n <= len(name):\\n        print(\"good\", time, name[n])\\n        n+=1',\n",
       " 'print(tuple_name)',\n",
       " 'greet(\"morning\",tuple_name)',\n",
       " 'tuple_name=(\"andi\", \"budi\", \"cakra\")\\nn=0\\n\\ndef greet(time, *name):\\n    global n\\n    while n <= len(name):\\n        print(\"good\", time, name[n])\\n        n+=1',\n",
       " 'tuple_name=(\"andi\", \"budi\", \"cakra\")\\nn=0\\n\\ndef greet(time, *name):\\n    nonlocal n\\n    while n <= len(name):\\n        print(\"good\", time, name[n])\\n        n+=1',\n",
       " 'tuple_name=(\"andi\", \"budi\", \"cakra\")\\nn=0\\n\\ndef greet(time, *name):\\n    global n\\n    while n <= len(name):\\n        print(\"good\", time, name[n])\\n        n+=1',\n",
       " 'greet(\"morning\",tuple_name)',\n",
       " 'tuple_name=(\"andi\", \"budi\", \"cakra\")\\nn=0\\n\\ndef greet(time, *name):\\n    # global n\\n    for n in name:\\n        print(\"good\", time, name)\\n        n+=1',\n",
       " 'greet(\"morning\",tuple_name)',\n",
       " 'tuple_name=(\"andi\", \"budi\", \"cakra\")\\nn=0\\n\\ndef greet(time, *name):\\n    # global n\\n    for n in name:\\n        print(\"good\", time, name)',\n",
       " 'greet(\"morning\",tuple_name)',\n",
       " 'tuple_name=(\"andi\", \"budi\", \"cakra\")\\nn=0\\npjg=len(tuple_name)\\n\\ndef greet(time, *name):\\n    # global n\\n    while n <= pjg:\\n        print(\"good\", time, name)',\n",
       " 'greet(\"morning\",tuple_name)',\n",
       " 'print(pjg)\\n#greet(\"morning\",tuple_name)',\n",
       " 'tuple_name=(\"andi\", \"budi\", \"cakra\")\\nn=0\\npjg=len(tuple_name)\\n\\ndef greet(time, *name):\\n    # global n\\n    while n <= pjg:\\n        print(\"good\", time, name[n])\\n        n += 1\\n\\ngreet(\"morning\", tuple_name)',\n",
       " 'tuple_name[2]',\n",
       " 'tuple_name=(\"andi\", \"budi\", \"cakra\")\\nn=0\\npjg=len(tuple_name)\\n\\ndef greet(time, *name):\\n    global n\\n    while n <= pjg:\\n        print(\"good\", time, name[n])\\n        n += 1\\n\\ngreet(\"morning\", tuple_name)',\n",
       " 'tuple_name=(\"andi\", \"budi\", \"cakra\")\\nn=0\\npjg=len(tuple_name)\\n\\ndef greet(time, *name):\\n    global n\\n    while n <= pjg:\\n        print(\"good\", time, name[n])\\n        n += 1\\n\\ngreet(\"morning\", tuple_name[2])',\n",
       " 'tuple_name=(\"andi\", \"budi\", \"cakra\")\\nn=0\\npjg=len(tuple_name)\\n\\ndef greet(time, *name):\\n    global n\\n    while n <= pjg:\\n        print(\"good\", time, name[n])\\n        n += 1\\n\\n#greet(\"morning\", tuple_name[2])',\n",
       " 'greet(\"morning\")',\n",
       " 'tuple_name=(\"andi\", \"budi\", \"cakra\")\\nn=0\\npjg=len(tuple_name)\\n\\ndef greet(time, *name):\\n    global n\\n    n=0\\n    while n <= pjg:\\n        print(\"good\", time, name[n])\\n        n += 1\\n\\n#greet(\"morning\", tuple_name[2])',\n",
       " 'greet(\"morning\", tuple_name)',\n",
       " 'tuple_name=(\"andi\", \"budi\", \"cakra\")\\nn=0\\npjg=len(tuple_name)\\n\\ndef greet(time, *name):\\n    global n\\n    n=0\\n    while n < pjg:\\n        print(\"good\", time, name[n])\\n        n += 1\\n\\n#greet(\"morning\", tuple_name[2])',\n",
       " 'greet(\"morning\", tuple_name)',\n",
       " 'tuple_name=(\"andi\", \"budi\", \"cakra\")\\nn=0\\npjg=len(tuple_name)\\n\\ndef greet(time, *name):\\n    #global n\\n    n=0\\n    while n < pjg:\\n        print(\"good\", time, name[n])\\n        n += 1\\n\\n#greet(\"morning\", tuple_name[2])',\n",
       " 'greet(\"morning\", tuple_name)',\n",
       " 'tuple_name=(\"andi\", \"budi\", \"cakra\")\\nn=0\\npjg=len(tuple_name)\\n\\ndef greet(time, *name):\\n    #global n\\n    n=0\\n    while (n < pjg):\\n        print(\"good\", time, name[n])\\n        n += 1\\n\\n#greet(\"morning\", tuple_name[2])',\n",
       " 'greet(\"morning\", tuple_name)',\n",
       " 'tuple_name=(\"andi\", \"budi\", \"cakra\")\\npjg=len(tuple_name)\\n\\ndef greet(time, name):\\n    #global n\\n    n=0\\n    while (n < pjg):\\n        print(\"good\", time, name[n])\\n        n += 1\\n\\n#greet(\"morning\", tuple_name[2])',\n",
       " 'greet(\"morning\", tuple_name)',\n",
       " 'type(tuple_name)',\n",
       " 'import andi',\n",
       " 'andi',\n",
       " 'andi.nama',\n",
       " 'andi.hobi',\n",
       " 'sepeda()',\n",
       " 'for h in andi.hobi:\\n    print(andi.nama, \"suka\", h)',\n",
       " 'andi.sepeda()',\n",
       " 'andi.cekTiketPesawat',\n",
       " 'andi.cekTiketPesawat(25,150000,30000)',\n",
       " 'import andi as an',\n",
       " 'an.sepeda()',\n",
       " 'an.sepeda()',\n",
       " 'an.nama',\n",
       " '# may import only certain variable/function/class\\nfrom andi import sepeda as sp',\n",
       " 'sp',\n",
       " 'sp()',\n",
       " 'from andi import nama,hobi',\n",
       " 'print(nama)\\nprint(hobi)',\n",
       " 'import sys\\nsys.path',\n",
       " \"sys.path.append('/bootcamp/Testing')\",\n",
       " 'sys.path',\n",
       " 'import budi',\n",
       " 'budi.nama',\n",
       " 'budi.nama.title()',\n",
       " 'budi.nama',\n",
       " \"sys.path.append('/bootcamp/Testing') # add a new folder for the folders that it can read\",\n",
       " 'fruits=[\\n    {\"fruit\"=\"mango\", \"price\"=10},\\n    {\"fruit\"=\"durian\", \"price\"=15}, \\n    {\"fruit\"=\"cherry\", \"price\"=12},\\n]\\n\\ndef purchase(fruitname, weight):\\n    price=0\\n    for fr in fruits:\\n        price=weight*fr[\\'price\\']',\n",
       " 'fruits=[\\n    {\"fruit\":\"mango\", \"price\":10},\\n    {\"fruit\":\"durian\", \"price\":15}, \\n    {\"fruit\":\"cherry\", \"price\":12},\\n]\\n\\ndef purchase(fruitname, weight):\\n    price=0\\n    for fr in fruits:\\n        price=weight*fr[\\'price\\']',\n",
       " 'purchase(mango,2)',\n",
       " 'purchase(\"mango\",2)',\n",
       " 'purchase(\"mango\",2)',\n",
       " 'purchase(fruits,2)',\n",
       " 'print(\"/\\'s\")',\n",
       " 'import tests3',\n",
       " 'import tests3 as s3',\n",
       " 's3.name',\n",
       " 's3.age',\n",
       " 's3.hobbies',\n",
       " 's3.hob',\n",
       " 's3.hob(hobbies)',\n",
       " 's3.hobbies\\ns3.hob(hobbies)',\n",
       " 's3.hobbies\\ns3.hob(s3.hobbies)',\n",
       " 'import tests3 as s3',\n",
       " 's3.name',\n",
       " 's3.hobbies',\n",
       " 'import tests3 as s3',\n",
       " 's3.name',\n",
       " 's3.hob',\n",
       " 's3.hobbies\\ns3.hob(s3.hobbies)',\n",
       " 'import tests3 as s3',\n",
       " 's3.hobbies',\n",
       " 'import tests3 as s3',\n",
       " 's3.name',\n",
       " 's3.age',\n",
       " 's3.hobbies',\n",
       " 's3.hob',\n",
       " 's3.hob(s3.hobbies)',\n",
       " 'import tests3 as s3',\n",
       " 's3.name',\n",
       " 's3.age',\n",
       " 's3.hobbies',\n",
       " 'import tests3',\n",
       " 'import tests3 as s3',\n",
       " \"sys.path.append('/bootcamp')\\nimport tests3 as s3\",\n",
       " 's3.name',\n",
       " 's3.name',\n",
       " \"sys.path.append('/bootcamp')\\nimport tests3\",\n",
       " 'tests3.name',\n",
       " \"sys.path.append('/bootcamp')\\nimport tests3\",\n",
       " 'tests3.name',\n",
       " 's3.age',\n",
       " 's3.hobbies',\n",
       " 's3.hob',\n",
       " 's3.hob(s3.hobbies)',\n",
       " 'dir()',\n",
       " '_ih']"
      ]
     },
     "execution_count": 148,
     "metadata": {},
     "output_type": "execute_result"
    }
   ],
   "source": [
    "_ih"
   ]
  },
  {
   "cell_type": "markdown",
   "id": "9c0c4aff-624c-4f53-9bc5-8a1c81fb94a6",
   "metadata": {},
   "source": [
    "### Packages"
   ]
  },
  {
   "cell_type": "code",
   "execution_count": 165,
   "id": "290b1c63-d65e-4703-b7f9-c06a446f9cf0",
   "metadata": {},
   "outputs": [],
   "source": [
    "# to import: import module within the package\n",
    "\n",
    "import murid.andi as ma\n",
    "import murid.budi as mb"
   ]
  },
  {
   "cell_type": "code",
   "execution_count": 160,
   "id": "fd7fa0b5-ec7b-441d-8f3b-2c44cde6f885",
   "metadata": {},
   "outputs": [
    {
     "data": {
      "text/plain": [
       "'Andhika'"
      ]
     },
     "execution_count": 160,
     "metadata": {},
     "output_type": "execute_result"
    }
   ],
   "source": [
    "murid.andi.name"
   ]
  },
  {
   "cell_type": "code",
   "execution_count": 164,
   "id": "f71d1fcc-5a9e-42e9-a573-81ebb028298c",
   "metadata": {},
   "outputs": [
    {
     "name": "stdout",
     "output_type": "stream",
     "text": [
      "salam kenal, nama saya Andhika\n"
     ]
    }
   ],
   "source": [
    "ma.sapa()"
   ]
  },
  {
   "cell_type": "code",
   "execution_count": 167,
   "id": "841e993c-8f2a-4e89-b433-b3ab9d85f41c",
   "metadata": {},
   "outputs": [
    {
     "data": {
      "text/plain": [
       "'Budiman'"
      ]
     },
     "execution_count": 167,
     "metadata": {},
     "output_type": "execute_result"
    }
   ],
   "source": [
    "mb.nama"
   ]
  },
  {
   "cell_type": "code",
   "execution_count": 169,
   "id": "333eb18c-6002-4289-9973-db8e93477186",
   "metadata": {},
   "outputs": [],
   "source": [
    "# may also import partial info (variable/function)\n",
    "from murid.andi import sapa"
   ]
  },
  {
   "cell_type": "code",
   "execution_count": 170,
   "id": "bc2df9ce-a09a-4b94-9bc5-0c7091b05d62",
   "metadata": {},
   "outputs": [
    {
     "name": "stdout",
     "output_type": "stream",
     "text": [
      "salam kenal, nama saya Andhika\n"
     ]
    }
   ],
   "source": [
    "sapa()"
   ]
  },
  {
   "cell_type": "code",
   "execution_count": 176,
   "id": "9e73aa59-9c85-458f-9c77-0e8d96a63c05",
   "metadata": {},
   "outputs": [
    {
     "name": "stdout",
     "output_type": "stream",
     "text": [
      "Hi, saya Budiman\n"
     ]
    }
   ],
   "source": [
    "# other way to import module\n",
    "import importlib\n",
    "importlib.reload(budi)\n",
    "mb.sapa()"
   ]
  },
  {
   "cell_type": "code",
   "execution_count": 177,
   "id": "adc71588-4fb3-4ff9-9e42-c7935b383428",
   "metadata": {},
   "outputs": [
    {
     "name": "stdout",
     "output_type": "stream",
     "text": [
      "Hi, saya Budiman\n"
     ]
    }
   ],
   "source": [
    "budi.sapa()"
   ]
  },
  {
   "cell_type": "code",
   "execution_count": 178,
   "id": "4ae760e6-c8d2-419a-9f8c-0e50ccd67f4e",
   "metadata": {},
   "outputs": [
    {
     "name": "stdout",
     "output_type": "stream",
     "text": [
      "Requirement already satisfied: requests in /home/law/anaconda3/lib/python3.9/site-packages (2.26.0)\n",
      "Requirement already satisfied: urllib3<1.27,>=1.21.1 in /home/law/anaconda3/lib/python3.9/site-packages (from requests) (1.26.7)\n",
      "Requirement already satisfied: certifi>=2017.4.17 in /home/law/anaconda3/lib/python3.9/site-packages (from requests) (2021.10.8)\n",
      "Requirement already satisfied: charset-normalizer~=2.0.0 in /home/law/anaconda3/lib/python3.9/site-packages (from requests) (2.0.4)\n",
      "Requirement already satisfied: idna<4,>=2.5 in /home/law/anaconda3/lib/python3.9/site-packages (from requests) (3.2)\n",
      "Note: you may need to restart the kernel to use updated packages.\n"
     ]
    }
   ],
   "source": [
    "pip install requests"
   ]
  },
  {
   "cell_type": "code",
   "execution_count": 180,
   "id": "5b182965-8d1b-469f-aea5-192aab4cf306",
   "metadata": {},
   "outputs": [],
   "source": [
    "import requests"
   ]
  },
  {
   "cell_type": "code",
   "execution_count": 181,
   "id": "bf0a7747-3dcc-4e06-8063-dda3254a8d48",
   "metadata": {},
   "outputs": [],
   "source": [
    "# use requests to connect to http://pypi.org\n",
    "\n",
    "halaman_pypi=requests.get(\"https://pypi.org\")"
   ]
  },
  {
   "cell_type": "code",
   "execution_count": 184,
   "id": "8e2e3ecf-1791-4d42-ae84-99222201d2ca",
   "metadata": {},
   "outputs": [
    {
     "data": {
      "text/plain": [
       "'\\n\\n\\n\\n\\n\\n<!DOCTYPE html>\\n<html lang=\"en\" dir=\"ltr\">\\n  <head>\\n    <meta charset=\"utf-8\">\\n    <meta http-equiv=\"X-UA-Compatible\" content=\"IE=edge\">\\n    <meta name=\"viewport\" content=\"width=device-width, initial-scale=1\">\\n\\n    <meta name=\"defaultLanguage\" content=\"en\">\\n    <meta name=\"availableLanguages\" content=\"en, es, fr, ja, pt_BR, uk, el, de, zh_Hans, zh_Hant, ru, he, eo\">\\n\\n    \\n\\n    <title>PyPI · The Python Package Index</title>\\n    <meta name=\"description\" content=\"The Python Package Index (PyPI) is a repository of software for the Python programming language.\">\\n\\n    <link rel=\"stylesheet\" href=\"/static/css/warehouse-ltr.725c5f70.css\">\\n    <link rel=\"stylesheet\" href=\"/static/css/fontawesome.6002a161.css\">\\n    <link rel=\"stylesheet\" href=\"/static/css/regular.98fbf39a.css\">\\n    <link rel=\"stylesheet\" href=\"/static/css/solid.c3b5f0b5.css\">\\n    <link rel=\"stylesheet\" href=\"/static/css/brands.2c303be1.css\">\\n    <link rel=\"stylesheet\" href=\"https://fonts.googleapis.com/css?family=Source+Sans+Pro:400,400italic,600,600italic,700,700italic%7CSource+Code+Pro:500\">\\n    <noscript>\\n      <link rel=\"stylesheet\" href=\"/static/css/noscript.d4ce1e76.css\">\\n    </noscript>\\n\\n    \\n\\n    <link rel=\"icon\" href=\"/static/images/favicon.6a76275d.ico\" type=\"image/x-icon\">\\n\\n    <link rel=\"alternate\" type=\"application/rss+xml\" title=\"RSS: 40 latest updates\" href=\"/rss/updates.xml\">\\n    <link rel=\"alternate\" type=\"application/rss+xml\" title=\"RSS: 40 newest packages\" href=\"/rss/packages.xml\">\\n    \\n    \\n\\n    <meta property=\"og:url\" content=\"https://pypi.org/\">\\n    <meta property=\"og:site_name\" content=\"PyPI\">\\n    <meta property=\"og:type\" content=\"website\">\\n    <meta property=\"og:image\" content=\"https://pypi.org/static/images/twitter.6fecba6f.jpg\">\\n    <meta property=\"og:title\" content=\"\">\\n    <meta property=\"og:description\" content=\"The Python Package Index (PyPI) is a repository of software for the Python programming language.\">\\n\\n    <link rel=\"search\" type=\"application/opensearchdescription+xml\" title=\"PyPI\" href=\"/opensearch.xml\">\\n\\n    \\n    <script async\\n            data-ga-id=\"UA-55961911-1\"\\n            src=\"/static/js/warehouse.765364e1.js\">\\n    </script>\\n    \\n    \\n    <script async src=\"https://www.googletagmanager.com/gtag/js?id=UA-55961911-1\"></script>\\n    <script defer src=\"https://www.fastly-insights.com/insights.js?k=6a52360a-f306-421e-8ed5-7417d0d4a4e9&dnt=true\"></script>\\n    <script async\\n        src=\"https://media.ethicalads.io/media/client/v1.4.0/ethicalads.min.js\"\\n        integrity=\"sha256-U3hKDidudIaxBDEzwGJApJgPEf2mWk6cfMWghrAa6i0= sha384-UcmsCqcNRSLW/dV3Lo1oCi2/VaurXbib6p4HyUEOeIa/4OpsrnucrugAefzVZJfI sha512-q4t1L4xEjGV2R4hzqCa41P8jrgFUS8xTb8rdNv4FGvw7FpydVj/kkxBJHOiaoxHa8olCcx1Slk9K+3sNbsM4ug==\"\\n        crossorigin=\"anonymous\"\\n    ></script>\\n  </head>\\n\\n  <body data-controller=\"viewport-toggle\">\\n    \\n\\n    <!-- Accessibility: this link should always be the first piece of content inside the body-->\\n    <a href=\"#content\" class=\"skip-to-content\">Skip to main content</a>\\n\\n    <button type=\"button\" class=\"button button--primary button--switch-to-mobile hidden\" data-target=\"viewport-toggle.switchToMobile\" data-action=\"viewport-toggle#switchToMobile\">\\n      Switch to mobile version\\n    </button>\\n\\n    <div id=\"sticky-notifications\" class=\"stick-to-top js-stick-to-top\">\\n      <!-- Add browser warning. Will show for ie9 and below -->\\n      <!--[if IE]>\\n      <div class=\"notification-bar notification-bar--warning\" role=\"status\">\\n        <span class=\"notification-bar__icon\">\\n          <i class=\"fa fa-exclamation-triangle\" aria-hidden=\"true\"></i>\\n          <span class=\"sr-only\">Warning</span>\\n        </span>\\n        <span class=\"notification-bar__message\">You are using an unsupported browser, upgrade to a newer version.</span>\\n      </div>\\n      <![endif]-->\\n      \\n      <noscript>\\n      <div class=\"notification-bar notification-bar--warning\" role=\"status\">\\n        \\n        <span class=\"notification-bar__icon\">\\n          <i class=\"fa fa-exclamation-triangle\" aria-hidden=\"true\"></i>\\n          <span class=\"sr-only\">Warning</span>\\n        </span>\\n        <span class=\"notification-bar__message\">Some features may not work without JavaScript. Please try enabling it if you encounter problems.</span>\\n      </div>\\n      </noscript>\\n\\n      \\n        <div data-html-include=\"/_includes/notification-banners/\">\\n        </div>\\n      \\n    </div>\\n\\n    \\n      <div data-html-include=\"/_includes/flash-messages/\">\\n      </div>\\n    \\n\\n    \\n\\n    \\n      <div data-html-include=\"/_includes/session-notifications/\">\\n      </div>\\n    \\n\\n    <header class=\"site-header \">\\n      <div class=\"site-container\">\\n        <div class=\"split-layout\">\\n          \\n<div>\\n  <a class=\"site-header__logo\" href=\"/\">\\n    <img alt=\"PyPI\" src=\"/static/images/logo-small.95de8436.svg\">\\n  </a>\\n</div>\\n\\n\\n          <div data-html-include=\"/_includes/current-user-indicator/\">\\n            <div id=\"user-indicator\" class=\"horizontal-menu horizontal-menu--light horizontal-menu--tall\">\\n  <nav class=\"horizontal-menu horizontal-menu--light horizontal-menu--tall hide-on-tablet\" aria-label=\"Main navigation\">\\n    <ul>\\n      <li class=\"horizontal-menu__item\"><a href=\"/help/\" class=\"horizontal-menu__link\">Help</a></li>\\n      <li class=\"horizontal-menu__item\"><a href=\"/sponsors/\" class=\"horizontal-menu__link\">Sponsors</a></li>\\n      <li class=\"horizontal-menu__item\"><a href=\"/account/login/\" class=\"horizontal-menu__link\">Log in</a></li>\\n      <li class=\"horizontal-menu__item\"><a href=\"/account/register/\" class=\"horizontal-menu__link\">Register</a></li>\\n    </ul>\\n  </nav>\\n  <nav class=\"dropdown dropdown--on-menu hidden show-on-tablet\" aria-label=\"Main navigation\">\\n    <button type=\"button\" class=\"horizontal-menu__link dropdown__trigger\" aria-haspopup=\"true\" aria-expanded=\"false\" aria-label=\"View menu\">\\n      Menu\\n      <span class=\"dropdown__trigger-caret\">\\n        <i class=\"fa fa-caret-down\" aria-hidden=\"true\"></i>\\n      </span>\\n    </button>\\n    <ul class=\"dropdown__content\" aria-hidden=\"true\" aria-label=\"Main menu\">\\n      <li><a class=\"dropdown__link\" href=\"/help/\">Help</a></li>\\n      <li><a class=\"dropdown__link\" href=\"/sponsors/\">Sponsors</a></li>\\n      <li><a class=\"dropdown__link\" href=\"/account/login/\">Log in</a></li>\\n      <li><a class=\"dropdown__link\" href=\"/account/register/\">Register</a></li>\\n    </ul>\\n  </nav>\\n</div>\\n          </div>\\n        </div>\\n      </div>\\n    </header>\\n\\n    \\n\\n    <main id=\"content\">\\n      \\n\\n\\n  \\n\\n\\n<div class=\"banner\">\\n  <div class=\"homepage-banner\">\\n    <h1 class=\"homepage-banner__title\">Find, install and publish Python packages with the Python Package Index</h1>\\n\\n    <form class=\"search-form search-form--large search-form--fullwidth\" action=\"/search/\" role=\"search\">\\n      <label for=\"search\" class=\"sr-only\">Search PyPI</label>\\n\\n      <!-- The following input is intentionally not autofocused, see https://github.com/pypa/warehouse/issues/6088 for more details -->\\n      <input id=\"search\" class=\"search-form__search large-input\" type=\"text\" name=\"q\" placeholder=\"Search projects\" autocomplete=\"off\" autocapitalize=\"off\" spellcheck=\"false\" data-controller=\"search-focus\" data-action=\"keydown@window->search-focus#focusSearchField\" data-target=\"search-focus.searchField\">\\n\\n      <button type=\"submit\" class=\"search-form__button\">\\n        <i class=\"fa fa-search\" aria-hidden=\"true\"></i>\\n        <span class=\"sr-only\">Search</span>\\n      </button>\\n    </form>\\n\\n    <p class=\"homepage-banner__browse\">Or <a href=\"/search/\">browse projects</a></p>\\n  </div>\\n</div>\\n\\n<div class=\"horizontal-section horizontal-section--grey horizontal-section--thin horizontal-section--statistics\">\\n  <div class=\"statistics-bar\">\\n    <p class=\"statistics-bar__statistic\">\\n    361,566 projects\\n    </p>\\n    <p class=\"statistics-bar__statistic\">\\n    3,285,068 releases\\n    </p>\\n    <p class=\"statistics-bar__statistic\">\\n    5,702,235 files\\n    </p>\\n    <p class=\"statistics-bar__statistic\">\\n    576,863 users\\n    </p>\\n  </div>\\n</div>\\n\\n<div class=\"horizontal-section\">\\n  <div class=\"about-pypi\">\\n    <div class=\"about-pypi__logo\">\\n      <img alt=\"\" src=\"/static/images/logo-large.6bdbb439.svg\">\\n    </div>\\n    <div class=\"about-pypi__text\">\\n      <p class=\"lede-paragraph\">The Python Package Index (PyPI) is a repository of software for the Python programming language.</p>\\n      <p>\\n        PyPI helps you find and install software developed and shared by the Python community.\\n        <a href=\"https://packaging.python.org/installing/\" title=\"External link\" target=\"_blank\" rel=\"noopener\">Learn about installing packages</a>.\\n      </p>\\n      <p>\\n        Package authors use PyPI to distribute their software.\\n        <a href=\"https://packaging.python.org/tutorials/packaging-projects/\" title=\"External link\" target=\"_blank\" rel=\"noopener\">Learn how to package your Python code for PyPI</a>.\\n      </p>\\n    </div>\\n  </div>\\n</div>\\n\\n<div class=\"horizontal-section horizontal-section--grey\">\\n  <div class=\"site-container\">\\n    <div class=\"col-half\">\\n      <div class=\"heading-wsubtitle\" id=\"pypi-trending-packages\">\\n        <h2 class=\"heading-wsubtitle__heading\">Trending projects</h2>\\n        <p class=\"heading-wsubtitle__subtitle\">Trending projects as downloaded by the community</p>\\n      </div>\\n      <ul class=\"unstyled\" aria-labelledby=\"pypi-trending-packages\">\\n        \\n          <li>\\n  <a class=\"package-snippet\" href=\"/project/uwebthree/\" rel=\"nofollow\">\\n    <h3 class=\"package-snippet__title\">\\n      <span class=\"package-snippet__name\">uWebthree</span>\\n      <span class=\"package-snippet__version\">3.0.4</span>\\n    </h3>\\n    <p class=\"package-snippet__description\">uWeb, python3, uswgi compatible micro web platform</p>\\n  </a>\\n</li>\\n        \\n          <li>\\n  <a class=\"package-snippet\" href=\"/project/mpi/\" rel=\"nofollow\">\\n    <h3 class=\"package-snippet__title\">\\n      <span class=\"package-snippet__name\">mpi</span>\\n      <span class=\"package-snippet__version\">1.0.0</span>\\n    </h3>\\n    <p class=\"package-snippet__description\">Minecraft Pi API</p>\\n  </a>\\n</li>\\n        \\n          <li>\\n  <a class=\"package-snippet\" href=\"/project/ae-kivy-auto-width/\" rel=\"nofollow\">\\n    <h3 class=\"package-snippet__title\">\\n      <span class=\"package-snippet__name\">ae-kivy-auto-width</span>\\n      <span class=\"package-snippet__version\">0.3.18</span>\\n    </h3>\\n    <p class=\"package-snippet__description\">ae namespace module portion kivy_auto_width: automatic width mix-in classes for kivy widgets</p>\\n  </a>\\n</li>\\n        \\n          <li>\\n  <a class=\"package-snippet\" href=\"/project/maguey/\" rel=\"nofollow\">\\n    <h3 class=\"package-snippet__title\">\\n      <span class=\"package-snippet__name\">maguey</span>\\n      <span class=\"package-snippet__version\">0.0.1</span>\\n    </h3>\\n    <p class=\"package-snippet__description\">Python SDK for Agave API</p>\\n  </a>\\n</li>\\n        \\n          <li>\\n  <a class=\"package-snippet\" href=\"/project/smartpipeline/\" rel=\"nofollow\">\\n    <h3 class=\"package-snippet__title\">\\n      <span class=\"package-snippet__name\">SmartPipeline</span>\\n      <span class=\"package-snippet__version\">0.4.0</span>\\n    </h3>\\n    <p class=\"package-snippet__description\">A framework for fast developing scalable data pipelines following a simple design pattern</p>\\n  </a>\\n</li>\\n        \\n      </ul>\\n    </div>\\n    <div class=\"col-half\">\\n      <div class=\"heading-wsubtitle\" id=\"pypi-new-packages\">\\n        <h2 class=\"heading-wsubtitle__heading\">New releases</h2>\\n        <p class=\"heading-wsubtitle__subtitle\">Hot off the press: the newest project releases</p>\\n      </div>\\n      <ul class=\"unstyled\" aria-labelledby=\"pypi-new-packages\">\\n        \\n          <li>\\n  <a class=\"package-snippet\" href=\"/project/ra-package/\" rel=\"nofollow\">\\n    <h3 class=\"package-snippet__title\">\\n      <span class=\"package-snippet__name\">RA-Package</span>\\n      <span class=\"package-snippet__version\">1.0.1</span>\\n    </h3>\\n    <p class=\"package-snippet__description\">Backend Library for RA-Rechner</p>\\n  </a>\\n</li>\\n        \\n          <li>\\n  <a class=\"package-snippet\" href=\"/project/pyecoventv2/\" rel=\"nofollow\">\\n    <h3 class=\"package-snippet__title\">\\n      <span class=\"package-snippet__name\">pyEcoventV2</span>\\n      <span class=\"package-snippet__version\">0.9.8</span>\\n    </h3>\\n    <p class=\"package-snippet__description\">Python3 library for single-room energy recovery ventilators from Vents / Blauberg / Flexit</p>\\n  </a>\\n</li>\\n        \\n          <li>\\n  <a class=\"package-snippet\" href=\"/project/basxconnect/\" rel=\"nofollow\">\\n    <h3 class=\"package-snippet__title\">\\n      <span class=\"package-snippet__name\">basxconnect</span>\\n      <span class=\"package-snippet__version\">0.3.87</span>\\n    </h3>\\n    <p class=\"package-snippet__description\">CRM application for non-profit organizations</p>\\n  </a>\\n</li>\\n        \\n          <li>\\n  <a class=\"package-snippet\" href=\"/project/basx-bread/\" rel=\"nofollow\">\\n    <h3 class=\"package-snippet__title\">\\n      <span class=\"package-snippet__name\">basx-bread</span>\\n      <span class=\"package-snippet__version\">0.4.76</span>\\n    </h3>\\n    <p class=\"package-snippet__description\">Engine to create database applications based on Django and the IBM Carbon Design System</p>\\n  </a>\\n</li>\\n        \\n          <li>\\n  <a class=\"package-snippet\" href=\"/project/spindry/\" rel=\"nofollow\">\\n    <h3 class=\"package-snippet__title\">\\n      <span class=\"package-snippet__name\">SpinDry</span>\\n      <span class=\"package-snippet__version\">0.0.9</span>\\n    </h3>\\n    <p class=\"package-snippet__description\">Contains MC algorithm for generating host-guest conformers.</p>\\n  </a>\\n</li>\\n        \\n      </ul>\\n    </div>\\n  </div>\\n</div>\\n\\n\\n    </main>\\n\\n    <footer class=\"footer\">\\n      <div class=\"footer__logo\">\\n        <img src=\"/static/images/white-cube.8c3a6fe9.svg\" alt=\"\" class=\"-js-white-cube\">\\n      </div>\\n\\n      <div class=\"footer__menus\">\\n        <div class=\"footer__menu\">\\n          <h2>Help</h2>\\n          <nav aria-label=\"Help navigation\">\\n            <ul>\\n              <li><a href=\"https://packaging.python.org/installing/\" title=\"External link\" target=\"_blank\" rel=\"noopener\">Installing packages</a></li>\\n              <li><a href=\"https://packaging.python.org/tutorials/packaging-projects/\" title=\"External link\" target=\"_blank\" rel=\"noopener\">Uploading packages</a></li>\\n              <li><a href=\"https://packaging.python.org/\" title=\"External link\" target=\"_blank\" rel=\"noopener\">User guide</a></li>\\n              <li><a href=\"/help/\">FAQs</a></li>\\n            </ul>\\n          </nav>\\n        </div>\\n\\n        <div class=\"footer__menu\">\\n          <h2>About PyPI</h2>\\n          <nav aria-label=\"About PyPI navigation\">\\n            <ul>\\n              <li><a href=\"https://twitter.com/PyPI\" title=\"External link\" target=\"_blank\" rel=\"noopener\">PyPI on Twitter</a></li>\\n              <li><a href=\"https://dtdg.co/pypi\" title=\"External link\" target=\"_blank\" rel=\"noopener\">Infrastructure dashboard</a></li>\\n              <li><a href=\"https://www.python.org/dev/peps/pep-0541/\" title=\"External link\" target=\"_blank\" rel=\"noopener\">Package index name retention</a></li>\\n              <li><a href=\"/sponsors/\">Our sponsors</a></li>\\n            </ul>\\n          </nav>\\n        </div>\\n\\n        <div class=\"footer__menu\">\\n          <h2>Contributing to PyPI</h2>\\n          <nav aria-label=\"How to contribute navigation\">\\n            <ul>\\n              <li><a href=\"/help/#feedback\">Bugs and feedback</a></li>\\n              <li><a href=\"https://github.com/pypa/warehouse\" title=\"External link\" target=\"_blank\" rel=\"noopener\">Contribute on GitHub</a></li>\\n              <li><a href=\"https://hosted.weblate.org/projects/pypa/warehouse/\" title=\"External link\" target=\"_blank\" rel=\"noopener\">Translate PyPI</a></li>\\n              <li><a href=\"https://github.com/pypa/warehouse/graphs/contributors\" title=\"External link\" target=\"_blank\" rel=\"noopener\">Development credits</a></li>\\n            </ul>\\n          </nav>\\n        </div>\\n\\n        <div class=\"footer__menu\">\\n          <h2>Using PyPI</h2>\\n          <nav aria-label=\"Using PyPI navigation\">\\n            <ul>\\n              <li><a href=\"https://github.com/pypa/.github/blob/main/CODE_OF_CONDUCT.md\" title=\"External link\" target=\"_blank\" rel=\"noopener\">Code of conduct</a></li>\\n              <li><a href=\"/security/\">Report security issue</a></li>\\n              <li><a href=\"https://www.python.org/privacy/\" title=\"External link\" target=\"_blank\" rel=\"noopener\">Privacy policy</a></li>\\n              <li><a href=\"/policy/terms-of-use/\">Terms of use</a></li>\\n            </ul>\\n          </nav>\\n        </div>\\n      </div>\\n\\n      <hr class=\"footer__divider\">\\n\\n      <div class=\"footer__text\">\\n        \\n        <p>Status: <a href=\"https://status.python.org/\" title=\"External link\" target=\"_blank\" rel=\"noopener\">\\n          <span data-statuspage-domain=\"https://2p66nmmycsj3.statuspage.io\">all systems operational</span></a>\\n        </p>\\n        \\n        <p>\\n          Developed and maintained by the Python community, for the Python community.\\n          <br>\\n          <a href=\"https://donate.pypi.org\">Donate today!</a>\\n        </p>\\n        <p>© 2022 <a href=\"https://www.python.org/psf/\" title=\"External link\" target=\"_blank\" rel=\"noopener\">Python Software Foundation</a><br>\\n          <a href=\"/sitemap/\">Site map</a>\\n        </p>\\n      </div>\\n\\n      <div class=\"centered hide-on-desktop\">\\n        <button type=\"button\" class=\"button button--switch-to-desktop hidden\" data-target=\"viewport-toggle.switchToDesktop\" data-action=\"viewport-toggle#switchToDesktop\">\\n          Switch to desktop version\\n        </button>\\n      </div>\\n    </footer>\\n\\n\\n    <div class=\"language-switcher\">\\n      <form action=\"/locale/\">\\n        <ul>\\n          \\n          <li>\\n            <button\\n              \\n              class=\"language-switcher__selected\"\\n              \\n              name=\"locale_id\" value=\"en\" type=\"submit\"\\n            >\\n              English\\n            </button>\\n          </li>\\n          \\n          <li>\\n            <button\\n              \\n              name=\"locale_id\" value=\"es\" type=\"submit\"\\n            >\\n              español\\n            </button>\\n          </li>\\n          \\n          <li>\\n            <button\\n              \\n              name=\"locale_id\" value=\"fr\" type=\"submit\"\\n            >\\n              français\\n            </button>\\n          </li>\\n          \\n          <li>\\n            <button\\n              \\n              name=\"locale_id\" value=\"ja\" type=\"submit\"\\n            >\\n              日本語\\n            </button>\\n          </li>\\n          \\n          <li>\\n            <button\\n              \\n              name=\"locale_id\" value=\"pt_BR\" type=\"submit\"\\n            >\\n              português (Brasil)\\n            </button>\\n          </li>\\n          \\n          <li>\\n            <button\\n              \\n              name=\"locale_id\" value=\"uk\" type=\"submit\"\\n            >\\n              українська\\n            </button>\\n          </li>\\n          \\n          <li>\\n            <button\\n              \\n              name=\"locale_id\" value=\"el\" type=\"submit\"\\n            >\\n              Ελληνικά\\n            </button>\\n          </li>\\n          \\n          <li>\\n            <button\\n              \\n              name=\"locale_id\" value=\"de\" type=\"submit\"\\n            >\\n              Deutsch\\n            </button>\\n          </li>\\n          \\n          <li>\\n            <button\\n              \\n              name=\"locale_id\" value=\"zh_Hans\" type=\"submit\"\\n            >\\n              中文 (简体)\\n            </button>\\n          </li>\\n          \\n          <li>\\n            <button\\n              \\n              name=\"locale_id\" value=\"zh_Hant\" type=\"submit\"\\n            >\\n              中文 (繁體)\\n            </button>\\n          </li>\\n          \\n          <li>\\n            <button\\n              \\n              name=\"locale_id\" value=\"ru\" type=\"submit\"\\n            >\\n              русский\\n            </button>\\n          </li>\\n          \\n          <li>\\n            <button\\n              \\n              name=\"locale_id\" value=\"he\" type=\"submit\"\\n            >\\n              עברית\\n            </button>\\n          </li>\\n          \\n          <li>\\n            <button\\n              \\n              name=\"locale_id\" value=\"eo\" type=\"submit\"\\n            >\\n              esperanto\\n            </button>\\n          </li>\\n          \\n        </ul>\\n      </form>\\n    </div>\\n\\n\\n    <div class=\"sponsors\">\\n  <p class=\"sponsors__title\">Supported by</p>\\n  \\n    \\n    \\n  \\n    \\n    \\n  \\n    \\n    \\n  \\n    \\n    \\n  \\n    \\n    \\n  \\n    \\n    \\n  \\n    \\n    \\n      \\n      \\n        <a class=\"sponsors__sponsor\" target=\"_blank\" rel=\"noopener\" href=\"https://aws.amazon.com/\">\\n          <img class=sponsors__image src=\"https://warehouse-camo.ingress.cmh1.psfhosted.org/ed7074cadad1a06f56bc520ad9bd3e00d0704c5b/68747470733a2f2f73746f726167652e676f6f676c65617069732e636f6d2f707970692d6173736574732f73706f6e736f726c6f676f732f6177732d77686974652d6c6f676f2d7443615473387a432e706e67\" alt=AWS>\\n          <span class=\"sponsors__name\">AWS</span>\\n          <span class=\"sponsors__service\">\\n          \\n          \\n            Cloud computing\\n          \\n          </span>\\n        </a>\\n      \\n    \\n  \\n    \\n    \\n  \\n    \\n    \\n      \\n      \\n    \\n  \\n    \\n    \\n  \\n    \\n    \\n  \\n    \\n    \\n  \\n    \\n    \\n  \\n    \\n    \\n  \\n    \\n    \\n      \\n      \\n    \\n  \\n    \\n    \\n  \\n    \\n    \\n      \\n      \\n    \\n  \\n    \\n    \\n  \\n    \\n    \\n  \\n    \\n    \\n  \\n    \\n    \\n      \\n      \\n        <a class=\"sponsors__sponsor\" target=\"_blank\" rel=\"noopener\" href=\"https://www.datadoghq.com/\">\\n          <img class=sponsors__image src=\"https://warehouse-camo.ingress.cmh1.psfhosted.org/8855f7c063a3bdb5b0ce8d91bfc50cf851cc5c51/68747470733a2f2f73746f726167652e676f6f676c65617069732e636f6d2f707970692d6173736574732f73706f6e736f726c6f676f732f64617461646f672d77686974652d6c6f676f2d6668644c4e666c6f2e706e67\" alt=Datadog>\\n          <span class=\"sponsors__name\">Datadog</span>\\n          <span class=\"sponsors__service\">\\n          \\n          \\n            Monitoring\\n          \\n          </span>\\n        </a>\\n      \\n    \\n  \\n    \\n    \\n  \\n    \\n    \\n      \\n      \\n    \\n  \\n    \\n    \\n      \\n      \\n        <a class=\"sponsors__sponsor\" target=\"_blank\" rel=\"noopener\" href=\"https://research.fb.com/\">\\n          <img class=sponsors__image src=\"https://warehouse-camo.ingress.cmh1.psfhosted.org/e338a8302eed851d9793e0a4a92f57b315eb5998/68747470733a2f2f73746f726167652e676f6f676c65617069732e636f6d2f707970692d6173736574732f73706f6e736f726c6f676f732f66616365626f6f6b2d696e7374616772616d2d77686974652d6c6f676f2d6750686a57647a722e706e67\" alt=\"Facebook / Instagram\">\\n          <span class=\"sponsors__name\">Facebook / Instagram</span>\\n          <span class=\"sponsors__service\">\\n          \\n          \\n            PSF Sponsor\\n          \\n          </span>\\n        </a>\\n      \\n    \\n  \\n    \\n    \\n      \\n      \\n        <a class=\"sponsors__sponsor\" target=\"_blank\" rel=\"noopener\" href=\"https://www.fastly.com/\">\\n          <img class=sponsors__image src=\"https://warehouse-camo.ingress.cmh1.psfhosted.org/df6fe8829cbff2d7f668d98571df1fd011f36192/68747470733a2f2f73746f726167652e676f6f676c65617069732e636f6d2f707970692d6173736574732f73706f6e736f726c6f676f732f666173746c792d77686974652d6c6f676f2d65684d3077735f6f2e706e67\" alt=Fastly>\\n          <span class=\"sponsors__name\">Fastly</span>\\n          <span class=\"sponsors__service\">\\n          \\n          \\n            CDN\\n          \\n          </span>\\n        </a>\\n      \\n    \\n  \\n    \\n    \\n  \\n    \\n    \\n      \\n      \\n        <a class=\"sponsors__sponsor\" target=\"_blank\" rel=\"noopener\" href=\"https://careers.google.com/\">\\n          <img class=sponsors__image src=\"https://warehouse-camo.ingress.cmh1.psfhosted.org/420cc8cf360bac879e24c923b2f50ba7d1314fb0/68747470733a2f2f73746f726167652e676f6f676c65617069732e636f6d2f707970692d6173736574732f73706f6e736f726c6f676f732f676f6f676c652d77686974652d6c6f676f2d616734424e3774332e706e67\" alt=Google>\\n          <span class=\"sponsors__name\">Google</span>\\n          <span class=\"sponsors__service\">\\n          \\n          \\n            Object Storage and Download Analytics\\n          \\n          </span>\\n        </a>\\n      \\n    \\n  \\n    \\n    \\n  \\n    \\n    \\n      \\n      \\n        <a class=\"sponsors__sponsor\" target=\"_blank\" rel=\"noopener\" href=\"https://www.python.org/psf/sponsors/#huawei\">\\n          <img class=sponsors__image src=\"https://warehouse-camo.ingress.cmh1.psfhosted.org/656ae2011c837dba1e2de4c8f85815eed86c0878/68747470733a2f2f73746f726167652e676f6f676c65617069732e636f6d2f707970692d6173736574732f73706f6e736f726c6f676f732f6875617765692d77686974652d6c6f676f2d416a465f553652312e706e67\" alt=Huawei>\\n          <span class=\"sponsors__name\">Huawei</span>\\n          <span class=\"sponsors__service\">\\n          \\n          \\n            PSF Sponsor\\n          \\n          </span>\\n        </a>\\n      \\n    \\n  \\n    \\n    \\n  \\n    \\n    \\n  \\n    \\n    \\n      \\n      \\n    \\n  \\n    \\n    \\n  \\n    \\n    \\n  \\n    \\n    \\n  \\n    \\n    \\n  \\n    \\n    \\n      \\n      \\n        <a class=\"sponsors__sponsor\" target=\"_blank\" rel=\"noopener\" href=\"https://www.python.org/psf/sponsors/#microsoft\">\\n          <img class=sponsors__image src=\"https://warehouse-camo.ingress.cmh1.psfhosted.org/524d1ce72f7772294ca4c1fe05d21dec8fa3f8ea/68747470733a2f2f73746f726167652e676f6f676c65617069732e636f6d2f707970692d6173736574732f73706f6e736f726c6f676f732f6d6963726f736f66742d77686974652d6c6f676f2d5a443172685444462e706e67\" alt=Microsoft>\\n          <span class=\"sponsors__name\">Microsoft</span>\\n          <span class=\"sponsors__service\">\\n          \\n          \\n            PSF Sponsor\\n          \\n          </span>\\n        </a>\\n      \\n    \\n  \\n    \\n    \\n  \\n    \\n    \\n  \\n    \\n    \\n  \\n    \\n    \\n      \\n      \\n        <a class=\"sponsors__sponsor\" target=\"_blank\" rel=\"noopener\" href=\"https://www.python.org/psf/sponsors/#nvidia\">\\n          <img class=sponsors__image src=\"https://warehouse-camo.ingress.cmh1.psfhosted.org/19eae9e26a9a9ffacc134095642b1392737c58fb/68747470733a2f2f73746f726167652e676f6f676c65617069732e636f6d2f707970692d6173736574732f73706f6e736f726c6f676f732f6e76696469612d77686974652d6c6f676f2d46394c393761474c2e706e67\" alt=NVIDIA>\\n          <span class=\"sponsors__name\">NVIDIA</span>\\n          <span class=\"sponsors__service\">\\n          \\n          \\n            PSF Sponsor\\n          \\n          </span>\\n        </a>\\n      \\n    \\n  \\n    \\n    \\n  \\n    \\n    \\n  \\n    \\n    \\n  \\n    \\n    \\n      \\n      \\n        <a class=\"sponsors__sponsor\" target=\"_blank\" rel=\"noopener\" href=\"https://www.pingdom.com/\">\\n          <img class=sponsors__image src=\"https://warehouse-camo.ingress.cmh1.psfhosted.org/d01053c02f3a626b73ffcb06b96367fdbbf9e230/68747470733a2f2f73746f726167652e676f6f676c65617069732e636f6d2f707970692d6173736574732f73706f6e736f726c6f676f732f70696e67646f6d2d77686974652d6c6f676f2d67355831547546362e706e67\" alt=Pingdom>\\n          <span class=\"sponsors__name\">Pingdom</span>\\n          <span class=\"sponsors__service\">\\n          \\n          \\n            Monitoring\\n          \\n          </span>\\n        </a>\\n      \\n    \\n  \\n    \\n    \\n  \\n    \\n    \\n  \\n    \\n    \\n  \\n    \\n    \\n  \\n    \\n    \\n  \\n    \\n    \\n  \\n    \\n    \\n  \\n    \\n    \\n  \\n    \\n    \\n  \\n    \\n    \\n  \\n    \\n    \\n      \\n      \\n        <a class=\"sponsors__sponsor\" target=\"_blank\" rel=\"noopener\" href=\"https://opensource.salesforce.com/\">\\n          <img class=sponsors__image src=\"https://warehouse-camo.ingress.cmh1.psfhosted.org/932f54a6c688f0bbc0e2f4e7b7dc5c067eed6c55/68747470733a2f2f73746f726167652e676f6f676c65617069732e636f6d2f707970692d6173736574732f73706f6e736f726c6f676f732f73616c6573666f7263652d77686974652d6c6f676f2d4539677a3053782d2e706e67\" alt=Salesforce>\\n          <span class=\"sponsors__name\">Salesforce</span>\\n          <span class=\"sponsors__service\">\\n          \\n          \\n            PSF Sponsor\\n          \\n          </span>\\n        </a>\\n      \\n    \\n  \\n    \\n    \\n  \\n    \\n    \\n      \\n      \\n        <a class=\"sponsors__sponsor\" target=\"_blank\" rel=\"noopener\" href=\"https://getsentry.com/for/python\">\\n          <img class=sponsors__image src=\"https://warehouse-camo.ingress.cmh1.psfhosted.org/b1dc2c04aa1a8efbacd6dc6254bb63429af47b41/68747470733a2f2f73746f726167652e676f6f676c65617069732e636f6d2f707970692d6173736574732f73706f6e736f726c6f676f732f73656e7472792d77686974652d6c6f676f2d31556836754c32452e706e67\" alt=Sentry>\\n          <span class=\"sponsors__name\">Sentry</span>\\n          <span class=\"sponsors__service\">\\n          \\n          \\n            Error logging\\n          \\n          </span>\\n        </a>\\n      \\n    \\n  \\n    \\n    \\n  \\n    \\n    \\n  \\n    \\n    \\n  \\n    \\n    \\n  \\n    \\n    \\n  \\n    \\n    \\n      \\n      \\n        <a class=\"sponsors__sponsor\" target=\"_blank\" rel=\"noopener\" href=\"https://statuspage.io\">\\n          <img class=sponsors__image src=\"https://warehouse-camo.ingress.cmh1.psfhosted.org/b611884ff90435a0575dbab7d9b0d3e60f136466/68747470733a2f2f73746f726167652e676f6f676c65617069732e636f6d2f707970692d6173736574732f73706f6e736f726c6f676f732f737461747573706167652d77686974652d6c6f676f2d5467476c6a4a2d502e706e67\" alt=StatusPage>\\n          <span class=\"sponsors__name\">StatusPage</span>\\n          <span class=\"sponsors__service\">\\n          \\n          \\n            Status page\\n          \\n          </span>\\n        </a>\\n      \\n    \\n  \\n    \\n    \\n  \\n    \\n    \\n  \\n    \\n    \\n  \\n    \\n    \\n  \\n    \\n    \\n  \\n</div>\\n\\n    \\n  </body>\\n\\n</html>'"
      ]
     },
     "execution_count": 184,
     "metadata": {},
     "output_type": "execute_result"
    }
   ],
   "source": [
    "halaman_pypi.text"
   ]
  }
 ],
 "metadata": {
  "kernelspec": {
   "display_name": "Python 3 (ipykernel)",
   "language": "python",
   "name": "python3"
  },
  "language_info": {
   "codemirror_mode": {
    "name": "ipython",
    "version": 3
   },
   "file_extension": ".py",
   "mimetype": "text/x-python",
   "name": "python",
   "nbconvert_exporter": "python",
   "pygments_lexer": "ipython3",
   "version": "3.9.7"
  }
 },
 "nbformat": 4,
 "nbformat_minor": 5
}
