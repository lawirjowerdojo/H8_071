{
 "cells": [
  {
   "cell_type": "markdown",
   "id": "c5c92e8a-5a0b-45a9-8860-59795b84596d",
   "metadata": {},
   "source": [
    "## Session 4 - 8 Mar 2022\n",
    "LWirjowerdojo - PYTN071ONL010"
   ]
  },
  {
   "cell_type": "markdown",
   "id": "886a757a-3c4d-42be-ad11-a91718cb9b31",
   "metadata": {
    "tags": []
   },
   "source": [
    "## Numpy - Numerical Python\n",
    "- Related to numbers (to process numbers)"
   ]
  },
  {
   "cell_type": "code",
   "execution_count": 3,
   "id": "5f9bdcc2-f5be-463d-97b5-5434e79bff81",
   "metadata": {},
   "outputs": [],
   "source": [
    "import numpy as np"
   ]
  },
  {
   "cell_type": "markdown",
   "id": "4774c36e-ea5d-453a-819a-234bd53bfafc",
   "metadata": {},
   "source": [
    "### Array - Structured Data\n",
    "- contains numbers\n",
    "- string is not suitable (if it contains string, use LIST instead)\n",
    "- CRUD: Create Read Update Delete (everytime we encounter a new data)\n",
    "    - np.array([]) # array that contains the number within the []\n",
    "    - np.zeros(10) # create numpy array contains 0 with size: 10\n",
    "    - np.ones(5) # contains 1 size: 5\n",
    "    - np.empty(7) # empty array with size: 7\n",
    "    - np.arange(5) # create an array that contains numbers from 0-4\n",
    "        - np.arange(5,10) # result: 5,6,7,8,9\n",
    "        - np.arange(10,100,25) # result: 10, 35, 60, 85\n",
    "    - np.random.random(15) # random numbers with size: 15; range of values: 0-1\n",
    "- for 2D array: row starts from index 0, column starts from index 1\n",
    "    "
   ]
  },
  {
   "cell_type": "markdown",
   "id": "df0cb10f-fe9e-4a8d-a802-05ee4bcd668c",
   "metadata": {},
   "source": [
    "#### Create"
   ]
  },
  {
   "cell_type": "code",
   "execution_count": 8,
   "id": "db82cfb5-6649-40b0-9522-bc112eacdc29",
   "metadata": {},
   "outputs": [
    {
     "name": "stdout",
     "output_type": "stream",
     "text": [
      "[1 2 3]\n",
      "<class 'numpy.ndarray'>\n"
     ]
    }
   ],
   "source": [
    "# example\n",
    "a= np.array([1,2,3])\n",
    "print(a)\n",
    "print(type(a)) # nd array - n dimensional array"
   ]
  },
  {
   "cell_type": "code",
   "execution_count": 15,
   "id": "c24a6575-0bc9-46c4-a9c2-dee3a71c90b4",
   "metadata": {},
   "outputs": [
    {
     "name": "stdout",
     "output_type": "stream",
     "text": [
      "[[1 2 3]\n",
      " [4 5 6]]\n",
      "<class 'numpy.ndarray'>\n"
     ]
    }
   ],
   "source": [
    "a= np.array([[1,2,3],[4,5,6]])\n",
    "print(a)\n",
    "print(type(a))"
   ]
  },
  {
   "cell_type": "code",
   "execution_count": 14,
   "id": "c6ee67bf-ef84-4d3a-97c5-f0a0f1a33075",
   "metadata": {},
   "outputs": [
    {
     "data": {
      "text/plain": [
       "array([0., 0., 0.])"
      ]
     },
     "execution_count": 14,
     "metadata": {},
     "output_type": "execute_result"
    }
   ],
   "source": [
    "np.zeros(3)"
   ]
  },
  {
   "cell_type": "code",
   "execution_count": 16,
   "id": "b6a79542-3ff0-4f5b-86f6-d57caf6599f1",
   "metadata": {},
   "outputs": [
    {
     "data": {
      "text/plain": [
       "array([1., 1., 1., 1.])"
      ]
     },
     "execution_count": 16,
     "metadata": {},
     "output_type": "execute_result"
    }
   ],
   "source": [
    "np.ones(4)"
   ]
  },
  {
   "cell_type": "code",
   "execution_count": 192,
   "id": "8ddae65e-d6c6-44b7-9749-57a9f19005de",
   "metadata": {
    "tags": []
   },
   "outputs": [
    {
     "data": {
      "text/plain": [
       "array([[0.e+000, 1.e-323, 2.e-323]])"
      ]
     },
     "execution_count": 192,
     "metadata": {},
     "output_type": "execute_result"
    }
   ],
   "source": [
    "np.empty((1,3))"
   ]
  },
  {
   "cell_type": "code",
   "execution_count": 193,
   "id": "3c947e79-13de-4c10-9dc8-2b6bd757c39f",
   "metadata": {},
   "outputs": [
    {
     "data": {
      "text/plain": [
       "array([[ 5,  6,  7],\n",
       "       [ 8,  9, 10]])"
      ]
     },
     "execution_count": 193,
     "metadata": {},
     "output_type": "execute_result"
    }
   ],
   "source": [
    "np.arange(5,11).reshape((2,3))"
   ]
  },
  {
   "cell_type": "code",
   "execution_count": 15,
   "id": "191168b8-ff3b-4160-8402-2ccdbebbb7ba",
   "metadata": {},
   "outputs": [
    {
     "data": {
      "text/plain": [
       "array([4.66505774e-310, 0.00000000e+000, 0.00000000e+000, 0.00000000e+000,\n",
       "       0.00000000e+000, 0.00000000e+000, 3.16202013e-322])"
      ]
     },
     "execution_count": 15,
     "metadata": {},
     "output_type": "execute_result"
    }
   ],
   "source": [
    "# if within the same script it contains the same array size, it will output the same numbers (applies to ones and random)\n",
    "np.empty(7)"
   ]
  },
  {
   "cell_type": "code",
   "execution_count": 17,
   "id": "85f3286f-46d1-463c-aef8-92dce0772f52",
   "metadata": {},
   "outputs": [
    {
     "name": "stdout",
     "output_type": "stream",
     "text": [
      "[0 1 2 3 4]\n",
      "[5 6 7 8 9]\n",
      "[5 7 9]\n"
     ]
    }
   ],
   "source": [
    "print(np.arange(5)) # numbers from 0 to anything -1 within the bracket\n",
    "print(np.arange(5,10)) # numbers from 5 - 9\n",
    "print(np.arange(5,10,2)) # numbers from 5 with 2 inc up to <10"
   ]
  },
  {
   "cell_type": "code",
   "execution_count": 194,
   "id": "0825c438-3cd2-428b-bc5d-e70ee1cbef63",
   "metadata": {},
   "outputs": [
    {
     "name": "stdout",
     "output_type": "stream",
     "text": [
      "[0.13255935 0.11742796 0.45280427 0.99623131 0.80299879 0.23568154\n",
      " 0.46423287 0.85392374 0.72751237 0.72329157]\n"
     ]
    },
    {
     "data": {
      "text/plain": [
       "array([[0.16224688, 0.13489967],\n",
       "       [0.17273654, 0.04675615],\n",
       "       [0.7664776 , 0.71930678],\n",
       "       [0.1179199 , 0.39280905],\n",
       "       [0.9329625 , 0.22860125]])"
      ]
     },
     "execution_count": 194,
     "metadata": {},
     "output_type": "execute_result"
    }
   ],
   "source": [
    "c=np.random.random(10)\n",
    "print(c)\n",
    "np.random.random(10).reshape((5,2))"
   ]
  },
  {
   "cell_type": "code",
   "execution_count": 28,
   "id": "261ff318-e568-4a60-9bd6-7643506c0fb9",
   "metadata": {},
   "outputs": [
    {
     "name": "stdout",
     "output_type": "stream",
     "text": [
      "[3.57138356 3.93694835 5.01895944 1.64922593 1.5427855  1.6106932\n",
      " 4.57928952 0.249463   4.43128591 3.67413309]\n"
     ]
    }
   ],
   "source": [
    "d=c*6\n",
    "print(d)"
   ]
  },
  {
   "cell_type": "code",
   "execution_count": 29,
   "id": "59ba4e6b-a40e-4af4-993c-37d6dbbae672",
   "metadata": {},
   "outputs": [
    {
     "data": {
      "text/plain": [
       "array([3, 3, 5, 1, 1, 1, 4, 0, 4, 3])"
      ]
     },
     "execution_count": 29,
     "metadata": {},
     "output_type": "execute_result"
    }
   ],
   "source": [
    "# converting it to an integer\n",
    "d.astype(int)"
   ]
  },
  {
   "cell_type": "markdown",
   "id": "72ba35ca-fade-4d28-8503-e7c4941d1daa",
   "metadata": {},
   "source": [
    "#### Read\n",
    "- assume that arr is a numpy array\n",
    "- the following items are PROPERTY of the shape (not a function), no need for the () after\n",
    "- arr.shape - to check the shape of the array (column & row)\n",
    "- arr.size - no of numbers within the array\n",
    "- arr.ndim - matrix \"size\""
   ]
  },
  {
   "cell_type": "code",
   "execution_count": 37,
   "id": "71d8add5-e5f1-48ea-9488-b5cd37c1ff4d",
   "metadata": {},
   "outputs": [],
   "source": [
    "arr=np.array([[2,5,7,9,0]]) # with the two brackets, it indicates that it contains a specific number of row"
   ]
  },
  {
   "cell_type": "code",
   "execution_count": 39,
   "id": "41e5f1ac-12bc-4fb4-b9ae-8f6bb33563ab",
   "metadata": {},
   "outputs": [
    {
     "name": "stdout",
     "output_type": "stream",
     "text": [
      "[[2 5 7 9 0]]\n",
      "(1, 5)\n",
      "5\n",
      "2\n"
     ]
    }
   ],
   "source": [
    "print(arr)\n",
    "print(arr.shape)\n",
    "print(arr.size)\n",
    "print(arr.ndim)"
   ]
  },
  {
   "cell_type": "code",
   "execution_count": 40,
   "id": "ae29dedd-2fb2-4e60-af29-f6b8b7dd4a78",
   "metadata": {},
   "outputs": [
    {
     "name": "stdout",
     "output_type": "stream",
     "text": [
      "[[ 2  5  7  9  0]\n",
      " [21 15 17 91 10]]\n",
      "(2, 5)\n",
      "10\n",
      "2\n"
     ]
    }
   ],
   "source": [
    "arr=np.array([[2,5,7,9,0], [21,15,17,91,10]])\n",
    "print(arr)\n",
    "print(arr.shape)\n",
    "print(arr.size)\n",
    "print(arr.ndim)"
   ]
  },
  {
   "cell_type": "code",
   "execution_count": 42,
   "id": "3162c55e-6e73-4cc8-b2b4-174553b03243",
   "metadata": {},
   "outputs": [
    {
     "name": "stdout",
     "output_type": "stream",
     "text": [
      "[[ 2.  5.  7.  9. nan]\n",
      " [21. 15. 17. 91. 10.]]\n",
      "(2, 5)\n",
      "10\n",
      "2\n"
     ]
    }
   ],
   "source": [
    "# total numbers within the >1 nd array must be the same, otherwise it will not work as a regular numpy array (warning/complain will pop up)\n",
    "# empty data can be replaced with np.NAN\n",
    "arr=np.array([[2,5,7,9,np.NAN], [21,15,17,91,10]])\n",
    "print(arr)\n",
    "print(arr.shape)\n",
    "print(arr.size)\n",
    "print(arr.ndim)"
   ]
  },
  {
   "cell_type": "code",
   "execution_count": 79,
   "id": "098e73eb-434c-4704-8f4a-adc50f8e1d40",
   "metadata": {},
   "outputs": [
    {
     "name": "stdout",
     "output_type": "stream",
     "text": [
      "[[ 2.  5.  7. 90. nan]\n",
      " [21. 15. 17. 91. 10.]]\n",
      "5.0 take the first row and second column\n",
      "[[ 5.  7.]\n",
      " [15. 17.]] take the first and second row (denoted by the :) and the first and second column\n"
     ]
    }
   ],
   "source": [
    "# indexing: to read based on index\n",
    "print(arr)\n",
    "print(arr[0,1], \"take the first row and second column\")\n",
    "\n",
    "# slicing: to take few items within the array\n",
    "print(arr[:,1:3], \"take the first and second row (denoted by the :) and the first and second column\")"
   ]
  },
  {
   "cell_type": "markdown",
   "id": "94244502-899c-4f72-88cc-b2ac693c720a",
   "metadata": {},
   "source": [
    "#### Update \n",
    "Edit numpy array\n",
    "- np.append() - append 2 numpy array into 1\n",
    "- np.delete() - delete based on index\n",
    "- np.sort() - sort items from smallest to largest value"
   ]
  },
  {
   "cell_type": "markdown",
   "id": "cc9ce796-f460-4a00-8b86-90f564cfbd00",
   "metadata": {},
   "source": [
    "#### Reshape"
   ]
  },
  {
   "cell_type": "code",
   "execution_count": 50,
   "id": "57aaa3a3-eacb-4399-9091-68f8d3089c38",
   "metadata": {},
   "outputs": [
    {
     "name": "stdout",
     "output_type": "stream",
     "text": [
      "[[ 2.  5.  7.  9. nan]\n",
      " [21. 15. 17. 91. 10.]]\n"
     ]
    }
   ],
   "source": [
    "print(arr)"
   ]
  },
  {
   "cell_type": "code",
   "execution_count": 51,
   "id": "fdbfcddc-4895-4594-a8ec-2234588894ed",
   "metadata": {},
   "outputs": [
    {
     "name": "stdout",
     "output_type": "stream",
     "text": [
      "(2, 5)\n"
     ]
    }
   ],
   "source": [
    "print(arr.shape)"
   ]
  },
  {
   "cell_type": "code",
   "execution_count": 55,
   "id": "39144053-0685-48be-b79e-c33d68715da5",
   "metadata": {},
   "outputs": [
    {
     "name": "stdout",
     "output_type": "stream",
     "text": [
      "[ 2.  5.  7.  9. nan 21. 15. 17. 91. 10.]\n",
      "(10,)\n"
     ]
    }
   ],
   "source": [
    "arr2=arr.reshape((10,)) # reshape must be referenced to the number of values that exist within the numpy array\n",
    "print(arr2)\n",
    "print(arr2.shape)"
   ]
  },
  {
   "cell_type": "code",
   "execution_count": 56,
   "id": "ed6d99c7-37be-4396-8fda-fb69ed435ef2",
   "metadata": {},
   "outputs": [
    {
     "name": "stdout",
     "output_type": "stream",
     "text": [
      "[[ 2.  5.]\n",
      " [ 7.  9.]\n",
      " [nan 21.]\n",
      " [15. 17.]\n",
      " [91. 10.]]\n",
      "(5, 2)\n"
     ]
    }
   ],
   "source": [
    "# reshape to 2D\n",
    "arr2=arr.reshape((5,2)) # 5 rows, two columns\n",
    "print(arr2)\n",
    "print(arr2.shape)"
   ]
  },
  {
   "cell_type": "code",
   "execution_count": 57,
   "id": "d13286d2-0114-4b40-9d73-2a86f6d58516",
   "metadata": {},
   "outputs": [
    {
     "name": "stdout",
     "output_type": "stream",
     "text": [
      "[[[ 2.]\n",
      "  [ 5.]]\n",
      "\n",
      " [[ 7.]\n",
      "  [ 9.]]\n",
      "\n",
      " [[nan]\n",
      "  [21.]]\n",
      "\n",
      " [[15.]\n",
      "  [17.]]\n",
      "\n",
      " [[91.]\n",
      "  [10.]]]\n",
      "(5, 2, 1)\n"
     ]
    }
   ],
   "source": [
    "arr2=arr.reshape((5,2,1)) # 3D\n",
    "print(arr2)\n",
    "print(arr2.shape)"
   ]
  },
  {
   "cell_type": "markdown",
   "id": "ae9ad7d9-a359-477d-b68b-19f494f54bfd",
   "metadata": {},
   "source": [
    "#### Append"
   ]
  },
  {
   "cell_type": "code",
   "execution_count": 59,
   "id": "f87601a7-80a9-4a9a-81f2-7a07be2a04ff",
   "metadata": {},
   "outputs": [
    {
     "data": {
      "text/plain": [
       "array([ 2.,  5.,  7.,  9., nan, 21., 15., 17., 91., 10.,  5.])"
      ]
     },
     "execution_count": 59,
     "metadata": {},
     "output_type": "execute_result"
    }
   ],
   "source": [
    "np.append(arr,[5])"
   ]
  },
  {
   "cell_type": "code",
   "execution_count": 60,
   "id": "1521dbbf-e7b5-459a-967c-438006e0e80e",
   "metadata": {},
   "outputs": [
    {
     "data": {
      "text/plain": [
       "array([[ 2.,  5.,  7.,  9., nan],\n",
       "       [21., 15., 17., 91., 10.]])"
      ]
     },
     "execution_count": 60,
     "metadata": {},
     "output_type": "execute_result"
    }
   ],
   "source": [
    "arr"
   ]
  },
  {
   "cell_type": "code",
   "execution_count": 61,
   "id": "b2d28ff8-b117-4efb-9690-b8678362be79",
   "metadata": {},
   "outputs": [
    {
     "data": {
      "text/plain": [
       "array([ 2.,  5.,  7.,  9., nan, 21., 15., 17., 91., 10.,  5., 10., 75.,\n",
       "       10., 11., 12.])"
      ]
     },
     "execution_count": 61,
     "metadata": {},
     "output_type": "execute_result"
    }
   ],
   "source": [
    "np.append(arr, [[5,10,75], [10,11,12]])"
   ]
  },
  {
   "cell_type": "code",
   "execution_count": 62,
   "id": "5d3bd668-1b25-4e67-90dc-d39f6ae50ac8",
   "metadata": {},
   "outputs": [
    {
     "data": {
      "text/plain": [
       "array([ 2.,  5.,  7.,  9., nan, 21., 15., 17., 91., 10.,  1.,  1.,  1.])"
      ]
     },
     "execution_count": 62,
     "metadata": {},
     "output_type": "execute_result"
    }
   ],
   "source": [
    "np.append(arr,np.ones(3))"
   ]
  },
  {
   "cell_type": "code",
   "execution_count": 67,
   "id": "1b9b7faf-ed6c-49af-8abf-b4e44b88bbd1",
   "metadata": {},
   "outputs": [
    {
     "data": {
      "text/plain": [
       "array([[ 2.,  5.,  7.,  9., nan],\n",
       "       [21., 15., 17., 91., 10.],\n",
       "       [ 1.,  2.,  3.,  4.,  5.]])"
      ]
     },
     "execution_count": 67,
     "metadata": {},
     "output_type": "execute_result"
    }
   ],
   "source": [
    "np.append(arr, [[1,2,3,4,5]], axis=0) # the array will be appended on a new row (axis 0 represents a new row)"
   ]
  },
  {
   "cell_type": "code",
   "execution_count": 69,
   "id": "265d031f-8e47-4af9-b65d-d612adb6281e",
   "metadata": {},
   "outputs": [
    {
     "data": {
      "text/plain": [
       "array([[ 2.,  5.,  7.,  9., nan,  1.],\n",
       "       [21., 15., 17., 91., 10.,  2.]])"
      ]
     },
     "execution_count": 69,
     "metadata": {},
     "output_type": "execute_result"
    }
   ],
   "source": [
    "np.append(arr, [[1], [2]], axis=1) # axis 1 represents a new column"
   ]
  },
  {
   "cell_type": "markdown",
   "id": "2ba812c9-3d87-4ee3-af51-d1c3f9c77a7f",
   "metadata": {},
   "source": [
    "#### Delete"
   ]
  },
  {
   "cell_type": "code",
   "execution_count": 70,
   "id": "819d30a2-79e3-428d-8464-783e1ebf3b51",
   "metadata": {},
   "outputs": [
    {
     "name": "stdout",
     "output_type": "stream",
     "text": [
      "[[ 2.  5.  7.  9. nan]\n",
      " [21. 15. 17. 91. 10.]]\n"
     ]
    }
   ],
   "source": [
    "print(arr)"
   ]
  },
  {
   "cell_type": "code",
   "execution_count": 74,
   "id": "5044dbae-e852-4172-bdd3-158dce074948",
   "metadata": {},
   "outputs": [
    {
     "data": {
      "text/plain": [
       "array([[ 2.,  5.,  7.,  9.],\n",
       "       [21., 15., 17., 91.]])"
      ]
     },
     "execution_count": 74,
     "metadata": {},
     "output_type": "execute_result"
    }
   ],
   "source": [
    "# delete value=9\n",
    "# located on the first row (0) and 4th column\n",
    "np.delete(arr,4,1) # deleting the fourth column "
   ]
  },
  {
   "cell_type": "markdown",
   "id": "ccb092a3-59d9-49be-8118-653c9be00834",
   "metadata": {},
   "source": [
    "#### Sort\n",
    "- sort from small to large"
   ]
  },
  {
   "cell_type": "code",
   "execution_count": 78,
   "id": "382f4815-9ab7-4534-a754-0cd293455239",
   "metadata": {},
   "outputs": [
    {
     "name": "stdout",
     "output_type": "stream",
     "text": [
      "[[ 2.  5.  7. 90. nan]\n",
      " [21. 15. 17. 91. 10.]]\n",
      "[[ 2.  5.  7. 90. nan]\n",
      " [10. 15. 17. 21. 91.]]\n"
     ]
    }
   ],
   "source": [
    "arr[0,3]=90\n",
    "print(arr)\n",
    "print(np.sort(arr))"
   ]
  },
  {
   "cell_type": "code",
   "execution_count": 77,
   "id": "3acbdbee-8f9d-443f-a0cd-159bf0fd9033",
   "metadata": {},
   "outputs": [
    {
     "name": "stdout",
     "output_type": "stream",
     "text": [
      "[[ 2.  5.  7. 90. nan]\n",
      " [21. 15. 17. 91. 10.]]\n"
     ]
    }
   ],
   "source": [
    "print(arr)"
   ]
  },
  {
   "cell_type": "markdown",
   "id": "46e2d676-bc29-42c3-8a03-f89dda7d567d",
   "metadata": {},
   "source": [
    "#### Additional techniques:\n",
    "- change np.array from 1D to 2D\n",
    "    - newaxis\n",
    "    - expand_dims"
   ]
  },
  {
   "cell_type": "code",
   "execution_count": 80,
   "id": "3c9aac0c-2481-4eaf-a942-fa9bc7ac9750",
   "metadata": {},
   "outputs": [
    {
     "name": "stdout",
     "output_type": "stream",
     "text": [
      "[ 9 12 67 -5]\n"
     ]
    }
   ],
   "source": [
    "arr2=np.array([9,12,67,-5])\n",
    "print(arr2)"
   ]
  },
  {
   "cell_type": "code",
   "execution_count": 81,
   "id": "e4520bca-b908-4d1a-9ff0-68064221a9e9",
   "metadata": {},
   "outputs": [
    {
     "name": "stdout",
     "output_type": "stream",
     "text": [
      "[[ 9 12 67 -5]]\n"
     ]
    }
   ],
   "source": [
    "print(arr2[np.newaxis]) # creating a new axis, do highlight on the extra [ ] "
   ]
  },
  {
   "cell_type": "code",
   "execution_count": 83,
   "id": "59748478-c9b5-4c6a-ade0-f792223b8a17",
   "metadata": {},
   "outputs": [
    {
     "name": "stdout",
     "output_type": "stream",
     "text": [
      "[[ 9]\n",
      " [12]\n",
      " [67]\n",
      " [-5]]\n",
      "(4, 1)\n"
     ]
    }
   ],
   "source": [
    "a3=(arr2[:,np.newaxis]) # creating a new axis, do highlight on the extra [ ] \n",
    "print(a3)\n",
    "print(a3.shape)"
   ]
  },
  {
   "cell_type": "code",
   "execution_count": 86,
   "id": "6db3204a-2504-40a2-aea7-fdb07157910d",
   "metadata": {},
   "outputs": [
    {
     "name": "stdout",
     "output_type": "stream",
     "text": [
      "[[ 9 12 67 -5]]\n",
      "(1, 4)\n"
     ]
    }
   ],
   "source": [
    "a3=np.expand_dims(arr2, axis=0) # add the new dimension to the 0 axis (new row)\n",
    "print(a3)\n",
    "print(a3.shape)"
   ]
  },
  {
   "cell_type": "code",
   "execution_count": 85,
   "id": "67177fe1-6021-4323-9462-31a297492111",
   "metadata": {},
   "outputs": [
    {
     "name": "stdout",
     "output_type": "stream",
     "text": [
      "[[ 9]\n",
      " [12]\n",
      " [67]\n",
      " [-5]]\n",
      "(4, 1)\n"
     ]
    }
   ],
   "source": [
    "a3=np.expand_dims(arr2, axis=1) # add the new dimension to the 0 axis (new column)\n",
    "print(a3)\n",
    "print(a3.shape)"
   ]
  },
  {
   "cell_type": "code",
   "execution_count": 89,
   "id": "63f20a8a-3a08-4118-8b13-f421599be88c",
   "metadata": {},
   "outputs": [
    {
     "data": {
      "text/plain": [
       "array([[ 1,  2,  3,  4],\n",
       "       [ 5,  6,  7,  8],\n",
       "       [ 9, 10, 11, 12]])"
      ]
     },
     "execution_count": 89,
     "metadata": {},
     "output_type": "execute_result"
    }
   ],
   "source": [
    "# from kode.id\n",
    "a=np.array([[1,2,3,4], [5,6,7,8],[9,10,11,12]])\n",
    "a"
   ]
  },
  {
   "cell_type": "markdown",
   "id": "65c5deba-4b27-4390-add9-1cf704832f7d",
   "metadata": {},
   "source": [
    "##### Indexing with condition, Slicing, Query"
   ]
  },
  {
   "cell_type": "code",
   "execution_count": 96,
   "id": "45bced05-8621-4769-ae2b-e3d2487bfedf",
   "metadata": {},
   "outputs": [
    {
     "name": "stdout",
     "output_type": "stream",
     "text": [
      "[100 125 150 175 200 225 250 275 300 325 350 375]\n",
      "12\n"
     ]
    }
   ],
   "source": [
    "arr2=np.arange(100,400,25)\n",
    "print(arr2)\n",
    "print(arr2.size)\n",
    "arr2=arr2.reshape((3,4))"
   ]
  },
  {
   "cell_type": "code",
   "execution_count": 97,
   "id": "feb532e5-757d-424b-bbff-183d0b81efb4",
   "metadata": {},
   "outputs": [
    {
     "data": {
      "text/plain": [
       "array([[100, 125, 150, 175],\n",
       "       [200, 225, 250, 275],\n",
       "       [300, 325, 350, 375]])"
      ]
     },
     "execution_count": 97,
     "metadata": {},
     "output_type": "execute_result"
    }
   ],
   "source": [
    "arr2"
   ]
  },
  {
   "cell_type": "code",
   "execution_count": 98,
   "id": "77a0b628-64f0-4c28-bc24-fdb51f5bb42e",
   "metadata": {},
   "outputs": [
    {
     "data": {
      "text/plain": [
       "250"
      ]
     },
     "execution_count": 98,
     "metadata": {},
     "output_type": "execute_result"
    }
   ],
   "source": [
    "# Indexing - taking the 250; 3D array: second row (index=1) and third column (index=2)\n",
    "arr2[1,2]"
   ]
  },
  {
   "cell_type": "code",
   "execution_count": 100,
   "id": "3557e34e-182e-409d-8d86-6c90a87eb1b8",
   "metadata": {},
   "outputs": [
    {
     "data": {
      "text/plain": [
       "array([[250, 275],\n",
       "       [350, 375]])"
      ]
     },
     "execution_count": 100,
     "metadata": {},
     "output_type": "execute_result"
    }
   ],
   "source": [
    "# Slicing - taking 250 275 350 375; 3D array: second and third row (index=1 and 2), third and fourth column (index: 2 and 3 respectively)\n",
    "arr2[1:3, 2:4]"
   ]
  },
  {
   "cell_type": "code",
   "execution_count": 101,
   "id": "db0e85ee-e625-4a1b-93ee-f8445816b637",
   "metadata": {},
   "outputs": [
    {
     "data": {
      "text/plain": [
       "array([[250, 275],\n",
       "       [350, 375]])"
      ]
     },
     "execution_count": 101,
     "metadata": {},
     "output_type": "execute_result"
    }
   ],
   "source": [
    "# Slicing - taking 250 275 350 375\n",
    "arr2[1:, 2:] # if it's the last number, we may neglect the indices"
   ]
  },
  {
   "cell_type": "code",
   "execution_count": 102,
   "id": "5de457b3-7c29-46b2-ab06-bc4c0ac6a6bb",
   "metadata": {},
   "outputs": [
    {
     "data": {
      "text/plain": [
       "array([[250, 275],\n",
       "       [350, 375]])"
      ]
     },
     "execution_count": 102,
     "metadata": {},
     "output_type": "execute_result"
    }
   ],
   "source": [
    "# Slicing - taking 250 275 350 375 (other ways)\n",
    "arr2[-2:,-2:]"
   ]
  },
  {
   "cell_type": "code",
   "execution_count": 106,
   "id": "d6f7f101-3dbe-4f40-a8ef-b09e15d10d9f",
   "metadata": {},
   "outputs": [
    {
     "name": "stdout",
     "output_type": "stream",
     "text": [
      "[[ True False  True False]\n",
      " [ True False  True False]\n",
      " [ True False  True False]]\n",
      "[[100 125 150 175]\n",
      " [200 225 250 275]\n",
      " [300 325 350 375]]\n"
     ]
    }
   ],
   "source": [
    "# Query - divisible by 2\n",
    "genap=arr2%2==0 \n",
    "print(genap)\n",
    "print(arr2)"
   ]
  },
  {
   "cell_type": "code",
   "execution_count": 107,
   "id": "09c9a627-346d-47b8-a87f-46812f75b1fc",
   "metadata": {},
   "outputs": [
    {
     "name": "stdout",
     "output_type": "stream",
     "text": [
      "[[False False False False]\n",
      " [False  True  True  True]\n",
      " [ True  True  True  True]]\n"
     ]
    }
   ],
   "source": [
    "# Query - anything >200\n",
    "diatas200=arr2>200\n",
    "print(diatas200)"
   ]
  },
  {
   "cell_type": "code",
   "execution_count": 108,
   "id": "e832d969-1f55-4fae-9c4f-e4428bb7ee9f",
   "metadata": {},
   "outputs": [
    {
     "name": "stdout",
     "output_type": "stream",
     "text": [
      "[[False False False False]\n",
      " [False False  True False]\n",
      " [ True False  True False]]\n"
     ]
    }
   ],
   "source": [
    "print(genap & diatas200)"
   ]
  },
  {
   "cell_type": "code",
   "execution_count": 109,
   "id": "31302697-6fed-4de0-9ca0-b8e9cf7f9929",
   "metadata": {},
   "outputs": [
    {
     "data": {
      "text/plain": [
       "array([250, 300, 350])"
      ]
     },
     "execution_count": 109,
     "metadata": {},
     "output_type": "execute_result"
    }
   ],
   "source": [
    "arr2[genap & diatas200]"
   ]
  },
  {
   "cell_type": "code",
   "execution_count": 114,
   "id": "a561c0e3-d12e-4837-bec9-c31c740f5d72",
   "metadata": {},
   "outputs": [
    {
     "data": {
      "text/plain": [
       "array([250, 300, 350])"
      ]
     },
     "execution_count": 114,
     "metadata": {},
     "output_type": "execute_result"
    }
   ],
   "source": [
    "arr2[(arr2%2==0) & (arr2>200)] # conditions may be included directly"
   ]
  },
  {
   "cell_type": "code",
   "execution_count": 128,
   "id": "6aacafa4-6146-4106-bee6-f444d0efafda",
   "metadata": {},
   "outputs": [
    {
     "name": "stdout",
     "output_type": "stream",
     "text": [
      "[[ 2.  5.  7. 90. -3.]\n",
      " [21. 15. 17. 91. 10.]]\n"
     ]
    },
    {
     "data": {
      "text/plain": [
       "array([ 2., 90., 10.])"
      ]
     },
     "execution_count": 128,
     "metadata": {},
     "output_type": "execute_result"
    }
   ],
   "source": [
    "# Query on arr - even values\n",
    "print(arr)\n",
    "arr[arr%2==0]\n",
    "# invalid value encountered as the arr contains NAN value"
   ]
  },
  {
   "cell_type": "code",
   "execution_count": 126,
   "id": "d688064e-7f4f-4439-9793-7c57f0e54bd7",
   "metadata": {},
   "outputs": [
    {
     "name": "stdout",
     "output_type": "stream",
     "text": [
      "[[ 2.  5.  7. 90. -3.]\n",
      " [21. 15. 17. 91. 10.]]\n"
     ]
    },
    {
     "data": {
      "text/plain": [
       "array([ 2., 90., 10.])"
      ]
     },
     "execution_count": 126,
     "metadata": {},
     "output_type": "execute_result"
    }
   ],
   "source": [
    "arr[0,4]=(-3)\n",
    "print(arr)\n",
    "arr[arr%2==0]"
   ]
  },
  {
   "cell_type": "markdown",
   "id": "468bfc17-130f-495d-944a-e372ee7ec19c",
   "metadata": {},
   "source": [
    "#### Stack, split and copy\n",
    "- stack\n",
    "    - vstack - vertical\n",
    "    - hstack - horizontal\n",
    "- split\n",
    "    - vsplit - top, mid, bottom\n",
    "    - hsplit - left mid, right\n",
    "- copy\n",
    "    - view by reference\n",
    "    - copy by value - deep copy"
   ]
  },
  {
   "cell_type": "code",
   "execution_count": 127,
   "id": "216477cc-5c67-4780-96d3-d3820b13153a",
   "metadata": {},
   "outputs": [
    {
     "data": {
      "text/plain": [
       "array([[ 2.,  5.,  7., 90., -3.],\n",
       "       [21., 15., 17., 91., 10.]])"
      ]
     },
     "execution_count": 127,
     "metadata": {},
     "output_type": "execute_result"
    }
   ],
   "source": [
    "arr"
   ]
  },
  {
   "cell_type": "code",
   "execution_count": 145,
   "id": "9d79f571-d198-45c6-9687-b3ab2f26cf5d",
   "metadata": {},
   "outputs": [
    {
     "name": "stdout",
     "output_type": "stream",
     "text": [
      "[[ 2.  5.  7.  9. nan]\n",
      " [21. 15. 17. 91. 10.]]\n",
      "(2, 5)\n"
     ]
    }
   ],
   "source": [
    "a=np.array([[2,5,7,9,np.NAN], [21,15,17,91,10]])\n",
    "print(a)\n",
    "print(a.shape) # 2 rows 5 columns"
   ]
  },
  {
   "cell_type": "code",
   "execution_count": 141,
   "id": "7e490d53-3076-4bff-b99c-ce199f41fbb6",
   "metadata": {},
   "outputs": [
    {
     "name": "stdout",
     "output_type": "stream",
     "text": [
      "[[ 2  5  7  9 -3]\n",
      " [21 15 17 91 10]]\n"
     ]
    }
   ],
   "source": [
    "arr=np.array([[2,5,7,9,-3], [21,15,17,91,10]])\n",
    "print(arr)"
   ]
  },
  {
   "cell_type": "code",
   "execution_count": 142,
   "id": "001df8b5-79c9-4d56-906e-69d0c8154bff",
   "metadata": {},
   "outputs": [
    {
     "data": {
      "text/plain": [
       "array([[ 2.,  5.,  7.,  9., nan],\n",
       "       [21., 15., 17., 91., 10.],\n",
       "       [ 2.,  5.,  7.,  9., -3.],\n",
       "       [21., 15., 17., 91., 10.]])"
      ]
     },
     "execution_count": 142,
     "metadata": {},
     "output_type": "execute_result"
    }
   ],
   "source": [
    "np.vstack((a,arr))"
   ]
  },
  {
   "cell_type": "code",
   "execution_count": 4,
   "id": "ffd8dde6-7e3c-45a6-bf7b-f8b0e0f147d0",
   "metadata": {},
   "outputs": [
    {
     "name": "stdout",
     "output_type": "stream",
     "text": [
      "(2, 2)\n"
     ]
    }
   ],
   "source": [
    "b = np.array([[3,4],[5,6]])\n",
    "print(b.shape)"
   ]
  },
  {
   "cell_type": "code",
   "execution_count": 146,
   "id": "196494d8-9af0-4c4e-a82a-0e9f24f0aa7e",
   "metadata": {},
   "outputs": [
    {
     "data": {
      "text/plain": [
       "array([[ 2.,  5.,  7.,  9., nan,  3.,  4.],\n",
       "       [21., 15., 17., 91., 10.,  5.,  6.]])"
      ]
     },
     "execution_count": 146,
     "metadata": {},
     "output_type": "execute_result"
    }
   ],
   "source": [
    "# hstack - rows MUST match\n",
    "np.hstack((a,b))"
   ]
  },
  {
   "cell_type": "code",
   "execution_count": 147,
   "id": "cf695cef-2a26-40f4-a21e-63beb8b590c3",
   "metadata": {},
   "outputs": [
    {
     "data": {
      "text/plain": [
       "array([[ 2.,  5.,  7.,  9., nan,  3.,  4.,  2.,  5.,  7.,  9., nan,  3.,\n",
       "         4.],\n",
       "       [21., 15., 17., 91., 10.,  5.,  6., 21., 15., 17., 91., 10.,  5.,\n",
       "         6.]])"
      ]
     },
     "execution_count": 147,
     "metadata": {},
     "output_type": "execute_result"
    }
   ],
   "source": [
    "np.hstack((a,b,a,b))"
   ]
  },
  {
   "cell_type": "code",
   "execution_count": 148,
   "id": "8541865f-cb92-4f63-8f94-97198e5aa83e",
   "metadata": {},
   "outputs": [
    {
     "data": {
      "text/plain": [
       "[array([[ 2.,  5.,  7.,  9., nan]]), array([[21., 15., 17., 91., 10.]])]"
      ]
     },
     "execution_count": 148,
     "metadata": {},
     "output_type": "execute_result"
    }
   ],
   "source": [
    "np.vsplit(a,2)"
   ]
  },
  {
   "cell_type": "code",
   "execution_count": 149,
   "id": "bcdf7eec-fe9b-4af8-9569-abf5f4ac9d13",
   "metadata": {},
   "outputs": [],
   "source": [
    "result=np.vsplit(a,2)"
   ]
  },
  {
   "cell_type": "code",
   "execution_count": 151,
   "id": "aaff7137-8c5b-4afa-b474-1ad48df72f66",
   "metadata": {},
   "outputs": [
    {
     "name": "stdout",
     "output_type": "stream",
     "text": [
      "[array([[ 2.,  5.,  7.,  9., nan]]), array([[21., 15., 17., 91., 10.]])]\n",
      "<class 'list'>\n"
     ]
    }
   ],
   "source": [
    "print(result)\n",
    "print(type(result))"
   ]
  },
  {
   "cell_type": "code",
   "execution_count": 163,
   "id": "4e9927dc-6e94-483a-a5e0-0ba2feb6c92c",
   "metadata": {},
   "outputs": [
    {
     "name": "stdout",
     "output_type": "stream",
     "text": [
      "[[ 2.  5.  7.  9. nan]] <class 'numpy.ndarray'>\n",
      "[[21. 15. 17. 91. 10.]] <class 'numpy.ndarray'>\n"
     ]
    }
   ],
   "source": [
    "# vertical split - 2 arrays; a1 and a2 respectively\n",
    "# as a array is 2x1 type of array, vsplit can only be done by 2\n",
    "a1,a2=np.vsplit(a,2)\n",
    "print(a1, type(a1))\n",
    "print(a2, type(a2))"
   ]
  },
  {
   "cell_type": "code",
   "execution_count": 169,
   "id": "d1ea19e7-ef03-4746-9bd3-8554414b0045",
   "metadata": {},
   "outputs": [
    {
     "name": "stdout",
     "output_type": "stream",
     "text": [
      "[[ 0  1  2  3]\n",
      " [ 4  5  6  7]\n",
      " [ 8  9 10 11]]\n",
      "(3, 4)\n"
     ]
    }
   ],
   "source": [
    "b=np.arange(12).reshape((3,4))\n",
    "print(b)\n",
    "print(b.shape)"
   ]
  },
  {
   "cell_type": "code",
   "execution_count": 162,
   "id": "dfd97c37-21f7-422b-9ba4-2e64b5215271",
   "metadata": {},
   "outputs": [
    {
     "name": "stdout",
     "output_type": "stream",
     "text": [
      "(3, 4)\n",
      "[[0 1 2 3]] [[4 5 6 7]] [[ 8  9 10 11]]\n"
     ]
    }
   ],
   "source": [
    "print(b.shape) # shape is 3x4 array, hence vsplit can be done for 3\n",
    "b1,b2,b3=np.vsplit(b,3)\n",
    "print(b1,b2,b3)\n",
    "\n",
    "# not possible to be split into 2, as it contains 3 rows"
   ]
  },
  {
   "cell_type": "code",
   "execution_count": 167,
   "id": "99b145f0-83d6-4c9e-a476-cdeaf8fbbe4d",
   "metadata": {},
   "outputs": [
    {
     "name": "stdout",
     "output_type": "stream",
     "text": [
      "[[ 0  1  2  3]\n",
      " [ 4  5  6  7]\n",
      " [ 8  9 10 11]]\n",
      "[[0 1]\n",
      " [4 5]\n",
      " [8 9]] [[ 2  3]\n",
      " [ 6  7]\n",
      " [10 11]]\n",
      "[[0]\n",
      " [4]\n",
      " [8]] [[1]\n",
      " [5]\n",
      " [9]] [[ 2]\n",
      " [ 6]\n",
      " [10]] [[ 3]\n",
      " [ 7]\n",
      " [11]]\n"
     ]
    }
   ],
   "source": [
    "# hsplit\n",
    "# 2 columns\n",
    "print(b)\n",
    "b21, b22=np.hsplit(b,2)\n",
    "print(b21,b22)\n",
    "# 4 columns\n",
    "b41,b42,b43,b44=np.hsplit(b,4)\n",
    "print(b41,b42,b43,b44)"
   ]
  },
  {
   "cell_type": "code",
   "execution_count": 16,
   "id": "37d54838-35c2-48fe-816c-e4a66cb7f610",
   "metadata": {},
   "outputs": [
    {
     "name": "stdout",
     "output_type": "stream",
     "text": [
      "[[  3 100]\n",
      " [  5   6]]\n",
      "[[  3 100]\n",
      " [  5   6]]\n",
      "[[  3 100]\n",
      " [  5   6]]\n"
     ]
    }
   ],
   "source": [
    "# copy\n",
    "print(b)\n",
    "b_copy=b.copy()\n",
    "b_copy[0,1]=100\n",
    "print(b_copy)\n",
    "print(b) # b array remains"
   ]
  },
  {
   "cell_type": "code",
   "execution_count": 17,
   "id": "47bef33d-4a75-4dcf-b7b7-b665c01d046c",
   "metadata": {},
   "outputs": [
    {
     "name": "stdout",
     "output_type": "stream",
     "text": [
      "[[  3 100]\n",
      " [  5   6]]\n",
      "[[  3 100]\n",
      " [  5  25]]\n"
     ]
    }
   ],
   "source": [
    "# copy\n",
    "print(b)\n",
    "b_view=b.view()\n",
    "b[1,1]=25 \n",
    "print(b_view) # as this has been changed, b_view also changes"
   ]
  },
  {
   "cell_type": "code",
   "execution_count": null,
   "id": "67e0cb60-483d-4001-b249-87b955d6325a",
   "metadata": {},
   "outputs": [],
   "source": []
  },
  {
   "cell_type": "markdown",
   "id": "d7791f61-2667-43f9-845b-08fe8a943f8c",
   "metadata": {},
   "source": [
    "b and b_view are the same array with two different names"
   ]
  },
  {
   "cell_type": "code",
   "execution_count": 238,
   "id": "50de555b-7991-4837-980d-82ea8e70184c",
   "metadata": {},
   "outputs": [
    {
     "name": "stdout",
     "output_type": "stream",
     "text": [
      "[[ 7  8]\n",
      " [ 9 10]\n",
      " [11 12]]\n"
     ]
    }
   ],
   "source": [
    "b_copy=b.copy()\n",
    "print(b_copy)"
   ]
  },
  {
   "cell_type": "markdown",
   "id": "604941fc-a12b-4d9b-80ba-f26f645610b2",
   "metadata": {},
   "source": [
    "b and b_copy are two different arrays"
   ]
  },
  {
   "cell_type": "markdown",
   "id": "0ff0d3e2-ef3b-4a6a-8103-5fd2679941d1",
   "metadata": {},
   "source": [
    "#### Basic array operation\n",
    "- manipulate number within the numpy array using mathematical operations and number"
   ]
  },
  {
   "cell_type": "code",
   "execution_count": 172,
   "id": "41889ff8-c58f-4517-a0c1-bc23ca917784",
   "metadata": {},
   "outputs": [
    {
     "data": {
      "text/plain": [
       "array([ 61,  79, 100,  44])"
      ]
     },
     "execution_count": 172,
     "metadata": {},
     "output_type": "execute_result"
    }
   ],
   "source": [
    "score=[60,78,99,43]\n",
    "# add 1 point to all\n",
    "score_arr=np.array(score) # must be defined as numpy array - counts as concatenate\n",
    "score_arr+1"
   ]
  },
  {
   "cell_type": "code",
   "execution_count": 173,
   "id": "8016bda6-a0c8-4989-ac7d-26833eedfcd9",
   "metadata": {},
   "outputs": [
    {
     "data": {
      "text/plain": [
       "array([ 70,  88, 100,  53])"
      ]
     },
     "execution_count": 173,
     "metadata": {},
     "output_type": "execute_result"
    }
   ],
   "source": [
    "np.array([60,78,99,43]) + [10,10,1,10]"
   ]
  },
  {
   "cell_type": "markdown",
   "id": "003a2112-007f-41e9-a7d8-f07f7f37bb3f",
   "metadata": {},
   "source": [
    "#### can use other mathematical operations \\+ \\- \\/ \\* \\% \\**"
   ]
  },
  {
   "cell_type": "code",
   "execution_count": 175,
   "id": "3ff3e2ff-0eca-44c6-aa33-e3acc43b4907",
   "metadata": {},
   "outputs": [
    {
     "data": {
      "text/plain": [
       "array([ 7.5,  8.5,  9.5, 10.5, 11.5])"
      ]
     },
     "execution_count": 175,
     "metadata": {},
     "output_type": "execute_result"
    }
   ],
   "source": [
    "np.arange(5) + 5 * 3 / 2"
   ]
  },
  {
   "cell_type": "code",
   "execution_count": 176,
   "id": "cfdfb22c-4f7f-41ce-89ed-2b69b628c4bd",
   "metadata": {},
   "outputs": [
    {
     "data": {
      "text/plain": [
       "array([ 8.,  9., 10., 11., 12.])"
      ]
     },
     "execution_count": 176,
     "metadata": {},
     "output_type": "execute_result"
    }
   ],
   "source": [
    "np.arange(5) + np.ones(5) * 8"
   ]
  },
  {
   "cell_type": "code",
   "execution_count": 177,
   "id": "7728cadf-ab39-4278-9a72-a420fa51c104",
   "metadata": {},
   "outputs": [
    {
     "data": {
      "text/plain": [
       "array([0, 1, 0, 1, 0])"
      ]
     },
     "execution_count": 177,
     "metadata": {},
     "output_type": "execute_result"
    }
   ],
   "source": [
    "np.arange(5) % 2"
   ]
  },
  {
   "cell_type": "markdown",
   "id": "a3fcb40a-f5d9-466e-9944-3ac1f643cced",
   "metadata": {},
   "source": [
    "Other functions include: min, max, sum, mean, standard deviation, corr coefficient"
   ]
  },
  {
   "cell_type": "code",
   "execution_count": 178,
   "id": "6138459c-156c-4705-8e6d-d30b69731a2d",
   "metadata": {},
   "outputs": [
    {
     "name": "stdout",
     "output_type": "stream",
     "text": [
      "[[ 2.  5.  7.  9. nan]\n",
      " [21. 15. 17. 91. 10.]]\n"
     ]
    }
   ],
   "source": [
    "print(a)"
   ]
  },
  {
   "cell_type": "code",
   "execution_count": 185,
   "id": "116219f5-657c-41c2-9fb3-5673d65eed30",
   "metadata": {},
   "outputs": [
    {
     "name": "stdout",
     "output_type": "stream",
     "text": [
      "[[ 2  5  7 90 -3]\n",
      " [21 15 17 91 10]]\n"
     ]
    }
   ],
   "source": [
    "arr[0,3]=90\n",
    "print(arr)"
   ]
  },
  {
   "cell_type": "code",
   "execution_count": 186,
   "id": "fa55bf17-ec7d-4384-b5ba-f58800ed9e84",
   "metadata": {},
   "outputs": [
    {
     "name": "stdout",
     "output_type": "stream",
     "text": [
      "91\n"
     ]
    }
   ],
   "source": [
    "print(arr.max())"
   ]
  },
  {
   "cell_type": "code",
   "execution_count": 187,
   "id": "be3b8c7b-1c39-482c-9295-61f001dcbdd1",
   "metadata": {},
   "outputs": [
    {
     "name": "stdout",
     "output_type": "stream",
     "text": [
      "[21 15 17 91 10]\n"
     ]
    }
   ],
   "source": [
    "# look per axis\n",
    "print(arr.max(axis=0))"
   ]
  },
  {
   "cell_type": "code",
   "execution_count": 188,
   "id": "a5a670ad-1c02-478e-a4ad-489e1518433f",
   "metadata": {},
   "outputs": [
    {
     "name": "stdout",
     "output_type": "stream",
     "text": [
      "[90 91]\n"
     ]
    }
   ],
   "source": [
    "print(arr.max(axis=1))"
   ]
  },
  {
   "cell_type": "code",
   "execution_count": 189,
   "id": "6a7c8d81-ef12-4c45-a88e-57152902f2e3",
   "metadata": {},
   "outputs": [
    {
     "name": "stdout",
     "output_type": "stream",
     "text": [
      "-3\n",
      "[ 2  5  7 90 -3]\n",
      "[-3 10]\n"
     ]
    }
   ],
   "source": [
    "print(arr.min())\n",
    "print(arr.min(axis=0))\n",
    "print(arr.min(axis=1))"
   ]
  },
  {
   "cell_type": "code",
   "execution_count": 190,
   "id": "ffe752d6-ae7d-407a-a30b-4a2dbdb482c2",
   "metadata": {},
   "outputs": [
    {
     "name": "stdout",
     "output_type": "stream",
     "text": [
      "255\n",
      "[ 23  20  24 181   7]\n",
      "[101 154]\n"
     ]
    }
   ],
   "source": [
    "print(arr.sum())\n",
    "print(arr.sum(axis=0))\n",
    "print(arr.sum(axis=1))"
   ]
  },
  {
   "cell_type": "code",
   "execution_count": 191,
   "id": "2364a009-54e5-4cab-8252-adfd48df6bc7",
   "metadata": {},
   "outputs": [
    {
     "name": "stdout",
     "output_type": "stream",
     "text": [
      "25.5\n",
      "[11.5 10.  12.  90.5  3.5]\n",
      "[20.2 30.8]\n"
     ]
    }
   ],
   "source": [
    "print(arr.mean())\n",
    "print(arr.mean(axis=0))\n",
    "print(arr.mean(axis=1))"
   ]
  },
  {
   "cell_type": "markdown",
   "id": "9a465734-8d81-4352-82e9-5c02fb6d17b7",
   "metadata": {},
   "source": [
    "### Matrices\n",
    "2D numpy array (no of column will be the same on every rows), contains numbers\n",
    "\n",
    "1 column matrix is called *vector*"
   ]
  },
  {
   "cell_type": "code",
   "execution_count": 195,
   "id": "a1930666-020d-44f5-9cc7-d44394ebcd23",
   "metadata": {},
   "outputs": [
    {
     "name": "stdout",
     "output_type": "stream",
     "text": [
      "[[-2  5  6]\n",
      " [ 5  2  7]]\n"
     ]
    }
   ],
   "source": [
    "print(np.array([[-2,5,6],[5,2,7]]))"
   ]
  },
  {
   "cell_type": "code",
   "execution_count": 197,
   "id": "ef66d1c0-3b90-47b3-8f48-392e400456f3",
   "metadata": {},
   "outputs": [
    {
     "name": "stdout",
     "output_type": "stream",
     "text": [
      "[[-2, 5, 6], [5, 2, 7]]\n"
     ]
    }
   ],
   "source": [
    "print(([[-2,5,6],[5,2,7]])) # different "
   ]
  },
  {
   "cell_type": "markdown",
   "id": "9bb1f096-f62a-4bcd-9c3e-46fab73641bd",
   "metadata": {},
   "source": [
    "#### Dot product - matrices multiplication (math)"
   ]
  },
  {
   "cell_type": "code",
   "execution_count": 198,
   "id": "0b8717ed-bda2-45e2-a18e-c5bb2b4f0326",
   "metadata": {},
   "outputs": [
    {
     "data": {
      "text/plain": [
       "array([ 5, 12])"
      ]
     },
     "execution_count": 198,
     "metadata": {},
     "output_type": "execute_result"
    }
   ],
   "source": [
    "# multiplication of 2 numpy array: multiply two values of the same location\n",
    "np.array([1,2]) * np.array([5,6])"
   ]
  },
  {
   "cell_type": "code",
   "execution_count": 209,
   "id": "969fe7e8-983a-4ebf-9853-e1f4df092dc4",
   "metadata": {},
   "outputs": [
    {
     "name": "stdout",
     "output_type": "stream",
     "text": [
      "[[1 2 3]\n",
      " [4 5 6]]\n",
      "[[ 7  8]\n",
      " [ 9 10]\n",
      " [11 12]]\n",
      "[[ 58  64]\n",
      " [139 154]]\n"
     ]
    }
   ],
   "source": [
    "a=np.arange(1,7).reshape((2,3))\n",
    "print(a)\n",
    "b=np.arange(7,13).reshape((3,2))\n",
    "print(b)\n",
    "print(a.dot(b))"
   ]
  },
  {
   "cell_type": "markdown",
   "id": "186fd125-14e9-47d2-bb78-11558802e353",
   "metadata": {},
   "source": [
    "Example on why we have to do this:\n",
    "- Bakery sells 3 types of pies at different prices: apple (3), cherry (4), blueberry (2)\n",
    "- Sold different amount on each day (Mon-Thu)"
   ]
  },
  {
   "cell_type": "code",
   "execution_count": 210,
   "id": "d1fc2341-c9e8-46ab-a179-5e18392dfc21",
   "metadata": {},
   "outputs": [
    {
     "name": "stdout",
     "output_type": "stream",
     "text": [
      "(3, 4)\n",
      "(3,)\n",
      "[83 63 37 75]\n",
      "(4,)\n",
      "grand total: $ 258\n"
     ]
    }
   ],
   "source": [
    "sells=np.array([[13,9,7,15],[8,7,4,6],[6,4,0,3]])\n",
    "price=np.array([3,4,2]) # contains 1 column, 3 rows; matrix size 1 x 3\n",
    "\n",
    "# dot follows mathematical matrices rules where the shape MATTERS\n",
    "# in this case price 1x3, sells 3x4, hence shape result becomes (1x3) . (3x4) = (1x4)\n",
    "print(sells.shape)\n",
    "print(price.shape)\n",
    "total=price.dot(sells)\n",
    "print(total)\n",
    "print(total.shape)\n",
    "print(\"grand total: $\", total.sum())"
   ]
  },
  {
   "cell_type": "markdown",
   "id": "38d5fbfd-e366-4705-a135-41941cab5c66",
   "metadata": {},
   "source": [
    "#### Transpose"
   ]
  },
  {
   "cell_type": "code",
   "execution_count": 213,
   "id": "f6c4ea58-3331-4fa5-a0a4-2f2075c43744",
   "metadata": {},
   "outputs": [
    {
     "name": "stdout",
     "output_type": "stream",
     "text": [
      "[[13  9  7 15]\n",
      " [ 8  7  4  6]\n",
      " [ 6  4  0  3]]\n",
      "(3, 4)\n"
     ]
    }
   ],
   "source": [
    "print(sells)\n",
    "print(sells.shape)"
   ]
  },
  {
   "cell_type": "code",
   "execution_count": 214,
   "id": "b8df976a-655c-4a6f-b7d7-13a0af808003",
   "metadata": {},
   "outputs": [
    {
     "name": "stdout",
     "output_type": "stream",
     "text": [
      "[[13  8  6]\n",
      " [ 9  7  4]\n",
      " [ 7  4  0]\n",
      " [15  6  3]]\n"
     ]
    }
   ],
   "source": [
    "print(sells.T) # transposed matrix becomes 4 x 3"
   ]
  },
  {
   "cell_type": "code",
   "execution_count": 216,
   "id": "3206b0bb-38cc-48e7-9996-349e58fccbac",
   "metadata": {},
   "outputs": [
    {
     "name": "stdout",
     "output_type": "stream",
     "text": [
      "[[13  8  6]\n",
      " [ 9  7  4]\n",
      " [ 7  4  0]\n",
      " [15  6  3]]\n",
      "(4, 3)\n"
     ]
    }
   ],
   "source": [
    "sellstr=sells.T\n",
    "print(sellstr)\n",
    "print(sellstr.shape)"
   ]
  },
  {
   "cell_type": "code",
   "execution_count": 217,
   "id": "1432df23-3f27-48cf-9273-e4997a5c5476",
   "metadata": {},
   "outputs": [
    {
     "data": {
      "text/plain": [
       "array([[13,  8,  6],\n",
       "       [ 9,  7,  4],\n",
       "       [ 7,  4,  0],\n",
       "       [15,  6,  3]])"
      ]
     },
     "execution_count": 217,
     "metadata": {},
     "output_type": "execute_result"
    }
   ],
   "source": [
    "# other way to transpos matrix\n",
    "sells.transpose()"
   ]
  },
  {
   "cell_type": "markdown",
   "id": "33619665-1af6-4c4c-b82f-a98d184fe3ae",
   "metadata": {},
   "source": [
    "N-Dimensional array "
   ]
  },
  {
   "cell_type": "code",
   "execution_count": 219,
   "id": "6d2cf277-5234-42f4-ad69-6eae1d5331b6",
   "metadata": {},
   "outputs": [
    {
     "data": {
      "text/plain": [
       "array([[[ 0,  1,  2,  3,  4],\n",
       "        [ 5,  6,  7,  8,  9],\n",
       "        [10, 11, 12, 13, 14],\n",
       "        [15, 16, 17, 18, 19],\n",
       "        [20, 21, 22, 23, 24]],\n",
       "\n",
       "       [[25, 26, 27, 28, 29],\n",
       "        [30, 31, 32, 33, 34],\n",
       "        [35, 36, 37, 38, 39],\n",
       "        [40, 41, 42, 43, 44],\n",
       "        [45, 46, 47, 48, 49]],\n",
       "\n",
       "       [[50, 51, 52, 53, 54],\n",
       "        [55, 56, 57, 58, 59],\n",
       "        [60, 61, 62, 63, 64],\n",
       "        [65, 66, 67, 68, 69],\n",
       "        [70, 71, 72, 73, 74]],\n",
       "\n",
       "       [[75, 76, 77, 78, 79],\n",
       "        [80, 81, 82, 83, 84],\n",
       "        [85, 86, 87, 88, 89],\n",
       "        [90, 91, 92, 93, 94],\n",
       "        [95, 96, 97, 98, 99]]])"
      ]
     },
     "execution_count": 219,
     "metadata": {},
     "output_type": "execute_result"
    }
   ],
   "source": [
    "np.arange(100).reshape((4,5,5)) # 3D, values from 0-99, 4 parts, 5 rows, 5 columns each"
   ]
  },
  {
   "cell_type": "code",
   "execution_count": 221,
   "id": "3cc1f19a-984f-4405-9073-cc2181609b1e",
   "metadata": {},
   "outputs": [
    {
     "data": {
      "text/plain": [
       "array([[[[ 0,  1],\n",
       "         [ 2,  3],\n",
       "         [ 4,  5]],\n",
       "\n",
       "        [[ 6,  7],\n",
       "         [ 8,  9],\n",
       "         [10, 11]],\n",
       "\n",
       "        [[12, 13],\n",
       "         [14, 15],\n",
       "         [16, 17]],\n",
       "\n",
       "        [[18, 19],\n",
       "         [20, 21],\n",
       "         [22, 23]],\n",
       "\n",
       "        [[24, 25],\n",
       "         [26, 27],\n",
       "         [28, 29]]],\n",
       "\n",
       "\n",
       "       [[[30, 31],\n",
       "         [32, 33],\n",
       "         [34, 35]],\n",
       "\n",
       "        [[36, 37],\n",
       "         [38, 39],\n",
       "         [40, 41]],\n",
       "\n",
       "        [[42, 43],\n",
       "         [44, 45],\n",
       "         [46, 47]],\n",
       "\n",
       "        [[48, 49],\n",
       "         [50, 51],\n",
       "         [52, 53]],\n",
       "\n",
       "        [[54, 55],\n",
       "         [56, 57],\n",
       "         [58, 59]]]])"
      ]
     },
     "execution_count": 221,
     "metadata": {},
     "output_type": "execute_result"
    }
   ],
   "source": [
    "np.arange(60).reshape((2,5,3,2)) # 4D, 0-59, 2 parts, each have 5 parts that contains 3 rows 2 columns"
   ]
  },
  {
   "cell_type": "markdown",
   "id": "d4eeff41-5244-4400-98e7-6cec5fa95eab",
   "metadata": {},
   "source": [
    "Flatten-Dimensional array\n",
    "to change numpy array to 1D\n",
    "- flatten (by value, similar to copy)\n",
    "- ravel (by reference, similar to view)"
   ]
  },
  {
   "cell_type": "code",
   "execution_count": 226,
   "id": "bc713282-a110-4152-ac71-91ffa3140bcf",
   "metadata": {},
   "outputs": [
    {
     "name": "stdout",
     "output_type": "stream",
     "text": [
      "[ 0  1  2  3  4  5  6  7  8  9 10 11 12 13 14 15 16 17 18 19 20 21 22 23\n",
      " 24 25 26 27 28 29]\n",
      "[ 0  1  2  3  4  5  6  7  8  9 10 11 12 13 14 15 16 17 18 19 20 21 22 23\n",
      " 24 25 26 27 28 29]\n"
     ]
    }
   ],
   "source": [
    "arr3d=np.arange(30).reshape((2,5,3))\n",
    "arr3d_flat=arr3d.flatten()\n",
    "arr3d_ravel=arr3d.ravel()\n",
    "\n",
    "print(arr3d_flat)\n",
    "print(arr3d_ravel)"
   ]
  },
  {
   "cell_type": "code",
   "execution_count": 230,
   "id": "21b76a4d-1f39-49ba-bc55-cd8fd26c6ce5",
   "metadata": {},
   "outputs": [],
   "source": [
    "arr3d_ravel[0]=500 # change the value(s)"
   ]
  },
  {
   "cell_type": "code",
   "execution_count": 228,
   "id": "8f5e93dd-07b2-4eea-ab5f-28d3c5b08839",
   "metadata": {},
   "outputs": [
    {
     "name": "stdout",
     "output_type": "stream",
     "text": [
      "[500   1   2   3   4   5   6   7   8   9  10  11  12  13  14  15  16  17\n",
      "  18  19  20  21  22  23  24  25  26  27  28  29]\n"
     ]
    }
   ],
   "source": [
    "print(arr3d_ravel)"
   ]
  },
  {
   "cell_type": "code",
   "execution_count": 229,
   "id": "3e554714-5936-4375-9293-6fe58c5889b6",
   "metadata": {},
   "outputs": [
    {
     "name": "stdout",
     "output_type": "stream",
     "text": [
      "[[[500   1   2]\n",
      "  [  3   4   5]\n",
      "  [  6   7   8]\n",
      "  [  9  10  11]\n",
      "  [ 12  13  14]]\n",
      "\n",
      " [[ 15  16  17]\n",
      "  [ 18  19  20]\n",
      "  [ 21  22  23]\n",
      "  [ 24  25  26]\n",
      "  [ 27  28  29]]]\n"
     ]
    }
   ],
   "source": [
    "print(arr3d) "
   ]
  },
  {
   "cell_type": "code",
   "execution_count": 232,
   "id": "5de944d0-1b4c-42c4-8259-c98744ae8bfc",
   "metadata": {},
   "outputs": [
    {
     "name": "stdout",
     "output_type": "stream",
     "text": [
      "[150   1   2   3   4   5   6   7   8   9  10  11  12  13  14  15  16  17\n",
      "  18  19  20  21  22  23  24  25  26  27  28  29]\n"
     ]
    }
   ],
   "source": [
    "arr3d_flat[0]=150\n",
    "print(arr3d_flat)"
   ]
  },
  {
   "cell_type": "code",
   "execution_count": 234,
   "id": "b3c0f0dc-b8b8-4fb9-8da3-0429b3573193",
   "metadata": {},
   "outputs": [
    {
     "name": "stdout",
     "output_type": "stream",
     "text": [
      "[[[500   1   2]\n",
      "  [  3   4   5]\n",
      "  [  6   7   8]\n",
      "  [  9  10  11]\n",
      "  [ 12  13  14]]\n",
      "\n",
      " [[ 15  16  17]\n",
      "  [ 18  19  20]\n",
      "  [ 21  22  23]\n",
      "  [ 24  25  26]\n",
      "  [ 27  28  29]]]\n"
     ]
    }
   ],
   "source": [
    "print(arr3d) # arr3d remains the same as the ravel"
   ]
  },
  {
   "cell_type": "markdown",
   "id": "bebbe32c-c9e0-43c6-bcdd-cf35c8db5db1",
   "metadata": {},
   "source": [
    "References: https://www.w3schools.com/python/"
   ]
  },
  {
   "cell_type": "markdown",
   "id": "b80e6c40-697b-4391-886f-deee9673725c",
   "metadata": {},
   "source": [
    "Tips:\n",
    "- 1D numpy array -> transposed to 2D (to vector)\n",
    "\n",
    "Most common:\n",
    "- np.array\n",
    "- np.random.random\n",
    "- shape\n",
    "- reshape\n",
    "- mathematical operations\n",
    "- aggregate\n",
    "- indexing & slicing\n",
    "- transpose"
   ]
  },
  {
   "cell_type": "markdown",
   "id": "c8b9e9c4-2aa2-4f8c-8392-558c32915137",
   "metadata": {},
   "source": [
    "#### Practice:\n",
    "Create a 2D numpy array 5x6 (5 rows, 6 columns):\n",
    "- use np.array, np.zeros, np.arange\n",
    "- use indexing and slicing to take 1 value and few values from the newly created numpy array\n",
    "    - number on first row, column 3\n",
    "    - numbers from row: 2-4 and last column\n",
    "- dot product: np.array([5,4,6,7,8])"
   ]
  },
  {
   "cell_type": "code",
   "execution_count": 50,
   "id": "6ffb27f0-92cf-4744-993d-9d7ee70c0dcb",
   "metadata": {},
   "outputs": [
    {
     "name": "stdout",
     "output_type": "stream",
     "text": [
      "[[0 1 2 3 4 5]]\n",
      "[[0. 0. 0. 0. 0. 0.]]\n",
      "[[0.33740997 0.96058773 0.16051011 0.67436022 0.61063154 0.65629696]]\n",
      "[[0. 1. 2. 3. 4. 5.]\n",
      " [0. 0. 0. 0. 0. 0.]]\n"
     ]
    }
   ],
   "source": [
    "practice1=np.arange(6).reshape(1,6)\n",
    "practice2=np.zeros(6).reshape((1,6))\n",
    "practice3=np.random.random(6).reshape(1,6)\n",
    "practice4=np.array([6,9,12,14,0,5]).reshape(1,6)\n",
    "practice5=np.ones((1,6))\n",
    "\n",
    "#result=np.empty([])\n",
    "\n",
    "print(practice1)\n",
    "print(practice2)\n",
    "print(practice3)\n",
    "result=np.append(practice1,practice2,axis=0)\n",
    "print(result)"
   ]
  },
  {
   "cell_type": "code",
   "execution_count": 51,
   "id": "2a0f4c41-6e9c-448d-83b9-b736aa8192f8",
   "metadata": {},
   "outputs": [
    {
     "name": "stdout",
     "output_type": "stream",
     "text": [
      "[[0.         1.         2.         3.         4.         5.        ]\n",
      " [0.         0.         0.         0.         0.         0.        ]\n",
      " [0.33740997 0.96058773 0.16051011 0.67436022 0.61063154 0.65629696]]\n",
      "(3, 6)\n"
     ]
    }
   ],
   "source": [
    "result=np.append(result,practice3,axis=0)\n",
    "print(result)\n",
    "print(result.shape)"
   ]
  },
  {
   "cell_type": "code",
   "execution_count": 52,
   "id": "221f14fd-58c4-42e0-a5b2-a8c060238f53",
   "metadata": {},
   "outputs": [
    {
     "name": "stdout",
     "output_type": "stream",
     "text": [
      "[[ 0.          1.          2.          3.          4.          5.        ]\n",
      " [ 0.          0.          0.          0.          0.          0.        ]\n",
      " [ 0.33740997  0.96058773  0.16051011  0.67436022  0.61063154  0.65629696]\n",
      " [ 6.          9.         12.         14.          0.          5.        ]\n",
      " [ 1.          1.          1.          1.          1.          1.        ]]\n",
      "(5, 6)\n"
     ]
    }
   ],
   "source": [
    "result=np.append(result,practice4,axis=0)\n",
    "result=np.append(result,practice5,axis=0)\n",
    "print(result)\n",
    "print(result.shape)"
   ]
  },
  {
   "cell_type": "code",
   "execution_count": 56,
   "id": "934f7de3-8330-4cfb-81f9-1bbeb1cdd4c6",
   "metadata": {},
   "outputs": [
    {
     "name": "stdout",
     "output_type": "stream",
     "text": [
      "2.0\n",
      "[0.         0.65629696 5.        ]\n"
     ]
    }
   ],
   "source": [
    "# - use indexing and slicing to take 1 value and few values from the newly created numpy array\n",
    "print(result[0,2]) # number on first row, column 3\n",
    "print(result[1:4,5]) # numbers from row: 2-4 and last column"
   ]
  },
  {
   "cell_type": "code",
   "execution_count": 77,
   "id": "049caf2d-f73d-4a01-b107-91bb943624fa",
   "metadata": {},
   "outputs": [
    {
     "name": "stdout",
     "output_type": "stream",
     "text": [
      "[[ 0  1  2  3  4]\n",
      " [ 5  6  7  8  9]\n",
      " [10 11 12 13 14]\n",
      " [15 16 17 18 19]\n",
      " [20 21 22 23 24]\n",
      " [25 26 27 28 29]]\n"
     ]
    }
   ],
   "source": [
    "new=np.arange(30).reshape(6,5)\n",
    "print(new)"
   ]
  },
  {
   "cell_type": "code",
   "execution_count": 79,
   "id": "cb35b935-195c-405b-b9ae-c85e584eaab4",
   "metadata": {},
   "outputs": [
    {
     "name": "stdout",
     "output_type": "stream",
     "text": [
      "[[ 0  1  2  3  4  5]\n",
      " [ 6  7  8  9 10 11]\n",
      " [12 13 14 15 16 17]\n",
      " [18 19 20 21 22 23]\n",
      " [24 25 26 27 28 29]]\n",
      "[[ 0  1  2  3  4  5]\n",
      " [ 6  7  8  9 10 11]\n",
      " [12 13 14 15 16 17]\n",
      " [ 0  0  0  0  0  0]\n",
      " [24 25 26 27 28 29]]\n"
     ]
    }
   ],
   "source": [
    "new=new.reshape(5,6)\n",
    "print(new)\n",
    "new[3]=np.zeros(6)\n",
    "print(new)"
   ]
  },
  {
   "cell_type": "code",
   "execution_count": 82,
   "id": "fbc34a78-dcee-47af-b650-cb6df65c9056",
   "metadata": {},
   "outputs": [
    {
     "name": "stdout",
     "output_type": "stream",
     "text": [
      "2\n",
      "[11 17  0]\n"
     ]
    }
   ],
   "source": [
    "print(new[0,2]) # number on first row, column 3\n",
    "print(new[1:4,5]) # numbers from row: 2-4 and last column"
   ]
  }
 ],
 "metadata": {
  "kernelspec": {
   "display_name": "Python 3 (ipykernel)",
   "language": "python",
   "name": "python3"
  },
  "language_info": {
   "codemirror_mode": {
    "name": "ipython",
    "version": 3
   },
   "file_extension": ".py",
   "mimetype": "text/x-python",
   "name": "python",
   "nbconvert_exporter": "python",
   "pygments_lexer": "ipython3",
   "version": "3.9.7"
  }
 },
 "nbformat": 4,
 "nbformat_minor": 5
}
