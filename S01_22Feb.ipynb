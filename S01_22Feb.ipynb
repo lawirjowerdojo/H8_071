{
 "cells": [
  {
   "cell_type": "markdown",
   "id": "5d270634-5c3f-4aa5-aecd-d07422526666",
   "metadata": {},
   "source": [
    "## Session 1 - 22 Feb 2022\n",
    "LWirjowerdojo - PYTN071ONL010"
   ]
  },
  {
   "cell_type": "markdown",
   "id": "7913b8a7-dbd0-439b-a7f5-446f86cc62d9",
   "metadata": {},
   "source": [
    "# Basic Python - Data Types\n",
    "Simple Data Types\n",
    "1. Integer <class 'int'> \n",
    "2. Float <class 'float'>\n",
    "3. String\n",
    "4. Boolean\n",
    "\n",
    "Structure Data Types\n",
    "1. List\n",
    "2. Tuples\n",
    "3. \n",
    "4. \n",
    "\n",
    "Markdown guide: https://www.markdownguide.org/basic-syntax/"
   ]
  },
  {
   "cell_type": "markdown",
   "id": "b04f53fa-2410-41f1-9cab-82843ef12275",
   "metadata": {},
   "source": [
    "## Integer"
   ]
  },
  {
   "cell_type": "code",
   "execution_count": 16,
   "id": "140acc8c-1ee8-4e74-8a2e-55d6b270242d",
   "metadata": {},
   "outputs": [],
   "source": [
    "new=81273"
   ]
  },
  {
   "cell_type": "code",
   "execution_count": 11,
   "id": "3f04db75-b0eb-4f82-b183-0ec163d574bf",
   "metadata": {},
   "outputs": [
    {
     "name": "stdout",
     "output_type": "stream",
     "text": [
      "81273\n"
     ]
    }
   ],
   "source": [
    "#integer\n",
    "print(new)"
   ]
  },
  {
   "cell_type": "code",
   "execution_count": 6,
   "id": "cf9208a9-b377-4d9a-9240-6efdf7b06abf",
   "metadata": {},
   "outputs": [
    {
     "name": "stdout",
     "output_type": "stream",
     "text": [
      "<class 'int'>\n"
     ]
    }
   ],
   "source": [
    "print(type(new))"
   ]
  },
  {
   "cell_type": "markdown",
   "id": "3da0f360-2ed2-40f9-bc3c-e6d3810fbec7",
   "metadata": {},
   "source": [
    "## Float"
   ]
  },
  {
   "cell_type": "code",
   "execution_count": 9,
   "id": "804755eb-6782-4ea4-a407-3ed88f358e18",
   "metadata": {},
   "outputs": [
    {
     "name": "stdout",
     "output_type": "stream",
     "text": [
      "1.0\n"
     ]
    }
   ],
   "source": [
    "#float\n",
    "f=1.0\n",
    "print(1.0)"
   ]
  },
  {
   "cell_type": "code",
   "execution_count": 8,
   "id": "c21eb79a-64c9-4c80-86d7-ebaa5edaaa4a",
   "metadata": {},
   "outputs": [
    {
     "name": "stdout",
     "output_type": "stream",
     "text": [
      "<class 'float'>\n"
     ]
    }
   ],
   "source": [
    "print(type(f))"
   ]
  },
  {
   "cell_type": "code",
   "execution_count": 14,
   "id": "906d1c92-0c1a-4aac-99d2-74c7196f5283",
   "metadata": {},
   "outputs": [
    {
     "name": "stdout",
     "output_type": "stream",
     "text": [
      "54\n"
     ]
    },
    {
     "data": {
      "text/plain": [
       "6"
      ]
     },
     "metadata": {},
     "output_type": "display_data"
    },
    {
     "data": {
      "text/plain": [
       "92"
      ]
     },
     "execution_count": 14,
     "metadata": {},
     "output_type": "execute_result"
    }
   ],
   "source": [
    "# print & display commands - to display, otherwise it will only display/print the last line\n",
    "1\n",
    "4\n",
    "83\n",
    "12\n",
    "print(54)\n",
    "display(6)\n",
    "92"
   ]
  },
  {
   "cell_type": "markdown",
   "id": "97dd01d1-4e60-4bc4-9dc1-cb9dda4cda46",
   "metadata": {},
   "source": [
    "## String\n",
    "Use \"\" or '' \n",
    "To use the '' inside the word/sentence, use \\ before the symbol"
   ]
  },
  {
   "cell_type": "code",
   "execution_count": 18,
   "id": "1e48f4da-d363-44c4-bae0-681c6c9e86e6",
   "metadata": {},
   "outputs": [],
   "source": [
    "new=\"aisojasn\""
   ]
  },
  {
   "cell_type": "code",
   "execution_count": 19,
   "id": "9e2df1d9-1442-4a73-a036-e0ad8ae238d6",
   "metadata": {},
   "outputs": [
    {
     "name": "stdout",
     "output_type": "stream",
     "text": [
      "aisojasn\n"
     ]
    }
   ],
   "source": [
    "print(new)"
   ]
  },
  {
   "cell_type": "code",
   "execution_count": 21,
   "id": "73495a62-235b-406b-9913-33afc1945541",
   "metadata": {},
   "outputs": [],
   "source": [
    "# using \\\n",
    "ex='aren\\'t you sleepy?'"
   ]
  },
  {
   "cell_type": "code",
   "execution_count": 22,
   "id": "e4212716-c1a5-4fb9-ac15-b2b3213f85eb",
   "metadata": {},
   "outputs": [
    {
     "name": "stdout",
     "output_type": "stream",
     "text": [
      "aren't you sleepy?\n"
     ]
    }
   ],
   "source": [
    "print(ex)"
   ]
  },
  {
   "cell_type": "markdown",
   "id": "21d3c5c1-04cc-4253-961f-45dee0b23a42",
   "metadata": {},
   "source": [
    "## Boolean\n",
    "True or False"
   ]
  },
  {
   "cell_type": "code",
   "execution_count": 23,
   "id": "f63f8a5f-8d98-4ddf-8c73-493805538795",
   "metadata": {},
   "outputs": [
    {
     "name": "stdout",
     "output_type": "stream",
     "text": [
      "True\n"
     ]
    }
   ],
   "source": [
    "print(True)"
   ]
  },
  {
   "cell_type": "code",
   "execution_count": 24,
   "id": "7260e549-a43b-4b4a-945f-be8da9429513",
   "metadata": {},
   "outputs": [
    {
     "name": "stdout",
     "output_type": "stream",
     "text": [
      "False\n"
     ]
    }
   ],
   "source": [
    "print(False)"
   ]
  },
  {
   "cell_type": "code",
   "execution_count": 25,
   "id": "10fb0703-a300-43b6-8316-c105a6225dc0",
   "metadata": {},
   "outputs": [
    {
     "name": "stdout",
     "output_type": "stream",
     "text": [
      "<class 'bool'>\n"
     ]
    }
   ],
   "source": [
    "print(type(True))"
   ]
  },
  {
   "cell_type": "markdown",
   "id": "d6d54510-3f5f-49e2-afd0-870a9db003fa",
   "metadata": {},
   "source": [
    "Convert data types"
   ]
  },
  {
   "cell_type": "code",
   "execution_count": null,
   "id": "bec836c9-6d88-4d02-bf30-df3fef2ff26a",
   "metadata": {},
   "outputs": [
    {
     "data": {
      "text/plain": [
       "15.0"
      ]
     },
     "execution_count": 32,
     "metadata": {},
     "output_type": "execute_result"
    }
   ],
   "source": [
    "#integer to float, boolean and string\n",
    "float(15)"
   ]
  },
  {
   "cell_type": "code",
   "execution_count": 28,
   "id": "817fb7e1-b6f1-4318-a85f-a9fad5ee98e9",
   "metadata": {},
   "outputs": [
    {
     "data": {
      "text/plain": [
       "True"
      ]
     },
     "execution_count": 28,
     "metadata": {},
     "output_type": "execute_result"
    }
   ],
   "source": [
    "bool(15)"
   ]
  },
  {
   "cell_type": "code",
   "execution_count": 29,
   "id": "d99d721d-a1a2-4ec8-b8da-823e15745453",
   "metadata": {},
   "outputs": [
    {
     "name": "stdout",
     "output_type": "stream",
     "text": [
      "15\n"
     ]
    }
   ],
   "source": [
    "print(str(15))"
   ]
  },
  {
   "cell_type": "code",
   "execution_count": 34,
   "id": "137b98ec-5868-41b5-b4bd-c86c82c42c60",
   "metadata": {},
   "outputs": [],
   "source": [
    "# string to float, boolean, and int (exception applies to string that only contains alphabets)"
   ]
  },
  {
   "cell_type": "code",
   "execution_count": 37,
   "id": "afe74d29-3adf-4178-88be-8d4f1b20ac3e",
   "metadata": {},
   "outputs": [
    {
     "ename": "ValueError",
     "evalue": "invalid literal for int() with base 10: 'andi'",
     "output_type": "error",
     "traceback": [
      "\u001b[0;31m---------------------------------------------------------------------------\u001b[0m",
      "\u001b[0;31mValueError\u001b[0m                                Traceback (most recent call last)",
      "\u001b[0;32m/tmp/ipykernel_3154/2822335544.py\u001b[0m in \u001b[0;36m<module>\u001b[0;34m\u001b[0m\n\u001b[1;32m      1\u001b[0m \u001b[0mexm\u001b[0m\u001b[0;34m=\u001b[0m\u001b[0;34m\"andi\"\u001b[0m\u001b[0;34m\u001b[0m\u001b[0;34m\u001b[0m\u001b[0m\n\u001b[0;32m----> 2\u001b[0;31m \u001b[0mint\u001b[0m\u001b[0;34m(\u001b[0m\u001b[0mexm\u001b[0m\u001b[0;34m)\u001b[0m\u001b[0;34m\u001b[0m\u001b[0;34m\u001b[0m\u001b[0m\n\u001b[0m",
      "\u001b[0;31mValueError\u001b[0m: invalid literal for int() with base 10: 'andi'"
     ]
    }
   ],
   "source": [
    "exm=\"andi\"\n",
    "int(exm)"
   ]
  },
  {
   "cell_type": "code",
   "execution_count": 38,
   "id": "05d8b687-b2c3-4ab7-a652-c0320b3c8fac",
   "metadata": {},
   "outputs": [
    {
     "data": {
      "text/plain": [
       "True"
      ]
     },
     "execution_count": 38,
     "metadata": {},
     "output_type": "execute_result"
    }
   ],
   "source": [
    "example=22\n",
    "bool(example)"
   ]
  },
  {
   "cell_type": "markdown",
   "id": "0667a52d-b146-4f7b-9c37-44c429870821",
   "metadata": {},
   "source": [
    "## Python already have a set of standard that falls into the True or False category. It's easier to start from the things that what Python assumes as false\n",
    "Integer 0\n",
    "\"\"\n",
    "''"
   ]
  },
  {
   "cell_type": "markdown",
   "id": "bca71112-459a-4ada-8061-fe205fe31358",
   "metadata": {},
   "source": [
    "## Variable\n",
    "Storing data with name\n",
    "Rules:\n",
    "- not using space, space is replaced by _ (snake_case rule type); other cases:\n",
    "    - camelCase - capital on the word after the supposed space > function\n",
    "    - PascalCase - start with capital > class\n",
    "    - kebab-case - use hyphen (-) > not used\n",
    "    - snake_case - use _ > variable\n",
    "- can't start with a number\n",
    "- capitalisation affects the variable (two are different), must be consistent throughout"
   ]
  },
  {
   "cell_type": "code",
   "execution_count": 39,
   "id": "e442b1ef-cb1b-4f56-b932-3daa49dec60e",
   "metadata": {},
   "outputs": [],
   "source": [
    "# assign string \"Selamat malam\" to a variable\n",
    "# variable assignment\n",
    "message = \"Selamat malam\""
   ]
  },
  {
   "cell_type": "code",
   "execution_count": 40,
   "id": "79d0c5a2-d5cf-4130-a391-c3ae27caa0df",
   "metadata": {},
   "outputs": [
    {
     "name": "stdout",
     "output_type": "stream",
     "text": [
      "Selamat malam\n"
     ]
    }
   ],
   "source": [
    "print(message)"
   ]
  },
  {
   "cell_type": "code",
   "execution_count": 42,
   "id": "d80e1d6b-92b4-4ac4-8e15-3f1df33bad1c",
   "metadata": {},
   "outputs": [
    {
     "name": "stdout",
     "output_type": "stream",
     "text": [
      "12 15 18 20\n"
     ]
    }
   ],
   "source": [
    "# example on the capitalisation\n",
    "age=12\n",
    "Age=15\n",
    "AGe=18\n",
    "agE=20\n",
    "print(age, Age, AGe, agE)"
   ]
  },
  {
   "cell_type": "code",
   "execution_count": 43,
   "id": "d0f7a1ec-a99b-40f0-8855-f218a67d3213",
   "metadata": {},
   "outputs": [
    {
     "name": "stdout",
     "output_type": "stream",
     "text": [
      "Selamat malam\n"
     ]
    }
   ],
   "source": [
    "# variable can be reassigned\n",
    "print(message)"
   ]
  },
  {
   "cell_type": "code",
   "execution_count": 44,
   "id": "2b27adfa-47e3-4300-a53a-1cfa9e6de5fe",
   "metadata": {},
   "outputs": [
    {
     "name": "stdout",
     "output_type": "stream",
     "text": [
      "Hello\n"
     ]
    }
   ],
   "source": [
    "message=(\"Hello\")\n",
    "print(message)"
   ]
  },
  {
   "cell_type": "code",
   "execution_count": 46,
   "id": "c33d4802-2c1f-4b1a-bfd3-ca19d1e978c6",
   "metadata": {},
   "outputs": [
    {
     "name": "stdout",
     "output_type": "stream",
     "text": [
      "False\n"
     ]
    }
   ],
   "source": [
    "# variable does NOT have a data type\n",
    "message=13\n",
    "message=12.5\n",
    "message=False\n",
    "print(False)"
   ]
  },
  {
   "cell_type": "markdown",
   "id": "45089fbd-94d5-4c41-bed8-7b45db4fc2e5",
   "metadata": {},
   "source": [
    "## Operations\n",
    "Manipulate data\n",
    "- Operator & expression \n",
    "    - \\+ \\- \\* \\/ \\% \\**\n",
    "    - comparison \\> \\< \\>\\= \\<\\= \\=\\= \\!\\=\n",
    "    - in\n",
    "- Built-in functions\n",
    "    - change case (capitalisation - all caps/all lowercases)"
   ]
  },
  {
   "cell_type": "code",
   "execution_count": 47,
   "id": "0f0c781a-cc5d-48c4-9fc6-896ef15f923f",
   "metadata": {},
   "outputs": [
    {
     "name": "stdout",
     "output_type": "stream",
     "text": [
      "The sum of 5 and 6 is 11\n"
     ]
    }
   ],
   "source": [
    "a=5\n",
    "b=6\n",
    "\n",
    "c=a+b\n",
    "print(\"The sum of\", a, \"and\", b, \"is\", c)"
   ]
  },
  {
   "cell_type": "code",
   "execution_count": 48,
   "id": "07b4162b-555c-4c20-9331-cc80aed05d25",
   "metadata": {},
   "outputs": [
    {
     "name": "stdout",
     "output_type": "stream",
     "text": [
      "1.6666666666666667\n",
      "2\n"
     ]
    }
   ],
   "source": [
    "# modulo - the remainder of the division\n",
    "print(5/3)\n",
    "print(5%3)"
   ]
  },
  {
   "cell_type": "code",
   "execution_count": 50,
   "id": "b00efa5b-9e27-48d0-9394-3c1b192c4836",
   "metadata": {},
   "outputs": [
    {
     "name": "stdout",
     "output_type": "stream",
     "text": [
      "5 to the power of 6 is 11\n"
     ]
    }
   ],
   "source": [
    "d = 5**6\n",
    "print(a, \"to the power of\", b, \"is\", c)"
   ]
  },
  {
   "cell_type": "code",
   "execution_count": 52,
   "id": "6f3fc072-89a7-4a06-87ed-b4471a4357d7",
   "metadata": {},
   "outputs": [
    {
     "name": "stdout",
     "output_type": "stream",
     "text": [
      "True\n",
      "False\n",
      "True\n",
      "False\n",
      "False\n",
      "True\n"
     ]
    }
   ],
   "source": [
    "# comparison\n",
    "a = 7\n",
    "b = 10\n",
    "print(a<b)\n",
    "print(a>b)\n",
    "\n",
    "print(a<=b)\n",
    "print(a>=b)\n",
    "\n",
    "print(a ==b)\n",
    "print(a!=b)"
   ]
  },
  {
   "cell_type": "code",
   "execution_count": 57,
   "id": "f9d34e60-b8e5-4010-bec3-f0cde638c29b",
   "metadata": {},
   "outputs": [
    {
     "name": "stdout",
     "output_type": "stream",
     "text": [
      "a is smaller than b\n"
     ]
    }
   ],
   "source": [
    "if a>b:\n",
    "    print(\"a is bigger than b\")\n",
    "else:\n",
    "    print(\"a is smaller than b\")"
   ]
  },
  {
   "cell_type": "markdown",
   "id": "9f299c7a-8126-4d24-94f5-94b1bd24cca1",
   "metadata": {},
   "source": [
    "## String manipulation\n",
    "Reference: https://www.w3schools.com/python/"
   ]
  },
  {
   "cell_type": "code",
   "execution_count": 58,
   "id": "0a11767f-9f6a-445c-bfe7-dc70b3230a2b",
   "metadata": {},
   "outputs": [
    {
     "data": {
      "text/plain": [
       "False"
      ]
     },
     "execution_count": 58,
     "metadata": {},
     "output_type": "execute_result"
    }
   ],
   "source": [
    "message"
   ]
  },
  {
   "cell_type": "code",
   "execution_count": 59,
   "id": "7afb2ffe-16fa-4718-859c-bc4d65970751",
   "metadata": {},
   "outputs": [],
   "source": [
    "message=\"Hello\""
   ]
  },
  {
   "cell_type": "code",
   "execution_count": 62,
   "id": "914f4b65-f75a-4167-8abf-c5ab1a07a06a",
   "metadata": {},
   "outputs": [
    {
     "data": {
      "text/plain": [
       "'Hello Jakarta'"
      ]
     },
     "execution_count": 62,
     "metadata": {},
     "output_type": "execute_result"
    }
   ],
   "source": [
    "message + \" Jakarta\" # string addition works, does NOT work if combining integer/float"
   ]
  },
  {
   "cell_type": "code",
   "execution_count": 65,
   "id": "0a592beb-4def-4321-8f0a-478dbbe7eacf",
   "metadata": {},
   "outputs": [
    {
     "name": "stdout",
     "output_type": "stream",
     "text": [
      "Hello Jakarta! Today is 28C\n"
     ]
    }
   ],
   "source": [
    "weather=28\n",
    "print(message + \" Jakarta! Today is \" + str(weather) + \"C\")"
   ]
  },
  {
   "cell_type": "code",
   "execution_count": 66,
   "id": "8e533844-98da-4f62-9987-81d0ee1789ed",
   "metadata": {},
   "outputs": [
    {
     "ename": "TypeError",
     "evalue": "can only concatenate str (not \"int\") to str",
     "output_type": "error",
     "traceback": [
      "\u001b[0;31m---------------------------------------------------------------------------\u001b[0m",
      "\u001b[0;31mTypeError\u001b[0m                                 Traceback (most recent call last)",
      "\u001b[0;32m/tmp/ipykernel_3154/1088560177.py\u001b[0m in \u001b[0;36m<module>\u001b[0;34m\u001b[0m\n\u001b[0;32m----> 1\u001b[0;31m \u001b[0mprint\u001b[0m\u001b[0;34m(\u001b[0m\u001b[0mmessage\u001b[0m \u001b[0;34m+\u001b[0m \u001b[0;34m\" Jakarta! Today is \"\u001b[0m \u001b[0;34m+\u001b[0m \u001b[0mweather\u001b[0m \u001b[0;34m+\u001b[0m \u001b[0;34m\"C\"\u001b[0m\u001b[0;34m)\u001b[0m\u001b[0;34m\u001b[0m\u001b[0;34m\u001b[0m\u001b[0m\n\u001b[0m",
      "\u001b[0;31mTypeError\u001b[0m: can only concatenate str (not \"int\") to str"
     ]
    }
   ],
   "source": [
    "print(message + \" Jakarta! Today is \" + weather + \"C\") # does not work if weather is NOT recognised as string"
   ]
  },
  {
   "cell_type": "code",
   "execution_count": 68,
   "id": "de4289fd-2a54-4db1-8e4e-e96baf3b75df",
   "metadata": {},
   "outputs": [
    {
     "data": {
      "text/plain": [
       "True"
      ]
     },
     "execution_count": 68,
     "metadata": {},
     "output_type": "execute_result"
    }
   ],
   "source": [
    "# in\n",
    "# is there \"llo\" in the message variable?\n",
    "\"llo\" in message"
   ]
  },
  {
   "cell_type": "code",
   "execution_count": 75,
   "id": "c3ec5151-7b07-47af-b73a-f31c9f952bd3",
   "metadata": {},
   "outputs": [
    {
     "name": "stdout",
     "output_type": "stream",
     "text": [
      "HELLO~ 123\n",
      "hello~ 123\n",
      "Hello~ 123\n",
      "hELLO~ 123\n",
      "Hello~ 123\n"
     ]
    }
   ],
   "source": [
    "# String conversion\n",
    "message=\"Hello~ 123\"\n",
    "\n",
    "# upper\n",
    "print(message.upper())\n",
    "\n",
    "# lower\n",
    "print(message.lower())\n",
    "\n",
    "# title\n",
    "print(message.title())\n",
    "\n",
    "# swap case\n",
    "print(message.swapcase())\n",
    "\n",
    "# capitalise\n",
    "print(message.capitalize())"
   ]
  },
  {
   "cell_type": "code",
   "execution_count": 77,
   "id": "fd029a11-e1ce-4009-9529-06d6ce125887",
   "metadata": {},
   "outputs": [
    {
     "data": {
      "text/plain": [
       "True"
      ]
     },
     "execution_count": 77,
     "metadata": {},
     "output_type": "execute_result"
    }
   ],
   "source": [
    "# checking if a word exists within a variable without the cases\n",
    "\"hel\".lower() in message.lower()"
   ]
  },
  {
   "cell_type": "markdown",
   "id": "a9aa515f-17a9-4c9c-8eba-11fa49b83167",
   "metadata": {},
   "source": [
    "## Lists\n",
    "A set of data:\n",
    "- []\n",
    "- lot of data within a list\n",
    "- data types can be >1\n",
    "- indexed data"
   ]
  },
  {
   "cell_type": "code",
   "execution_count": 128,
   "id": "01dbc663-87c9-45b1-a741-cf03d92f4e23",
   "metadata": {},
   "outputs": [],
   "source": [
    "# buah\n",
    "fruit=['Orange', 'Mango', 'Coconut']"
   ]
  },
  {
   "cell_type": "code",
   "execution_count": 79,
   "id": "89caa994-d293-445a-8244-1dd38646426f",
   "metadata": {},
   "outputs": [
    {
     "name": "stdout",
     "output_type": "stream",
     "text": [
      "['Orange', 'Mango', 'Coconut']\n"
     ]
    }
   ],
   "source": [
    "print(fruit)"
   ]
  },
  {
   "cell_type": "code",
   "execution_count": 80,
   "id": "09bd05f2-4839-42f7-91b0-c8f4445ddd1f",
   "metadata": {},
   "outputs": [
    {
     "name": "stdout",
     "output_type": "stream",
     "text": [
      "<class 'list'>\n"
     ]
    }
   ],
   "source": [
    "print(type(fruit))"
   ]
  },
  {
   "cell_type": "code",
   "execution_count": 81,
   "id": "b8dea731-14de-4db5-aac7-280571c13a76",
   "metadata": {},
   "outputs": [
    {
     "name": "stdout",
     "output_type": "stream",
     "text": [
      "True\n",
      "['Orange', 'Mango', 'Coconut']\n"
     ]
    }
   ],
   "source": [
    "# can be converted to string / boolean\n",
    "print(bool(fruit))\n",
    "print(str(fruit))"
   ]
  },
  {
   "cell_type": "code",
   "execution_count": 86,
   "id": "f1471733-6c7b-4ffa-a7f7-f13e004d865f",
   "metadata": {},
   "outputs": [
    {
     "name": "stdout",
     "output_type": "stream",
     "text": [
      "Orange\n",
      "Orange\n"
     ]
    }
   ],
   "source": [
    "# Index starts from 0 (forward), -1 (reverse)\n",
    "# forward\n",
    "test=fruit[0]\n",
    "print(test)\n",
    "\n",
    "# reverse\n",
    "test=fruit[-3]\n",
    "print(test)"
   ]
  },
  {
   "cell_type": "code",
   "execution_count": 92,
   "id": "9baa1fef-8dea-4212-84b4-af4d465ad713",
   "metadata": {},
   "outputs": [
    {
     "name": "stdout",
     "output_type": "stream",
     "text": [
      "['Orange', 'Mango']\n",
      "['Orange', 'Mango']\n",
      "['Mango', 'Coconut']\n"
     ]
    }
   ],
   "source": [
    "## Slicing - taking few items at once\n",
    "# example - taking [0 and 1]; [initial: how many numbers]; take all [:]\n",
    "# forward\n",
    "newtest=fruit[0:2]\n",
    "print(newtest)\n",
    "\n",
    "# OR\n",
    "\n",
    "newtest=fruit[:2]\n",
    "print(newtest)\n",
    "\n",
    "# reverse\n",
    "newtest=fruit[-2:]\n",
    "print(newtest)"
   ]
  },
  {
   "cell_type": "code",
   "execution_count": 94,
   "id": "dca9e0b5-f2af-4620-bd70-b21dd7ebda80",
   "metadata": {},
   "outputs": [
    {
     "name": "stdout",
     "output_type": "stream",
     "text": [
      "['Orange', 'Mango', 'Coconut']\n"
     ]
    }
   ],
   "source": [
    "## Concatenation and replication\n",
    "# + and * a list\n",
    "print(fruit)"
   ]
  },
  {
   "cell_type": "code",
   "execution_count": 95,
   "id": "374b1a7b-47ea-40a3-a809-524ccce06a8b",
   "metadata": {},
   "outputs": [
    {
     "name": "stdout",
     "output_type": "stream",
     "text": [
      "['Orange', 'Mango', 'Coconut', 'Apple', 'Pear']\n"
     ]
    }
   ],
   "source": [
    "print(fruit + ['Apple', 'Pear'])"
   ]
  },
  {
   "cell_type": "code",
   "execution_count": 96,
   "id": "c19f24ad-3d5b-43ca-8dd1-5b5e1c81c390",
   "metadata": {},
   "outputs": [
    {
     "name": "stdout",
     "output_type": "stream",
     "text": [
      "['Orange', 'Mango', 'Coconut', 'Orange', 'Mango', 'Coconut', 'Orange', 'Mango', 'Coconut']\n"
     ]
    }
   ],
   "source": [
    "print(fruit*3)"
   ]
  },
  {
   "cell_type": "markdown",
   "id": "7ba5d5bc-d3b1-472e-ba4a-ad40e14450c4",
   "metadata": {},
   "source": [
    "### Built in functionality\n",
    "- Len - length of the list\n",
    "- Min - min. item (string - based on the alphabet)\n",
    "- Max - max. item\n"
   ]
  },
  {
   "cell_type": "code",
   "execution_count": 97,
   "id": "f48c720a-1317-4cc9-a302-55edfd2840ab",
   "metadata": {},
   "outputs": [
    {
     "name": "stdout",
     "output_type": "stream",
     "text": [
      "['Orange', 'Mango', 'Coconut']\n",
      "3\n",
      "Coconut\n",
      "Orange\n"
     ]
    }
   ],
   "source": [
    "print(fruit)\n",
    "print(len(fruit))\n",
    "print(min(fruit))\n",
    "print(max(fruit))"
   ]
  },
  {
   "cell_type": "code",
   "execution_count": 98,
   "id": "fae48920-db5f-4429-84de-4c5b64f1e9c3",
   "metadata": {},
   "outputs": [],
   "source": [
    "fruit.sort()"
   ]
  },
  {
   "cell_type": "code",
   "execution_count": 101,
   "id": "6274304a-5739-4db3-bc19-e10966c0930a",
   "metadata": {},
   "outputs": [
    {
     "name": "stdout",
     "output_type": "stream",
     "text": [
      "5\n",
      "1\n",
      "346\n"
     ]
    }
   ],
   "source": [
    "numbers=[12,346,8,20,1]\n",
    "print(len(numbers))\n",
    "print(min(numbers))\n",
    "print(max(numbers))"
   ]
  },
  {
   "cell_type": "code",
   "execution_count": 129,
   "id": "48877c9b-30ea-41c5-bb57-53b42342081c",
   "metadata": {},
   "outputs": [
    {
     "name": "stdout",
     "output_type": "stream",
     "text": [
      "['Orange', 'Mango', 'Coconut']\n"
     ]
    }
   ],
   "source": [
    "# Updating values of the list\n",
    "print(fruit)"
   ]
  },
  {
   "cell_type": "code",
   "execution_count": 130,
   "id": "bc28e7e5-9d96-446b-a343-339acd61e33f",
   "metadata": {},
   "outputs": [
    {
     "name": "stdout",
     "output_type": "stream",
     "text": [
      "['Orange', 'Mango', 'Coconut', 'Dragon Fruit', 'Melon']\n"
     ]
    }
   ],
   "source": [
    "fruit=fruit+ [\"Dragon Fruit\", \"Melon\"]\n",
    "print(fruit)"
   ]
  },
  {
   "cell_type": "code",
   "execution_count": 142,
   "id": "73f9f965-d1f5-4f7a-8657-7710ab08beff",
   "metadata": {},
   "outputs": [
    {
     "name": "stdout",
     "output_type": "stream",
     "text": [
      "['Pineapple', 'Dragon Fruit', 'Melon', 'Cucumber', 'Cucumber', ['Cucumber']]\n"
     ]
    },
    {
     "data": {
      "text/plain": [
       "True"
      ]
     },
     "execution_count": 142,
     "metadata": {},
     "output_type": "execute_result"
    }
   ],
   "source": [
    "# change Orange and Mango to pineapple\n",
    "fruit[:2]=[\"Pineapple\"]\n",
    "print(fruit)\n",
    "\"Dragon Fruit\" in fruit # checking if dragon fruit exists within the fruit list"
   ]
  },
  {
   "cell_type": "code",
   "execution_count": 134,
   "id": "1a43bc98-61f9-4c46-a182-d169fe4a568f",
   "metadata": {},
   "outputs": [
    {
     "name": "stdout",
     "output_type": "stream",
     "text": [
      "None\n"
     ]
    }
   ],
   "source": [
    "# remove, append, add\n",
    "fruit2=fruit.append([\"Cucumber\"])\n",
    "print(fruit2)"
   ]
  },
  {
   "cell_type": "markdown",
   "id": "ec30ee19-7ba3-4f9f-8068-924c4045c0c5",
   "metadata": {},
   "source": [
    "## Tuple\n",
    "- similar to list\n",
    "- use ()\n",
    "- items within tuple CANNOT be changed"
   ]
  },
  {
   "cell_type": "code",
   "execution_count": 138,
   "id": "b1600b28-0723-4b16-8be9-3d66dd6b424d",
   "metadata": {},
   "outputs": [
    {
     "name": "stdout",
     "output_type": "stream",
     "text": [
      "(50, 59, 70, 100)\n"
     ]
    }
   ],
   "source": [
    "score=(50, 59, 70, 100)\n",
    "print(score)"
   ]
  },
  {
   "cell_type": "code",
   "execution_count": 139,
   "id": "d0b9a10a-f554-4b76-9d50-17c92ef2d7ff",
   "metadata": {},
   "outputs": [
    {
     "name": "stdout",
     "output_type": "stream",
     "text": [
      "<class 'tuple'>\n"
     ]
    }
   ],
   "source": [
    "print(type(score))"
   ]
  },
  {
   "cell_type": "code",
   "execution_count": 141,
   "id": "6ad13e33-c2d3-496d-9c81-2510ec0aa56a",
   "metadata": {},
   "outputs": [
    {
     "data": {
      "text/plain": [
       "(50, 59, 70, 100, 82)"
      ]
     },
     "execution_count": 141,
     "metadata": {},
     "output_type": "execute_result"
    }
   ],
   "source": [
    "# to append in tuple, must be converted to list, then convert back to tuple\n",
    "tuple(list(score)+[82])"
   ]
  },
  {
   "cell_type": "code",
   "execution_count": 144,
   "id": "4f67ebf3-5095-4cdc-a6dd-aacb4a1acac9",
   "metadata": {},
   "outputs": [
    {
     "name": "stdout",
     "output_type": "stream",
     "text": [
      "50\n"
     ]
    }
   ],
   "source": [
    "# indexing applies\n",
    "score_1 = score[0]\n",
    "print(score_1)"
   ]
  },
  {
   "cell_type": "code",
   "execution_count": 145,
   "id": "0e4a054d-3f35-434d-9c19-d96186eb1981",
   "metadata": {},
   "outputs": [],
   "source": [
    "# reassigning also does NOT work"
   ]
  },
  {
   "cell_type": "markdown",
   "id": "8020f408-cc65-426e-a2b0-b81d9f9812c6",
   "metadata": {},
   "source": [
    "### Packing and unpacking for list and tuple"
   ]
  },
  {
   "cell_type": "code",
   "execution_count": 146,
   "id": "abe8123c-318b-4b24-af59-520c5ea0a912",
   "metadata": {},
   "outputs": [
    {
     "name": "stdout",
     "output_type": "stream",
     "text": [
      "Apple\n",
      "Banana\n",
      "Cucumber\n"
     ]
    }
   ],
   "source": [
    "Fruit=[\"Apple\", \"Banana\", \"Cucumber\"]\n",
    "a, b, c = Fruit\n",
    "\n",
    "print(a)\n",
    "print(b)\n",
    "print(c)"
   ]
  },
  {
   "cell_type": "code",
   "execution_count": 147,
   "id": "3a212270-cce1-4a6f-b320-a0b9b450a354",
   "metadata": {},
   "outputs": [
    {
     "data": {
      "text/plain": [
       "(50, 59, 70, 100)"
      ]
     },
     "execution_count": 147,
     "metadata": {},
     "output_type": "execute_result"
    }
   ],
   "source": [
    "score"
   ]
  },
  {
   "cell_type": "code",
   "execution_count": 148,
   "id": "c32e9173-be70-4755-8bf5-9304f364c42d",
   "metadata": {},
   "outputs": [],
   "source": [
    "A, B, C, D = score"
   ]
  },
  {
   "cell_type": "code",
   "execution_count": 149,
   "id": "552d70b7-7b93-448b-9dc9-d390b5d06784",
   "metadata": {},
   "outputs": [
    {
     "name": "stdout",
     "output_type": "stream",
     "text": [
      "50\n"
     ]
    }
   ],
   "source": [
    "print(score[0])"
   ]
  },
  {
   "cell_type": "code",
   "execution_count": 150,
   "id": "1acd899a-28a3-45e2-b825-858df049a3af",
   "metadata": {},
   "outputs": [
    {
     "name": "stdout",
     "output_type": "stream",
     "text": [
      "50\n"
     ]
    }
   ],
   "source": [
    "print(A)"
   ]
  },
  {
   "cell_type": "markdown",
   "id": "273e7a7b-9403-4870-82aa-96991e54f6a7",
   "metadata": {},
   "source": [
    "## Dictionary\n",
    "- use {}\n",
    "- comes in pair\n",
    "- reference point of real world to computer (atribute, value and key-value)\n",
    "- key: string\n",
    "- value can be anything\n",
    "- does NOT contain index (index = key)"
   ]
  },
  {
   "cell_type": "code",
   "execution_count": 2,
   "id": "cba7953a-69d5-4ef9-90d9-f5b13a4dc051",
   "metadata": {},
   "outputs": [
    {
     "name": "stdout",
     "output_type": "stream",
     "text": [
      "{'name': 'A', 'age': 24, 'hobbies': ['sleeping', 'programming']}\n"
     ]
    }
   ],
   "source": [
    "A={\"name\": \"A\", \n",
    "   \"age\": 24,\n",
    "   \"hobbies\": [\"sleeping\", \"programming\"]\n",
    "  }\n",
    "print(A)"
   ]
  },
  {
   "cell_type": "code",
   "execution_count": 159,
   "id": "f6adefa5-612d-4b33-bc51-cf8cdf30d163",
   "metadata": {},
   "outputs": [
    {
     "data": {
      "text/plain": [
       "['sleeping', 'programming']"
      ]
     },
     "execution_count": 159,
     "metadata": {},
     "output_type": "execute_result"
    }
   ],
   "source": [
    "# TO READ\n",
    "# as there is no index available, to read, we must use KEY\n",
    "# example: hobby\n",
    "A['hobbies']"
   ]
  },
  {
   "cell_type": "code",
   "execution_count": 160,
   "id": "e4ebde76-62b9-453f-b8f2-102ca43aa067",
   "metadata": {},
   "outputs": [
    {
     "data": {
      "text/plain": [
       "'sleeping'"
      ]
     },
     "execution_count": 160,
     "metadata": {},
     "output_type": "execute_result"
    }
   ],
   "source": [
    "A['hobbies'][0] # to read the first hobby"
   ]
  },
  {
   "cell_type": "code",
   "execution_count": 161,
   "id": "ac04c3ae-f57f-4176-aeb1-f5a8ab9b6ae3",
   "metadata": {},
   "outputs": [
    {
     "name": "stdout",
     "output_type": "stream",
     "text": [
      "{'name': 'A', 'age': 32, 'hobbies': ['sleeping', 'programming']}\n"
     ]
    }
   ],
   "source": [
    "# change A's age \n",
    "A['age']=32\n",
    "print(A)"
   ]
  },
  {
   "cell_type": "code",
   "execution_count": 162,
   "id": "7a018d3d-94b1-4f47-a454-910f69eefa1e",
   "metadata": {},
   "outputs": [
    {
     "name": "stdout",
     "output_type": "stream",
     "text": [
      "{'name': 'A', 'age': 32, 'hobbies': ['sleeping', 'programming']}\n",
      "{'name': 'A', 'age': 32, 'hobbies': ['sleeping', 'programming'], 'student ID': 'PYTN071_S01'}\n"
     ]
    }
   ],
   "source": [
    "# to add item in the dictionary\n",
    "print(A)\n",
    "A['student ID']=\"PYTN071_S01\"\n",
    "\n",
    "print(A)"
   ]
  },
  {
   "cell_type": "code",
   "execution_count": 164,
   "id": "4d8e3c58-6bb4-414e-9d69-2bb80e9efc85",
   "metadata": {},
   "outputs": [
    {
     "name": "stdout",
     "output_type": "stream",
     "text": [
      "{'name': 'B', 'age': 38, 'hobbies': ['baking', 'listening to music']}\n"
     ]
    }
   ],
   "source": [
    "# create a new dictionary\n",
    "b = {}\n",
    "b['name']=\"B\"\n",
    "b['age']=38\n",
    "b['hobbies']=[\"baking\", \"listening to music\"]\n",
    "print(b)"
   ]
  },
  {
   "cell_type": "markdown",
   "id": "88a02d31-c649-4186-bd42-c4f90464e25d",
   "metadata": {},
   "source": [
    "### To list dictionary keys, items and values"
   ]
  },
  {
   "cell_type": "code",
   "execution_count": 3,
   "id": "098b5963-66b4-4d48-b36c-60ced18be391",
   "metadata": {},
   "outputs": [
    {
     "data": {
      "text/plain": [
       "dict_keys(['name', 'age', 'hobbies'])"
      ]
     },
     "execution_count": 3,
     "metadata": {},
     "output_type": "execute_result"
    }
   ],
   "source": [
    "A.keys()"
   ]
  },
  {
   "cell_type": "code",
   "execution_count": 4,
   "id": "aa646b4e-a419-4a23-af42-9372689310f7",
   "metadata": {},
   "outputs": [
    {
     "data": {
      "text/plain": [
       "dict_values(['A', 24, ['sleeping', 'programming']])"
      ]
     },
     "execution_count": 4,
     "metadata": {},
     "output_type": "execute_result"
    }
   ],
   "source": [
    "A.values()"
   ]
  },
  {
   "cell_type": "code",
   "execution_count": 5,
   "id": "69f67418-b02d-4a08-8e8b-ef98745dd9c2",
   "metadata": {},
   "outputs": [
    {
     "data": {
      "text/plain": [
       "dict_items([('name', 'A'), ('age', 24), ('hobbies', ['sleeping', 'programming'])])"
      ]
     },
     "execution_count": 5,
     "metadata": {},
     "output_type": "execute_result"
    }
   ],
   "source": [
    "A.items()"
   ]
  },
  {
   "cell_type": "code",
   "execution_count": 168,
   "id": "8237f091-c918-472f-8a20-679f167f8951",
   "metadata": {},
   "outputs": [
    {
     "data": {
      "text/plain": [
       "dict_keys(['name', 'age', 'hobbies'])"
      ]
     },
     "execution_count": 168,
     "metadata": {},
     "output_type": "execute_result"
    }
   ],
   "source": [
    "b.keys()"
   ]
  },
  {
   "cell_type": "code",
   "execution_count": 172,
   "id": "c54ce236-33ee-4621-bef2-1945a90fa023",
   "metadata": {},
   "outputs": [
    {
     "data": {
      "text/plain": [
       "3"
      ]
     },
     "execution_count": 172,
     "metadata": {},
     "output_type": "execute_result"
    }
   ],
   "source": [
    "len(b)"
   ]
  },
  {
   "cell_type": "code",
   "execution_count": 173,
   "id": "2d368c9a-ec0b-4481-be59-844db0289d06",
   "metadata": {},
   "outputs": [
    {
     "data": {
      "text/plain": [
       "4"
      ]
     },
     "execution_count": 173,
     "metadata": {},
     "output_type": "execute_result"
    }
   ],
   "source": [
    "len(A)"
   ]
  },
  {
   "cell_type": "markdown",
   "id": "90092c21-2b44-45f0-89f6-5d450fcb4fa8",
   "metadata": {},
   "source": [
    "# Practice:\n",
    "- Anaconda installation\n",
    "- Create python notebook\n",
    "- Create variables for different types of data\n",
    "    - int\n",
    "    - float\n",
    "    - string\n",
    "    - bool\n",
    "    - list\n",
    "    - tuple\n",
    "    - dict\n",
    "- Create github acc\n",
    "- Install github"
   ]
  }
 ],
 "metadata": {
  "kernelspec": {
   "display_name": "Python 3 (ipykernel)",
   "language": "python",
   "name": "python3"
  },
  "language_info": {
   "codemirror_mode": {
    "name": "ipython",
    "version": 3
   },
   "file_extension": ".py",
   "mimetype": "text/x-python",
   "name": "python",
   "nbconvert_exporter": "python",
   "pygments_lexer": "ipython3",
   "version": "3.9.7"
  }
 },
 "nbformat": 4,
 "nbformat_minor": 5
}
