{
 "cells": [
  {
   "cell_type": "markdown",
   "id": "e58d3b49-76c1-46e2-839b-d93efc696076",
   "metadata": {},
   "source": [
    "## Session 2 - 24 Feb 2022\n",
    "LWirjowerdojo - PYTN071ONL010"
   ]
  },
  {
   "cell_type": "markdown",
   "id": "7c3c8443-ffb3-4fc6-9ff3-8cfbaa187668",
   "metadata": {},
   "source": [
    "# Condition\n",
    "Using if function to get true or false\n",
    "- If\n",
    "- While"
   ]
  },
  {
   "cell_type": "markdown",
   "id": "fd825998-8317-484b-abc6-fc432eb06f77",
   "metadata": {},
   "source": [
    "### If statement\n",
    "if (expression):\n",
    "    command code (could be >1 line)"
   ]
  },
  {
   "cell_type": "code",
   "execution_count": 1,
   "id": "bed80d13-82fa-4023-89e1-67b0eaa1930f",
   "metadata": {},
   "outputs": [
    {
     "data": {
      "text/plain": [
       "True"
      ]
     },
     "execution_count": 1,
     "metadata": {},
     "output_type": "execute_result"
    }
   ],
   "source": [
    "# Is there an apple on this list\n",
    "fruit=['apple','mango']\n",
    "'apple' in fruit"
   ]
  },
  {
   "cell_type": "code",
   "execution_count": 2,
   "id": "ee3c7131-c1e3-4949-be1e-2724cfa04842",
   "metadata": {},
   "outputs": [
    {
     "name": "stdout",
     "output_type": "stream",
     "text": [
      "Apple is on the list\n"
     ]
    }
   ],
   "source": [
    "# Using if function\n",
    "if ('apple' in fruit):\n",
    "    print(\"Apple is on the list\")"
   ]
  },
  {
   "cell_type": "code",
   "execution_count": 4,
   "id": "2ebb8654-bbad-4726-a56d-5a0af66b2fa8",
   "metadata": {},
   "outputs": [
    {
     "name": "stdout",
     "output_type": "stream",
     "text": [
      "banana is NOT on the list\n"
     ]
    }
   ],
   "source": [
    "# Using if function\n",
    "item='banana'\n",
    "if ('item' in fruit):\n",
    "    print(item +\" is on the list\")\n",
    "else:\n",
    "    print(item + \" is NOT on the list\")"
   ]
  },
  {
   "cell_type": "code",
   "execution_count": 5,
   "id": "44d3d767-7bc8-43f6-a2a4-591b60aa631c",
   "metadata": {},
   "outputs": [
    {
     "name": "stdout",
     "output_type": "stream",
     "text": [
      "10\n"
     ]
    }
   ],
   "source": [
    "# value check\n",
    "a=10\n",
    "if (a):\n",
    "    print(a)"
   ]
  },
  {
   "cell_type": "markdown",
   "id": "5e05ab89-9623-4d13-bdfc-f4e393321576",
   "metadata": {},
   "source": [
    "## Else statement\n",
    "Shall the if condition is false, other command will proceed"
   ]
  },
  {
   "cell_type": "code",
   "execution_count": 7,
   "id": "5ae4dcec-619b-43f3-8596-f3d7469b6ce5",
   "metadata": {},
   "outputs": [
    {
     "name": "stdout",
     "output_type": "stream",
     "text": [
      "Insufficient\n",
      "Need:  30000\n"
     ]
    }
   ],
   "source": [
    "money = 20000\n",
    "price = 50000\n",
    "\n",
    "if (money>=price):\n",
    "    print(\"Sufficient\")\n",
    "    print(\"Pay\")\n",
    "    change=price-money\n",
    "    print(\"Change:\", change)\n",
    "else:\n",
    "    print(\"Insufficient\")\n",
    "    need=price-money\n",
    "    print(\"Need: \", need)"
   ]
  },
  {
   "cell_type": "code",
   "execution_count": 12,
   "id": "16212175-ef32-4100-a8cb-951c98b3b14a",
   "metadata": {},
   "outputs": [
    {
     "name": "stdout",
     "output_type": "stream",
     "text": [
      "You get C\n"
     ]
    }
   ],
   "source": [
    "score=75\n",
    "\n",
    "if score == 100:\n",
    "    print(\"You get an A\")\n",
    "else:\n",
    "    # 90 - 99 -> B\n",
    "    if score <= 99 & score >= 90:\n",
    "        print(\"You get B\")\n",
    "    else:\n",
    "        # 50 - 90 -> C\n",
    "        if score >=50 & score <90:\n",
    "            print(\"You get C\")\n",
    "        else:\n",
    "            if score <50:\n",
    "                print(\"You get D\")"
   ]
  },
  {
   "cell_type": "markdown",
   "id": "169e2f5d-47a1-4688-8aaa-5b8453cdc522",
   "metadata": {},
   "source": [
    "### Elif\n",
    "- Combination of else and if, if the first statement is false, we check the elif(s)\n",
    "- Recommended to be used only for a single theme (example below is grading system)"
   ]
  },
  {
   "cell_type": "code",
   "execution_count": 26,
   "id": "1fd7c80c-2f1b-420a-bb71-9f59ecdede66",
   "metadata": {},
   "outputs": [
    {
     "name": "stdout",
     "output_type": "stream",
     "text": [
      "You get C\n"
     ]
    }
   ],
   "source": [
    "score = 50\n",
    "if score == 100:\n",
    "    print(\"You get an A!\")\n",
    "elif score <= 99 & score>=90:\n",
    "    print(\"You get B\")\n",
    "elif (score <90) & (score >=50):\n",
    "    print(\"You get C\")\n",
    "else:\n",
    "    print(\"You get D\")"
   ]
  },
  {
   "cell_type": "code",
   "execution_count": 20,
   "id": "89a767cb-5f49-4a74-9072-6d07ffd55455",
   "metadata": {},
   "outputs": [
    {
     "name": "stdout",
     "output_type": "stream",
     "text": [
      "Old enough to buy the ticket\n",
      "You may buy the ticket\n"
     ]
    }
   ],
   "source": [
    "# Age check\n",
    "# Money check\n",
    "age=20\n",
    "balance=200000\n",
    "price=200000\n",
    "\n",
    "if(age >= 17):\n",
    "    print(\"Old enough to buy the ticket\")\n",
    "    if (balance >= price):\n",
    "        print(\"You may buy the ticket\")\n",
    "    else:\n",
    "        print(\"Insufficient balance\")\n",
    "else:\n",
    "    print(\"Not old enough\")"
   ]
  },
  {
   "cell_type": "code",
   "execution_count": 28,
   "id": "8635f26c-effd-4d82-8c58-6d9313d2a734",
   "metadata": {},
   "outputs": [
    {
     "name": "stdout",
     "output_type": "stream",
     "text": [
      "You may buy the ticket\n"
     ]
    }
   ],
   "source": [
    "# Alternative\n",
    "age=20\n",
    "balance=200000\n",
    "price=200000\n",
    "\n",
    "if (age>=17) & (balance>=price):\n",
    "    print(\"You may buy the ticket\")\n",
    "elif (age<17) & (balance>=price):\n",
    "    print(\"You are not old enough\")\n",
    "elif (age>17) & (balance<price):\n",
    "    print(\"You don't have enough money\")\n",
    "else:\n",
    "    print(\"You are not old enough and don't have enough money\")"
   ]
  },
  {
   "cell_type": "markdown",
   "id": "515e4a53-2180-4bef-ade0-d6ac9c7a1d25",
   "metadata": {},
   "source": [
    "### One line if statement"
   ]
  },
  {
   "cell_type": "code",
   "execution_count": 30,
   "id": "73d73f80-3b18-496d-9960-e4598bd43dc5",
   "metadata": {},
   "outputs": [
    {
     "name": "stdout",
     "output_type": "stream",
     "text": [
      "Hi,  Susan !\n"
     ]
    }
   ],
   "source": [
    "name=\"Susan\"\n",
    "if (name==\"Susan\"):\n",
    "    print(\"Hi, \", name)"
   ]
  },
  {
   "cell_type": "code",
   "execution_count": 31,
   "id": "16ae102d-d49d-492e-bc52-d6d39768abf4",
   "metadata": {},
   "outputs": [
    {
     "name": "stdout",
     "output_type": "stream",
     "text": [
      "Hi,  Susan\n",
      "Good morning!\n"
     ]
    }
   ],
   "source": [
    "name=\"Susan\"\n",
    "if (name==\"Susan\"):\n",
    "    print(\"Hi, \", name)\n",
    "    print(\"Good morning!\")"
   ]
  },
  {
   "cell_type": "code",
   "execution_count": 32,
   "id": "7da36aa2-40a4-415f-980a-d4f30242a93d",
   "metadata": {},
   "outputs": [
    {
     "name": "stdout",
     "output_type": "stream",
     "text": [
      "Hi  Susan\n",
      "Good morning!\n"
     ]
    }
   ],
   "source": [
    "# Alternative\n",
    "if (name==\"Susan\"): print(\"Hi \", name); print(\"Good morning!\")"
   ]
  },
  {
   "cell_type": "code",
   "execution_count": 33,
   "id": "e8e2b83b-19df-4bcb-9458-3ec51e601774",
   "metadata": {},
   "outputs": [
    {
     "name": "stdout",
     "output_type": "stream",
     "text": [
      "Hi,  Susan\n"
     ]
    }
   ],
   "source": [
    "name=\"Susan\"\n",
    "if (name==\"Susan\"):\n",
    "    print(\"Hi, \", name)\n",
    "elif (name==\"Andi\"):\n",
    "    print(\"Hey!\")\n",
    "else:\n",
    "    print(\"Morning!\")"
   ]
  },
  {
   "cell_type": "code",
   "execution_count": 36,
   "id": "696bb31e-59a1-436f-9d27-b3fbf162a1d1",
   "metadata": {},
   "outputs": [
    {
     "name": "stdout",
     "output_type": "stream",
     "text": [
      "Hey!\n"
     ]
    }
   ],
   "source": [
    "# One line\n",
    "name=\"Andi\"\n",
    "if (name==\"Susan\"): print(\"Hi, \", name)\n",
    "elif (name==\"Andi\"): print(\"Hey!\")\n",
    "else: print(\"Morning!\")"
   ]
  },
  {
   "cell_type": "markdown",
   "id": "6973d53f-c7e4-4799-8c60-d94ef8e688bb",
   "metadata": {},
   "source": [
    "### Ternary - simple if function (one line)"
   ]
  },
  {
   "cell_type": "code",
   "execution_count": 38,
   "id": "4bd2339a-fa35-452e-9708-d4bf58935924",
   "metadata": {},
   "outputs": [
    {
     "name": "stdout",
     "output_type": "stream",
     "text": [
      "bring umbrella\n"
     ]
    }
   ],
   "source": [
    "# If it rains, we have to bring an umbrella, otherwise we don't have to\n",
    "weather=\"rain\"\n",
    "if (weather==\"rain\"):\n",
    "    print(\"bring umbrella\")\n",
    "else:\n",
    "    print(\"don't need an umbrella\")\n"
   ]
  },
  {
   "cell_type": "code",
   "execution_count": 41,
   "id": "651271de-05f0-4c3a-8784-69ae30e2842e",
   "metadata": {},
   "outputs": [
    {
     "name": "stdout",
     "output_type": "stream",
     "text": [
      "bring the umbrella\n"
     ]
    }
   ],
   "source": [
    "# Ternary version\n",
    "print(\"bring the umbrella\" if weather==\"rain\" else \"no need for an umbrella\")\n",
    "# left = if the statement is true, otherwise right expression is chosen"
   ]
  },
  {
   "cell_type": "code",
   "execution_count": 42,
   "id": "e596826a-33fc-49b1-b261-1e210727739b",
   "metadata": {},
   "outputs": [],
   "source": [
    "# Ternary - variable version\n",
    "result= \"bring the umbrella\" if weather==\"rain\" else \"no need for an umbrella\""
   ]
  },
  {
   "cell_type": "code",
   "execution_count": 49,
   "id": "61c59d02-53ed-496d-a16e-dceeff594508",
   "metadata": {},
   "outputs": [
    {
     "name": "stdout",
     "output_type": "stream",
     "text": [
      "B\n"
     ]
    }
   ],
   "source": [
    "score = 95\n",
    "grade=\"A\" if score == 100 else (\"B\" if (score <= 99) & (score >90) else (\"C\" if (score >= 50) & (score <90) else \"D\"))\n",
    "print(grade)"
   ]
  },
  {
   "cell_type": "code",
   "execution_count": 43,
   "id": "380ec16d-9612-4f4a-be11-8c17f411f113",
   "metadata": {},
   "outputs": [
    {
     "data": {
      "text/plain": [
       "'bring the umbrella'"
      ]
     },
     "execution_count": 43,
     "metadata": {},
     "output_type": "execute_result"
    }
   ],
   "source": [
    "result"
   ]
  },
  {
   "cell_type": "markdown",
   "id": "8967470e-7abf-43ab-9f03-6e4c9bebe84b",
   "metadata": {},
   "source": [
    "### Pass statement\n",
    "If we create an if statement/loop, but haven't decided on what to do next"
   ]
  },
  {
   "cell_type": "code",
   "execution_count": 44,
   "id": "a45a96f8-4db4-436a-b9a0-0a6835c726cc",
   "metadata": {},
   "outputs": [],
   "source": [
    "# When the weather is good, we would want to do something\n",
    "if (weather == \"sunny\"):\n",
    "    pass\n",
    "elif (weather == \"rain\"):\n",
    "    pass\n",
    "else:\n",
    "    print(\"natural disaster occurs\")"
   ]
  },
  {
   "cell_type": "markdown",
   "id": "80a34556-ed83-4db5-a547-0f95311c119f",
   "metadata": {},
   "source": [
    "## Practice\n",
    "- Diberikan 2 variable, tinggi dan uang\n",
    "- Buat statement utk orang tersebut bisa naik roller coaster/tidak\n",
    "- Tinggi minimal 120\n",
    "- Uang minimal 30000"
   ]
  },
  {
   "cell_type": "code",
   "execution_count": 53,
   "id": "6fbd83a4-6e24-4996-977d-9e4c98846d95",
   "metadata": {},
   "outputs": [
    {
     "name": "stdout",
     "output_type": "stream",
     "text": [
      "tidak bisa naik roller coaster karena tinggi dan uang tidak cukup\n"
     ]
    }
   ],
   "source": [
    "tinggi=100\n",
    "uang=18000\n",
    "\n",
    "if (tinggi>=120) & (uang>=30000):\n",
    "    print(\"bisa naik roller coaster\")\n",
    "elif (tinggi<120) & (uang>=30000):\n",
    "    print(\"tidak bisa naik roller coaster karena tinggi kurang\")\n",
    "elif (tinggi>=120) & (uang<30000):\n",
    "    print(\"tidak bisa naik roller coaster karena uang tidak cukup\")\n",
    "else:\n",
    "    print(\"tidak bisa naik roller coaster karena tinggi dan uang tidak cukup\")"
   ]
  },
  {
   "cell_type": "code",
   "execution_count": 55,
   "id": "e37a4929-41ab-47ba-ba6e-35bfda7d3cfd",
   "metadata": {},
   "outputs": [
    {
     "name": "stdout",
     "output_type": "stream",
     "text": [
      "height is sufficient\n",
      "but you don't have enough money to ride\n"
     ]
    }
   ],
   "source": [
    "# Alternative\n",
    "# requirement\n",
    "minheight=120\n",
    "fee=30000\n",
    "\n",
    "# condition\n",
    "height=150\n",
    "money=25000\n",
    "\n",
    "if (height>=minheight):\n",
    "    print(\"height is sufficient\")\n",
    "    \n",
    "    if(money>=fee):\n",
    "        print(\"you may ride the roller coaster\")\n",
    "    else:\n",
    "        print(\"but you don't have enough money to ride\")\n",
    "else:\n",
    "    print(\"height is not sufficient\")"
   ]
  },
  {
   "cell_type": "markdown",
   "id": "eb5385b2-24bf-4617-9c2f-0df89595339c",
   "metadata": {},
   "source": [
    "### Iteration"
   ]
  },
  {
   "cell_type": "code",
   "execution_count": 56,
   "id": "6b74c87f-858e-4994-b61e-63942f95a33a",
   "metadata": {},
   "outputs": [
    {
     "name": "stdout",
     "output_type": "stream",
     "text": [
      "red dress\n",
      "yellow tshirt\n",
      "blue jeans\n"
     ]
    }
   ],
   "source": [
    "clotheslist=[\"red dress\", \"yellow tshirt\", \"blue jeans\"]\n",
    "\n",
    "# for every clothes within the list\n",
    "for clothes in clotheslist:\n",
    "    print(clothes)"
   ]
  },
  {
   "cell_type": "markdown",
   "id": "3501ae89-4fe3-4e86-bb2b-67da27abeaa8",
   "metadata": {},
   "source": [
    "### When using WHILE loop, ensure that the condition will yield to a false condition (must be within the while loop)"
   ]
  },
  {
   "cell_type": "code",
   "execution_count": 59,
   "id": "1369d195-b4e1-4e3e-9fd5-9ac7b38f8d97",
   "metadata": {},
   "outputs": [
    {
     "name": "stdout",
     "output_type": "stream",
     "text": [
      "can't ride the roller coaster\n",
      "outside of loop\n"
     ]
    }
   ],
   "source": [
    "# if height is below the min. height \n",
    "height = 115\n",
    "while (height <120):\n",
    "    print(\"can't ride the roller coaster\")\n",
    "    height = 120\n",
    "print(\"outside of loop\")"
   ]
  },
  {
   "cell_type": "code",
   "execution_count": 61,
   "id": "be01de56-a7b3-4c1b-9289-b007c1452a62",
   "metadata": {},
   "outputs": [
    {
     "name": "stdout",
     "output_type": "stream",
     "text": [
      "1\n",
      "2\n",
      "3\n",
      "4\n",
      "5\n",
      "6\n",
      "7\n",
      "8\n",
      "9\n",
      "10\n"
     ]
    }
   ],
   "source": [
    "counter=1\n",
    "while (counter<=10):\n",
    "    print(counter)\n",
    "    counter=counter+1"
   ]
  },
  {
   "cell_type": "code",
   "execution_count": 65,
   "id": "6b1657a4-5554-4392-bca0-b78a47c7f8b3",
   "metadata": {},
   "outputs": [
    {
     "name": "stdout",
     "output_type": "stream",
     "text": [
      "1\n",
      "3\n",
      "5\n",
      "7\n",
      "9\n"
     ]
    }
   ],
   "source": [
    "# Alternative\n",
    "counter=1\n",
    "while (counter<=10):\n",
    "    print(counter)\n",
    "    counter+=2 #ALternative to add the number"
   ]
  },
  {
   "cell_type": "markdown",
   "id": "fe4706bc-54cb-4a9b-97d9-8d194d4d90ff",
   "metadata": {},
   "source": [
    "## For\n",
    "- list\n",
    "- tuple\n",
    "- dictionary\n",
    "- range\n",
    "-"
   ]
  },
  {
   "cell_type": "markdown",
   "id": "42270863-e8b1-4389-a7a5-b984ccc21ffe",
   "metadata": {},
   "source": [
    "### Break and continue\n",
    "- break - to stop the loop\n",
    "- continue - to continue the loop"
   ]
  },
  {
   "cell_type": "code",
   "execution_count": 68,
   "id": "c204d9a9-6ee4-46be-9e96-e0088fe04c23",
   "metadata": {},
   "outputs": [
    {
     "name": "stdout",
     "output_type": "stream",
     "text": [
      "1\n",
      "2\n",
      "3\n",
      "4\n",
      "5\n",
      "6\n",
      "8\n",
      "9\n",
      "10\n"
     ]
    }
   ],
   "source": [
    "# from 1-10, 7 will be skipped\n",
    "counter = 0\n",
    "while(counter < 10):\n",
    "    counter+=1\n",
    "    if (counter==7):\n",
    "        continue\n",
    "    print(counter)\n"
   ]
  },
  {
   "cell_type": "code",
   "execution_count": 77,
   "id": "a090a05f-2d6c-4023-8c3d-c8c29a2c9b9c",
   "metadata": {},
   "outputs": [
    {
     "name": "stdout",
     "output_type": "stream",
     "text": [
      "2\n",
      "3\n",
      "4\n",
      "5\n",
      "6\n",
      "7\n",
      "8\n",
      "9\n",
      "10\n"
     ]
    }
   ],
   "source": [
    "# from 1-10, 5 will be stopped\n",
    "number=1\n",
    "while (number<10):\n",
    "    number+=1\n",
    "    if(counter==5):\n",
    "        break\n",
    "    print(number)"
   ]
  },
  {
   "cell_type": "code",
   "execution_count": 74,
   "id": "d6db326f-9049-46b8-85e7-1ed1f0d1af3f",
   "metadata": {},
   "outputs": [
    {
     "name": "stdout",
     "output_type": "stream",
     "text": [
      "1\n",
      "2\n",
      "3\n",
      "4\n",
      "5\n",
      "6\n",
      "7\n",
      "8\n",
      "9\n",
      "10\n",
      "False\n",
      "Goes beyond the value, 11\n"
     ]
    }
   ],
   "source": [
    "counter =1\n",
    "while (counter<=10):\n",
    "    print(counter)\n",
    "    counter+=1\n",
    "else:\n",
    "    print(counter<=10)\n",
    "    print(\"Goes beyond the value,\", counter)"
   ]
  },
  {
   "cell_type": "markdown",
   "id": "a1e28664-85cf-4447-a4d3-0cf94b89a26d",
   "metadata": {},
   "source": [
    "### Nested\n",
    "- nested if\n",
    "- nested loop"
   ]
  },
  {
   "cell_type": "code",
   "execution_count": 80,
   "id": "49daa595-afa2-4dfb-94d8-eb98290d649a",
   "metadata": {},
   "outputs": [
    {
     "name": "stdout",
     "output_type": "stream",
     "text": [
      "above 20\n",
      "but above 10\n"
     ]
    }
   ],
   "source": [
    "n = 100\n",
    "if (n>10):\n",
    "    if (n>20):\n",
    "        print(\"above 20\")\n",
    "    print(\"but above 10\")"
   ]
  },
  {
   "cell_type": "code",
   "execution_count": 82,
   "id": "541d4187-db0e-47f5-b05e-cf54b80f7372",
   "metadata": {},
   "outputs": [
    {
     "name": "stdout",
     "output_type": "stream",
     "text": [
      "but above 10 100\n",
      "above 20 90\n",
      "above 20 70\n",
      "above 20 50\n",
      "above 20 30\n"
     ]
    }
   ],
   "source": [
    "n = 100\n",
    "while (n>10):\n",
    "    print(\"but above 10\", n)\n",
    "    n-=10\n",
    "    while (n>20):\n",
    "        print(\"above 20\", n)\n",
    "        n-=20"
   ]
  },
  {
   "cell_type": "markdown",
   "id": "98221dfd-a5af-4113-a27a-d15ee00c87d6",
   "metadata": {},
   "source": [
    "### One line while loop"
   ]
  },
  {
   "cell_type": "code",
   "execution_count": 83,
   "id": "2fad06de-e2f5-471e-ba2e-83400c11b35b",
   "metadata": {},
   "outputs": [
    {
     "name": "stdout",
     "output_type": "stream",
     "text": [
      "1\n",
      "2\n",
      "3\n",
      "4\n",
      "5\n",
      "6\n",
      "7\n",
      "8\n",
      "9\n",
      "10\n"
     ]
    }
   ],
   "source": [
    "counter =1\n",
    "while (counter<=10): print(counter); counter+=1"
   ]
  },
  {
   "cell_type": "code",
   "execution_count": 84,
   "id": "db0173fd-f5c0-4f60-b51f-789650ef3748",
   "metadata": {},
   "outputs": [
    {
     "name": "stdout",
     "output_type": "stream",
     "text": [
      "a\n",
      "123\n",
      "21.3\n",
      "True\n",
      "[]\n"
     ]
    }
   ],
   "source": [
    "randomlist=[\"a\", 123, 21.3, True, []]\n",
    "for item in randomlist:\n",
    "    print(item)"
   ]
  },
  {
   "cell_type": "code",
   "execution_count": 89,
   "id": "bd996246-42af-451d-bdc2-0fa89856f997",
   "metadata": {},
   "outputs": [
    {
     "name": "stdout",
     "output_type": "stream",
     "text": [
      "12\n",
      "45\n",
      "76\n",
      "90\n"
     ]
    }
   ],
   "source": [
    "# tuple\n",
    "tuple_val=(12, 45, 76, 90)\n",
    "\n",
    "for value in tuple_val:\n",
    "    print(value)"
   ]
  },
  {
   "cell_type": "code",
   "execution_count": 98,
   "id": "adb164e2-23c8-42b8-a3a9-1175fc4a7dae",
   "metadata": {},
   "outputs": [
    {
     "name": "stdout",
     "output_type": "stream",
     "text": [
      "name\n",
      "age\n",
      "hobbies\n"
     ]
    }
   ],
   "source": [
    "# dictionary\n",
    "A={\"name\": \"A\", \n",
    "   \"age\": 24,\n",
    "   \"hobbies\": [\"sleeping\", \"programming\"]\n",
    "  }\n",
    "for attribute in A.keys(): # to print the key(s)\n",
    "    print(attribute)"
   ]
  },
  {
   "cell_type": "code",
   "execution_count": 101,
   "id": "508f760a-1450-493f-8f44-603f1308af22",
   "metadata": {},
   "outputs": [
    {
     "name": "stdout",
     "output_type": "stream",
     "text": [
      "A\n",
      "24\n",
      "['sleeping', 'programming']\n"
     ]
    }
   ],
   "source": [
    "for val in A.values(): # to print the values\n",
    "    print(val)"
   ]
  },
  {
   "cell_type": "code",
   "execution_count": 102,
   "id": "c078958c-f58b-44d8-b761-17c0d42ec271",
   "metadata": {},
   "outputs": [
    {
     "name": "stdout",
     "output_type": "stream",
     "text": [
      "('name', 'A')\n",
      "('age', 24)\n",
      "('hobbies', ['sleeping', 'programming'])\n"
     ]
    }
   ],
   "source": [
    "for item in A.items(): # to print the items\n",
    "    print(item)"
   ]
  },
  {
   "cell_type": "code",
   "execution_count": 112,
   "id": "435f03dc-aeca-45b3-9c9a-610ed9a92a56",
   "metadata": {},
   "outputs": [
    {
     "name": "stdout",
     "output_type": "stream",
     "text": [
      "name is A\n",
      "age is 24\n",
      "hobbies is ['sleeping', 'programming']\n"
     ]
    }
   ],
   "source": [
    "A={\"name\": \"A\", \n",
    "   \"age\": 24,\n",
    "   \"hobbies\": [\"sleeping\", \"programming\"]\n",
    "  }\n",
    "for key in A.keys():\n",
    "    print(key, \"is\", A[key])"
   ]
  },
  {
   "cell_type": "markdown",
   "id": "6ac21183-08aa-477f-aab4-15d3af5f35e8",
   "metadata": {},
   "source": [
    "### Range\n",
    "numbers in order"
   ]
  },
  {
   "cell_type": "code",
   "execution_count": 113,
   "id": "e8aba61d-0533-4ad4-b8fc-8ee4cd761ee6",
   "metadata": {},
   "outputs": [
    {
     "data": {
      "text/plain": [
       "range(0, 10)"
      ]
     },
     "execution_count": 113,
     "metadata": {},
     "output_type": "execute_result"
    }
   ],
   "source": [
    "# create a range of 10 numbers\n",
    "range(10)"
   ]
  },
  {
   "cell_type": "code",
   "execution_count": 114,
   "id": "59a5fcc4-ade4-47dd-9444-cb62886b1996",
   "metadata": {},
   "outputs": [
    {
     "name": "stdout",
     "output_type": "stream",
     "text": [
      "0\n",
      "1\n",
      "2\n",
      "3\n",
      "4\n",
      "5\n",
      "6\n",
      "7\n",
      "8\n",
      "9\n"
     ]
    }
   ],
   "source": [
    "for no in range(10): # value up to 10\n",
    "    print(no)"
   ]
  },
  {
   "cell_type": "code",
   "execution_count": 117,
   "id": "16843ed5-9422-4064-88a1-1ce2d4efede5",
   "metadata": {},
   "outputs": [
    {
     "data": {
      "text/plain": [
       "range(75, 101)"
      ]
     },
     "execution_count": 117,
     "metadata": {},
     "output_type": "execute_result"
    }
   ],
   "source": [
    "# alternative\n",
    "range(75,101)"
   ]
  },
  {
   "cell_type": "code",
   "execution_count": 119,
   "id": "5537a249-215f-481c-80b5-23c92a37cb97",
   "metadata": {},
   "outputs": [
    {
     "name": "stdout",
     "output_type": "stream",
     "text": [
      "75\n",
      "76\n",
      "77\n",
      "78\n",
      "79\n",
      "80\n",
      "81\n",
      "82\n",
      "83\n",
      "84\n",
      "85\n",
      "86\n",
      "87\n",
      "88\n",
      "89\n",
      "90\n",
      "91\n",
      "92\n",
      "93\n",
      "94\n",
      "95\n",
      "96\n",
      "97\n",
      "98\n",
      "99\n",
      "100\n"
     ]
    }
   ],
   "source": [
    "for ran in range(75,101):\n",
    "    print(ran)"
   ]
  },
  {
   "cell_type": "code",
   "execution_count": 122,
   "id": "44403b63-9308-45eb-8437-3b25cc40bdcb",
   "metadata": {},
   "outputs": [
    {
     "data": {
      "text/plain": [
       "range(2, 100, 2)"
      ]
     },
     "execution_count": 122,
     "metadata": {},
     "output_type": "execute_result"
    }
   ],
   "source": [
    "# within range, the step can be >1\n",
    "# example: even number within 1-100 (up to 99)\n",
    "range(2,100,2)"
   ]
  },
  {
   "cell_type": "code",
   "execution_count": 121,
   "id": "04823467-6155-42cb-a38c-830ea06cea6d",
   "metadata": {},
   "outputs": [
    {
     "data": {
      "text/plain": [
       "range"
      ]
     },
     "execution_count": 121,
     "metadata": {},
     "output_type": "execute_result"
    }
   ],
   "source": [
    "range"
   ]
  },
  {
   "cell_type": "code",
   "execution_count": 123,
   "id": "fa22f2d2-0f58-4494-82e7-9dcfdb117d3b",
   "metadata": {},
   "outputs": [
    {
     "name": "stdout",
     "output_type": "stream",
     "text": [
      "2\n",
      "4\n",
      "6\n",
      "8\n",
      "10\n",
      "12\n",
      "14\n",
      "16\n",
      "18\n",
      "20\n",
      "22\n",
      "24\n",
      "26\n",
      "28\n",
      "30\n",
      "32\n",
      "34\n",
      "36\n",
      "38\n",
      "40\n",
      "42\n",
      "44\n",
      "46\n",
      "48\n",
      "50\n",
      "52\n",
      "54\n",
      "56\n",
      "58\n",
      "60\n",
      "62\n",
      "64\n",
      "66\n",
      "68\n",
      "70\n",
      "72\n",
      "74\n",
      "76\n",
      "78\n",
      "80\n",
      "82\n",
      "84\n",
      "86\n",
      "88\n",
      "90\n",
      "92\n",
      "94\n",
      "96\n",
      "98\n"
     ]
    }
   ],
   "source": [
    "for r in range(2,100,2):\n",
    "    print(r)"
   ]
  },
  {
   "cell_type": "code",
   "execution_count": 125,
   "id": "d3bd1874-c231-449e-b566-08acc6bebced",
   "metadata": {},
   "outputs": [
    {
     "name": "stdout",
     "output_type": "stream",
     "text": [
      "25\n",
      "30\n",
      "35\n",
      "40\n",
      "45\n",
      "50\n",
      "55\n"
     ]
    }
   ],
   "source": [
    "# multiplication of from 25 to 60\n",
    "for a in range(25, 60, 5):\n",
    "    print(a)"
   ]
  },
  {
   "cell_type": "code",
   "execution_count": 127,
   "id": "dc9d8ea1-73c3-49f5-9078-1328ed3b1026",
   "metadata": {},
   "outputs": [
    {
     "name": "stdout",
     "output_type": "stream",
     "text": [
      "3\n",
      "2\n",
      "1\n"
     ]
    }
   ],
   "source": [
    "# reversed order\n",
    "for a in range(3,0,-1):\n",
    "    print(a)"
   ]
  },
  {
   "cell_type": "markdown",
   "id": "bcda95fa-eb06-4d7f-af04-03923401b77c",
   "metadata": {},
   "source": [
    "### String loop"
   ]
  },
  {
   "cell_type": "code",
   "execution_count": 128,
   "id": "292e7cc8-7f21-486d-8877-c039ef305299",
   "metadata": {},
   "outputs": [
    {
     "name": "stdout",
     "output_type": "stream",
     "text": [
      "I\n",
      " \n",
      "l\n",
      "o\n",
      "v\n",
      "e\n",
      " \n",
      "P\n",
      "y\n",
      "t\n",
      "h\n",
      "o\n",
      "n\n",
      "!\n"
     ]
    }
   ],
   "source": [
    "msg=\"I love Python!\"\n",
    "# print every character\n",
    "for k in msg:\n",
    "    print(k)"
   ]
  },
  {
   "cell_type": "code",
   "execution_count": 134,
   "id": "8cd5ad92-4d71-47a2-a0f7-43784fe69545",
   "metadata": {},
   "outputs": [
    {
     "name": "stdout",
     "output_type": "stream",
     "text": [
      "I\n",
      " \n",
      "l\n",
      "o\n",
      "v\n",
      "e\n",
      " \n",
      "ping!\n",
      "y\n",
      "t\n",
      "h\n",
      "o\n",
      "n\n",
      "!\n"
     ]
    }
   ],
   "source": [
    "# if we encounter P, print \"ping!\"\n",
    "for k in msg:\n",
    "    if (k==\"P\"):\n",
    "        print(\"ping!\")\n",
    "        continue\n",
    "    print(k)"
   ]
  },
  {
   "cell_type": "code",
   "execution_count": 135,
   "id": "6b6065a2-dd92-4bfd-a26d-14e946b0308c",
   "metadata": {},
   "outputs": [
    {
     "name": "stdout",
     "output_type": "stream",
     "text": [
      "I\n",
      " \n",
      "l\n",
      "o\n",
      "v\n",
      "e\n",
      " \n",
      "P\n",
      "ping!\n",
      "y\n",
      "t\n",
      "h\n",
      "o\n",
      "n\n",
      "!\n"
     ]
    }
   ],
   "source": [
    "# if we encounter P, print \"ping!\"\n",
    "for k in msg:\n",
    "    print(k)\n",
    "    if (k==\"P\"):\n",
    "        print(\"ping!\")\n"
   ]
  },
  {
   "cell_type": "markdown",
   "id": "180a9194-6cdf-4b19-9419-69a3f638c0dd",
   "metadata": {},
   "source": [
    "### Input\n",
    "ask for an input"
   ]
  },
  {
   "cell_type": "code",
   "execution_count": 136,
   "id": "fb9a3443-8969-4599-b39a-98bde1c2b369",
   "metadata": {},
   "outputs": [
    {
     "name": "stdin",
     "output_type": "stream",
     "text": [
      " hai\n"
     ]
    },
    {
     "data": {
      "text/plain": [
       "'hai'"
      ]
     },
     "execution_count": 136,
     "metadata": {},
     "output_type": "execute_result"
    }
   ],
   "source": [
    "input()"
   ]
  },
  {
   "cell_type": "code",
   "execution_count": 138,
   "id": "83f6f5fb-5d0d-4149-8389-fbabe445d5c3",
   "metadata": {},
   "outputs": [
    {
     "name": "stdin",
     "output_type": "stream",
     "text": [
      " as\n",
      " sf\n",
      " ck\n"
     ]
    }
   ],
   "source": [
    "# asking for an input to a loop\n",
    "n = 0\n",
    "while (n<3):\n",
    "    input()\n",
    "    n +=1"
   ]
  },
  {
   "cell_type": "code",
   "execution_count": 139,
   "id": "fcb173d7-a91a-4174-b5fa-40a0d78add79",
   "metadata": {},
   "outputs": [
    {
     "name": "stdin",
     "output_type": "stream",
     "text": [
      "Kindly input a value for the 0th iteration 2\n"
     ]
    },
    {
     "name": "stdout",
     "output_type": "stream",
     "text": [
      "2\n"
     ]
    },
    {
     "name": "stdin",
     "output_type": "stream",
     "text": [
      "Kindly input a value for the 1th iteration 4\n"
     ]
    },
    {
     "name": "stdout",
     "output_type": "stream",
     "text": [
      "4\n"
     ]
    },
    {
     "name": "stdin",
     "output_type": "stream",
     "text": [
      "Kindly input a value for the 2th iteration 5\n"
     ]
    },
    {
     "name": "stdout",
     "output_type": "stream",
     "text": [
      "5\n"
     ]
    }
   ],
   "source": [
    "# asking for an input to a loop\n",
    "n = 0\n",
    "while (n<3):\n",
    "    msg=input(\"Kindly input a value for the \" + str(n)+ \"th iteration\")\n",
    "    print(msg)\n",
    "    n +=1"
   ]
  },
  {
   "cell_type": "code",
   "execution_count": 141,
   "id": "3aa7f999-08d4-40c7-9228-24d5c7d677a7",
   "metadata": {},
   "outputs": [
    {
     "name": "stdin",
     "output_type": "stream",
     "text": [
      "Please input a message STO\n",
      "Please input a message STOP\n"
     ]
    }
   ],
   "source": [
    "n=0\n",
    "msg=\"\"\n",
    "while (msg != \"stop\"):\n",
    "    msg=input(\"Please input a message\").lower()"
   ]
  },
  {
   "cell_type": "markdown",
   "id": "528b2bc8-d55e-4ff6-b3fc-55b6a71cee03",
   "metadata": {},
   "source": [
    "Practice:\n",
    "- diberikan sebuah list buah2an \n",
    "- beli buah 1\n",
    "- buah favorit 2\n",
    "- print apa saja yang dibeli"
   ]
  },
  {
   "cell_type": "code",
   "execution_count": 164,
   "id": "b21afe51-1992-4bff-ab7a-def8df289271",
   "metadata": {},
   "outputs": [
    {
     "name": "stdout",
     "output_type": "stream",
     "text": [
      "Beli watermelon sebanyak 1\n",
      "Beli pineapple sebanyak 1\n",
      "Beli mango sebanyak 2\n",
      "Beli banana sebanyak 1\n",
      "Total buah yang dibeli = 5\n"
     ]
    }
   ],
   "source": [
    "list_buah=[\"watermelon\", \"pineapple\", \"mango\", \"banana\"]\n",
    "count=0\n",
    "\n",
    "for buah in list_buah:\n",
    "    if buah == \"mango\":\n",
    "        print(\"Beli\", buah, \"sebanyak 2\")\n",
    "        count+=2\n",
    "        continue\n",
    "    print(\"Beli\", buah, \"sebanyak 1\")\n",
    "    count+=1\n",
    "    \n",
    "print(\"Total buah yang dibeli =\", count)\n"
   ]
  },
  {
   "cell_type": "code",
   "execution_count": 169,
   "id": "dafdbe30-f87f-4960-8d0e-b79cf3cb9029",
   "metadata": {},
   "outputs": [
    {
     "name": "stdout",
     "output_type": "stream",
     "text": [
      "Beli watermelon sebanyak 1\n",
      "Beli pineapple sebanyak 1\n",
      "Beli mango sebanyak 2\n",
      "Beli banana sebanyak 1\n",
      "Total buah yang dibeli = 5\n"
     ]
    }
   ],
   "source": [
    "list_buah=[\"watermelon\", \"pineapple\", \"mango\", \"banana\"]\n",
    "buahfav=\"mango\"\n",
    "count=0\n",
    "\n",
    "for buah in list_buah:\n",
    "    if (buahfav == buah):\n",
    "        print(\"Beli\", buah, \"sebanyak 2\")\n",
    "        count+=2\n",
    "        continue\n",
    "    print(\"Beli\", buah, \"sebanyak 1\")\n",
    "    count+=1\n",
    "    \n",
    "print(\"Total buah yang dibeli =\", count)\n"
   ]
  },
  {
   "cell_type": "code",
   "execution_count": 19,
   "id": "a32ce8d0-67df-42b4-a9e9-cc7a5177f710",
   "metadata": {},
   "outputs": [
    {
     "name": "stdout",
     "output_type": "stream",
     "text": [
      "beli 1 jambu\n",
      "beli 1 mangga\n",
      "beli 1 salak\n",
      "beli 2 apel\n",
      "beli 1 nanas\n"
     ]
    }
   ],
   "source": [
    "listbuah=[\"jambu\", \"mangga\", \"salak\", \"apel\", \"nanas\"]\n",
    "buahfav=\"apel\"\n",
    "n=0\n",
    "\n",
    "while n < len(listbuah):\n",
    "    if buahfav == listbuah[n]:\n",
    "        print(\"beli 2\", listbuah[n])\n",
    "        n+=1\n",
    "    else:\n",
    "        print(\"beli 1\", listbuah[n])\n",
    "        n+=1"
   ]
  },
  {
   "cell_type": "code",
   "execution_count": null,
   "id": "d1e26b42-a9a0-46b4-abed-2641ed0f0804",
   "metadata": {},
   "outputs": [],
   "source": []
  }
 ],
 "metadata": {
  "kernelspec": {
   "display_name": "Python 3 (ipykernel)",
   "language": "python",
   "name": "python3"
  },
  "language_info": {
   "codemirror_mode": {
    "name": "ipython",
    "version": 3
   },
   "file_extension": ".py",
   "mimetype": "text/x-python",
   "name": "python",
   "nbconvert_exporter": "python",
   "pygments_lexer": "ipython3",
   "version": "3.9.7"
  }
 },
 "nbformat": 4,
 "nbformat_minor": 5
}
